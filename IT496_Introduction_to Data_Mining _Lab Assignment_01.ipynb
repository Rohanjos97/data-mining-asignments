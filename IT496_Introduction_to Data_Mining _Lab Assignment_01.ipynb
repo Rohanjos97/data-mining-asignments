{
  "cells": [
    {
      "cell_type": "markdown",
      "metadata": {
        "id": "view-in-github",
        "colab_type": "text"
      },
      "source": [
        "<a href=\"https://colab.research.google.com/github/Rohanjos97/data-mining-asignments/blob/IPL_dataset/IT496_Introduction_to%20Data_Mining%20_Lab%20Assignment_01.ipynb\" target=\"_parent\"><img src=\"https://colab.research.google.com/assets/colab-badge.svg\" alt=\"Open In Colab\"/></a>"
      ]
    },
    {
      "cell_type": "markdown",
      "id": "55f63dae",
      "metadata": {
        "id": "55f63dae"
      },
      "source": [
        "# Dataset Analysis"
      ]
    },
    {
      "cell_type": "markdown",
      "id": "77337d45",
      "metadata": {
        "id": "77337d45"
      },
      "source": [
        "## 1. (T0) Explore the dataset assigned to your team and provide:\n",
        "\n",
        "\n"
      ]
    },
    {
      "cell_type": "code",
      "execution_count": 151,
      "id": "814c8abc",
      "metadata": {
        "id": "814c8abc",
        "colab": {
          "base_uri": "https://localhost:8080/",
          "height": 381
        },
        "outputId": "2424988b-711b-45a3-eb54-5a9aa09bdbb2"
      },
      "outputs": [
        {
          "output_type": "error",
          "ename": "ModuleNotFoundError",
          "evalue": "ignored",
          "traceback": [
            "\u001b[0;31m---------------------------------------------------------------------------\u001b[0m",
            "\u001b[0;31mModuleNotFoundError\u001b[0m                       Traceback (most recent call last)",
            "\u001b[0;32m<ipython-input-151-7bc5172c3e5a>\u001b[0m in \u001b[0;36m<module>\u001b[0;34m\u001b[0m\n\u001b[1;32m      4\u001b[0m \u001b[0;32mimport\u001b[0m \u001b[0mseaborn\u001b[0m \u001b[0;32mas\u001b[0m \u001b[0msns\u001b[0m\u001b[0;34m\u001b[0m\u001b[0;34m\u001b[0m\u001b[0m\n\u001b[1;32m      5\u001b[0m \u001b[0;32mimport\u001b[0m \u001b[0mmatplotlib\u001b[0m\u001b[0;34m.\u001b[0m\u001b[0mpyplot\u001b[0m \u001b[0;32mas\u001b[0m \u001b[0mplt\u001b[0m\u001b[0;34m\u001b[0m\u001b[0;34m\u001b[0m\u001b[0m\n\u001b[0;32m----> 6\u001b[0;31m \u001b[0;32mfrom\u001b[0m \u001b[0mapyori\u001b[0m \u001b[0;32mimport\u001b[0m \u001b[0mapyori\u001b[0m\u001b[0;34m\u001b[0m\u001b[0;34m\u001b[0m\u001b[0m\n\u001b[0m\u001b[1;32m      7\u001b[0m \u001b[0;34m\u001b[0m\u001b[0m\n\u001b[1;32m      8\u001b[0m \u001b[0mget_ipython\u001b[0m\u001b[0;34m(\u001b[0m\u001b[0;34m)\u001b[0m\u001b[0;34m.\u001b[0m\u001b[0mrun_line_magic\u001b[0m\u001b[0;34m(\u001b[0m\u001b[0;34m'matplotlib'\u001b[0m\u001b[0;34m,\u001b[0m \u001b[0;34m'inline'\u001b[0m\u001b[0;34m)\u001b[0m\u001b[0;34m\u001b[0m\u001b[0;34m\u001b[0m\u001b[0m\n",
            "\u001b[0;31mModuleNotFoundError\u001b[0m: No module named 'apyori'",
            "",
            "\u001b[0;31m---------------------------------------------------------------------------\u001b[0;32m\nNOTE: If your import is failing due to a missing package, you can\nmanually install dependencies using either !pip or !apt.\n\nTo view examples of installing some common dependencies, click the\n\"Open Examples\" button below.\n\u001b[0;31m---------------------------------------------------------------------------\u001b[0m\n"
          ],
          "errorDetails": {
            "actions": [
              {
                "action": "open_url",
                "actionText": "Open Examples",
                "url": "/notebooks/snippets/importing_libraries.ipynb"
              }
            ]
          }
        }
      ],
      "source": [
        "# import libraries \n",
        "import pandas as pd\n",
        "import numpy as np\n",
        "import seaborn as sns\n",
        "import matplotlib.pyplot as plt\n",
        "\n",
        "%matplotlib inline"
      ]
    },
    {
      "cell_type": "code",
      "execution_count": 57,
      "id": "88532071",
      "metadata": {
        "colab": {
          "base_uri": "https://localhost:8080/",
          "height": 312
        },
        "id": "88532071",
        "outputId": "6f86eeee-a412-450d-b4c0-33654fcab984"
      },
      "outputs": [
        {
          "output_type": "execute_result",
          "data": {
            "text/plain": [
              "       id  inning  over  ball      batsman  non_striker     bowler  \\\n",
              "0  335982       1     6     5   RT Ponting  BB McCullum  AA Noffke   \n",
              "1  335982       1     6     6  BB McCullum   RT Ponting  AA Noffke   \n",
              "2  335982       1     7     1  BB McCullum   RT Ponting     Z Khan   \n",
              "\n",
              "   batsman_runs  extra_runs  total_runs  non_boundary  is_wicket  \\\n",
              "0             1           0           1             0          0   \n",
              "1             1           0           1             0          0   \n",
              "2             0           0           0             0          0   \n",
              "\n",
              "  dismissal_kind player_dismissed fielder extras_type           batting_team  \\\n",
              "0            NaN              NaN     NaN         NaN  Kolkata Knight Riders   \n",
              "1            NaN              NaN     NaN         NaN  Kolkata Knight Riders   \n",
              "2            NaN              NaN     NaN         NaN  Kolkata Knight Riders   \n",
              "\n",
              "                  bowling_team  \n",
              "0  Royal Challengers Bangalore  \n",
              "1  Royal Challengers Bangalore  \n",
              "2  Royal Challengers Bangalore  "
            ],
            "text/html": [
              "\n",
              "  <div id=\"df-260b5d79-73fe-4306-ab2a-d98174568610\">\n",
              "    <div class=\"colab-df-container\">\n",
              "      <div>\n",
              "<style scoped>\n",
              "    .dataframe tbody tr th:only-of-type {\n",
              "        vertical-align: middle;\n",
              "    }\n",
              "\n",
              "    .dataframe tbody tr th {\n",
              "        vertical-align: top;\n",
              "    }\n",
              "\n",
              "    .dataframe thead th {\n",
              "        text-align: right;\n",
              "    }\n",
              "</style>\n",
              "<table border=\"1\" class=\"dataframe\">\n",
              "  <thead>\n",
              "    <tr style=\"text-align: right;\">\n",
              "      <th></th>\n",
              "      <th>id</th>\n",
              "      <th>inning</th>\n",
              "      <th>over</th>\n",
              "      <th>ball</th>\n",
              "      <th>batsman</th>\n",
              "      <th>non_striker</th>\n",
              "      <th>bowler</th>\n",
              "      <th>batsman_runs</th>\n",
              "      <th>extra_runs</th>\n",
              "      <th>total_runs</th>\n",
              "      <th>non_boundary</th>\n",
              "      <th>is_wicket</th>\n",
              "      <th>dismissal_kind</th>\n",
              "      <th>player_dismissed</th>\n",
              "      <th>fielder</th>\n",
              "      <th>extras_type</th>\n",
              "      <th>batting_team</th>\n",
              "      <th>bowling_team</th>\n",
              "    </tr>\n",
              "  </thead>\n",
              "  <tbody>\n",
              "    <tr>\n",
              "      <th>0</th>\n",
              "      <td>335982</td>\n",
              "      <td>1</td>\n",
              "      <td>6</td>\n",
              "      <td>5</td>\n",
              "      <td>RT Ponting</td>\n",
              "      <td>BB McCullum</td>\n",
              "      <td>AA Noffke</td>\n",
              "      <td>1</td>\n",
              "      <td>0</td>\n",
              "      <td>1</td>\n",
              "      <td>0</td>\n",
              "      <td>0</td>\n",
              "      <td>NaN</td>\n",
              "      <td>NaN</td>\n",
              "      <td>NaN</td>\n",
              "      <td>NaN</td>\n",
              "      <td>Kolkata Knight Riders</td>\n",
              "      <td>Royal Challengers Bangalore</td>\n",
              "    </tr>\n",
              "    <tr>\n",
              "      <th>1</th>\n",
              "      <td>335982</td>\n",
              "      <td>1</td>\n",
              "      <td>6</td>\n",
              "      <td>6</td>\n",
              "      <td>BB McCullum</td>\n",
              "      <td>RT Ponting</td>\n",
              "      <td>AA Noffke</td>\n",
              "      <td>1</td>\n",
              "      <td>0</td>\n",
              "      <td>1</td>\n",
              "      <td>0</td>\n",
              "      <td>0</td>\n",
              "      <td>NaN</td>\n",
              "      <td>NaN</td>\n",
              "      <td>NaN</td>\n",
              "      <td>NaN</td>\n",
              "      <td>Kolkata Knight Riders</td>\n",
              "      <td>Royal Challengers Bangalore</td>\n",
              "    </tr>\n",
              "    <tr>\n",
              "      <th>2</th>\n",
              "      <td>335982</td>\n",
              "      <td>1</td>\n",
              "      <td>7</td>\n",
              "      <td>1</td>\n",
              "      <td>BB McCullum</td>\n",
              "      <td>RT Ponting</td>\n",
              "      <td>Z Khan</td>\n",
              "      <td>0</td>\n",
              "      <td>0</td>\n",
              "      <td>0</td>\n",
              "      <td>0</td>\n",
              "      <td>0</td>\n",
              "      <td>NaN</td>\n",
              "      <td>NaN</td>\n",
              "      <td>NaN</td>\n",
              "      <td>NaN</td>\n",
              "      <td>Kolkata Knight Riders</td>\n",
              "      <td>Royal Challengers Bangalore</td>\n",
              "    </tr>\n",
              "  </tbody>\n",
              "</table>\n",
              "</div>\n",
              "      <button class=\"colab-df-convert\" onclick=\"convertToInteractive('df-260b5d79-73fe-4306-ab2a-d98174568610')\"\n",
              "              title=\"Convert this dataframe to an interactive table.\"\n",
              "              style=\"display:none;\">\n",
              "        \n",
              "  <svg xmlns=\"http://www.w3.org/2000/svg\" height=\"24px\"viewBox=\"0 0 24 24\"\n",
              "       width=\"24px\">\n",
              "    <path d=\"M0 0h24v24H0V0z\" fill=\"none\"/>\n",
              "    <path d=\"M18.56 5.44l.94 2.06.94-2.06 2.06-.94-2.06-.94-.94-2.06-.94 2.06-2.06.94zm-11 1L8.5 8.5l.94-2.06 2.06-.94-2.06-.94L8.5 2.5l-.94 2.06-2.06.94zm10 10l.94 2.06.94-2.06 2.06-.94-2.06-.94-.94-2.06-.94 2.06-2.06.94z\"/><path d=\"M17.41 7.96l-1.37-1.37c-.4-.4-.92-.59-1.43-.59-.52 0-1.04.2-1.43.59L10.3 9.45l-7.72 7.72c-.78.78-.78 2.05 0 2.83L4 21.41c.39.39.9.59 1.41.59.51 0 1.02-.2 1.41-.59l7.78-7.78 2.81-2.81c.8-.78.8-2.07 0-2.86zM5.41 20L4 18.59l7.72-7.72 1.47 1.35L5.41 20z\"/>\n",
              "  </svg>\n",
              "      </button>\n",
              "      \n",
              "  <style>\n",
              "    .colab-df-container {\n",
              "      display:flex;\n",
              "      flex-wrap:wrap;\n",
              "      gap: 12px;\n",
              "    }\n",
              "\n",
              "    .colab-df-convert {\n",
              "      background-color: #E8F0FE;\n",
              "      border: none;\n",
              "      border-radius: 50%;\n",
              "      cursor: pointer;\n",
              "      display: none;\n",
              "      fill: #1967D2;\n",
              "      height: 32px;\n",
              "      padding: 0 0 0 0;\n",
              "      width: 32px;\n",
              "    }\n",
              "\n",
              "    .colab-df-convert:hover {\n",
              "      background-color: #E2EBFA;\n",
              "      box-shadow: 0px 1px 2px rgba(60, 64, 67, 0.3), 0px 1px 3px 1px rgba(60, 64, 67, 0.15);\n",
              "      fill: #174EA6;\n",
              "    }\n",
              "\n",
              "    [theme=dark] .colab-df-convert {\n",
              "      background-color: #3B4455;\n",
              "      fill: #D2E3FC;\n",
              "    }\n",
              "\n",
              "    [theme=dark] .colab-df-convert:hover {\n",
              "      background-color: #434B5C;\n",
              "      box-shadow: 0px 1px 3px 1px rgba(0, 0, 0, 0.15);\n",
              "      filter: drop-shadow(0px 1px 2px rgba(0, 0, 0, 0.3));\n",
              "      fill: #FFFFFF;\n",
              "    }\n",
              "  </style>\n",
              "\n",
              "      <script>\n",
              "        const buttonEl =\n",
              "          document.querySelector('#df-260b5d79-73fe-4306-ab2a-d98174568610 button.colab-df-convert');\n",
              "        buttonEl.style.display =\n",
              "          google.colab.kernel.accessAllowed ? 'block' : 'none';\n",
              "\n",
              "        async function convertToInteractive(key) {\n",
              "          const element = document.querySelector('#df-260b5d79-73fe-4306-ab2a-d98174568610');\n",
              "          const dataTable =\n",
              "            await google.colab.kernel.invokeFunction('convertToInteractive',\n",
              "                                                     [key], {});\n",
              "          if (!dataTable) return;\n",
              "\n",
              "          const docLinkHtml = 'Like what you see? Visit the ' +\n",
              "            '<a target=\"_blank\" href=https://colab.research.google.com/notebooks/data_table.ipynb>data table notebook</a>'\n",
              "            + ' to learn more about interactive tables.';\n",
              "          element.innerHTML = '';\n",
              "          dataTable['output_type'] = 'display_data';\n",
              "          await google.colab.output.renderOutput(dataTable, element);\n",
              "          const docLink = document.createElement('div');\n",
              "          docLink.innerHTML = docLinkHtml;\n",
              "          element.appendChild(docLink);\n",
              "        }\n",
              "      </script>\n",
              "    </div>\n",
              "  </div>\n",
              "  "
            ]
          },
          "metadata": {},
          "execution_count": 57
        }
      ],
      "source": [
        "# read the csv data\n",
        "df= pd.read_csv(\"/content/IPL_data/IPL Ball-by-Ball 2008-2020 - IPL Ball-by-Ball 2008-2020.csv\")\n",
        "\n",
        "# getting outline of the dataset\n",
        "df.head(3)"
      ]
    },
    {
      "cell_type": "markdown",
      "id": "d5668c5e",
      "metadata": {
        "id": "d5668c5e"
      },
      "source": [
        "### a) Summary of the Dataset \n",
        "Includes information about columns, attribute types, null values(if any), and summary of each attribute."
      ]
    },
    {
      "cell_type": "markdown",
      "id": "8096af46",
      "metadata": {
        "id": "8096af46"
      },
      "source": [
        "#### By looking at every column of the given dataset(IPL Ball-by-Ball 2008-2020), we can clearly understand the data above and summarize it as shown below"
      ]
    },
    {
      "cell_type": "markdown",
      "id": "58a3b5e9",
      "metadata": {
        "id": "58a3b5e9"
      },
      "source": [
        "##### The dataset consists of 18 columns which describes following properties\n",
        "\t\t\t\t\t\t\t\t\t\t\n",
        "- id: The match ids to uniquely identify each match.\n",
        "\n",
        "- inning: The division of a match into two parts, during which one team takes its turn to bat/ball.\n",
        "\n",
        "- over: Describes the current over being dealth.\n",
        "\n",
        "- ball: The ball no. of the current over.\n",
        "\n",
        "- batsman: The player who is currently batting.\n",
        "\n",
        "- non_striker: The non-batting player who is on the opposing crease.\n",
        "\n",
        "- bowler: The player who is currently bowling.\n",
        "\n",
        "- batsman_runs: Run taken by batsman in that particular ball.\n",
        "\n",
        "- extra_runs: The run(s) scored by or awarded to the batting team which is not credited to any individual batsman.\n",
        "\n",
        "- total_runs: Total runs scored in a ball, i.e, batsman_runs + extra_runs.\n",
        "\n",
        "- non_boundary: To indicate if a boundary occured in the ball.\n",
        "\n",
        "- is_wicket: Indicates if the wicket was taken during that ball.\n",
        "\n",
        "- dismissal_kind: Type of dismissal that dismissed the batsman.\n",
        "\n",
        "- player_dismissed: The player who is dismissed.\n",
        "\n",
        "- fielder: The non-bowler player who dismissed the batsman.\n",
        "\n",
        "- extras_type: Type of extra runs that was awarded.\n",
        "\n",
        "- batting_team: The team who is currently batting. \n",
        "\n",
        "- bowling_team: The team who is currently bowling. "
      ]
    },
    {
      "cell_type": "markdown",
      "id": "bec9ff91",
      "metadata": {
        "id": "bec9ff91"
      },
      "source": [
        "#### Lets have a look into different attributes of the given dataset\n",
        "\n",
        "- dtypes: Datatype of each column.\n",
        "- size: Product of no. of rows * no. of columns.\n",
        "- shape: Displays the total number of rows and columns for a particular dataframe.\n",
        "- empty: Checks whether the dataframe is empty or not.\n",
        "- isnull: Displays True for every null value, and false otherwise.\n"
      ]
    },
    {
      "cell_type": "code",
      "execution_count": 4,
      "id": "05d849ed",
      "metadata": {
        "scrolled": false,
        "id": "05d849ed",
        "outputId": "a0aebf5e-6f88-49fa-a6d7-10d2f72a582d",
        "colab": {
          "base_uri": "https://localhost:8080/"
        }
      },
      "outputs": [
        {
          "output_type": "stream",
          "name": "stdout",
          "text": [
            "<class 'pandas.core.frame.DataFrame'>\n",
            "RangeIndex: 147279 entries, 0 to 147278\n",
            "Data columns (total 18 columns):\n",
            " #   Column            Non-Null Count   Dtype  \n",
            "---  ------            --------------   -----  \n",
            " 0   id                147279 non-null  int64  \n",
            " 1   inning            147279 non-null  int64  \n",
            " 2   over              147278 non-null  float64\n",
            " 3   ball              147278 non-null  float64\n",
            " 4   batsman           147278 non-null  object \n",
            " 5   non_striker       147278 non-null  object \n",
            " 6   bowler            147278 non-null  object \n",
            " 7   batsman_runs      147278 non-null  float64\n",
            " 8   extra_runs        147278 non-null  float64\n",
            " 9   total_runs        147278 non-null  float64\n",
            " 10  non_boundary      147278 non-null  float64\n",
            " 11  is_wicket         147278 non-null  float64\n",
            " 12  dismissal_kind    7257 non-null    object \n",
            " 13  player_dismissed  7257 non-null    object \n",
            " 14  fielder           5237 non-null    object \n",
            " 15  extras_type       8020 non-null    object \n",
            " 16  batting_team      147278 non-null  object \n",
            " 17  bowling_team      147087 non-null  object \n",
            "dtypes: float64(7), int64(2), object(9)\n",
            "memory usage: 20.2+ MB\n"
          ]
        }
      ],
      "source": [
        "# overview of given dataset - a concise summary of the dataframe.\n",
        "df.info()"
      ]
    },
    {
      "cell_type": "code",
      "execution_count": 5,
      "id": "5e4d89f0",
      "metadata": {
        "colab": {
          "base_uri": "https://localhost:8080/"
        },
        "id": "5e4d89f0",
        "outputId": "36a28696-c188-4291-aad6-6406d1dc7bef"
      },
      "outputs": [
        {
          "output_type": "execute_result",
          "data": {
            "text/plain": [
              "[RangeIndex(start=0, stop=147279, step=1),\n",
              " Index(['id', 'inning', 'over', 'ball', 'batsman', 'non_striker', 'bowler',\n",
              "        'batsman_runs', 'extra_runs', 'total_runs', 'non_boundary', 'is_wicket',\n",
              "        'dismissal_kind', 'player_dismissed', 'fielder', 'extras_type',\n",
              "        'batting_team', 'bowling_team'],\n",
              "       dtype='object')]"
            ]
          },
          "metadata": {},
          "execution_count": 5
        }
      ],
      "source": [
        "# Range Index: range of tuples  \n",
        "# Index: name of each column\n",
        "df.axes"
      ]
    },
    {
      "cell_type": "code",
      "execution_count": 6,
      "id": "afeaf27e",
      "metadata": {
        "colab": {
          "base_uri": "https://localhost:8080/"
        },
        "id": "afeaf27e",
        "outputId": "bd2d2d59-a8fa-4cdb-dda5-08f026500581"
      },
      "outputs": [
        {
          "output_type": "execute_result",
          "data": {
            "text/plain": [
              "id                    int64\n",
              "inning                int64\n",
              "over                float64\n",
              "ball                float64\n",
              "batsman              object\n",
              "non_striker          object\n",
              "bowler               object\n",
              "batsman_runs        float64\n",
              "extra_runs          float64\n",
              "total_runs          float64\n",
              "non_boundary        float64\n",
              "is_wicket           float64\n",
              "dismissal_kind       object\n",
              "player_dismissed     object\n",
              "fielder              object\n",
              "extras_type          object\n",
              "batting_team         object\n",
              "bowling_team         object\n",
              "dtype: object"
            ]
          },
          "metadata": {},
          "execution_count": 6
        }
      ],
      "source": [
        "# Datatype of every column \n",
        "df.dtypes"
      ]
    },
    {
      "cell_type": "code",
      "execution_count": 58,
      "id": "e957c507",
      "metadata": {
        "colab": {
          "base_uri": "https://localhost:8080/"
        },
        "id": "e957c507",
        "outputId": "ed03016e-ae72-484b-c38e-e05860665c71"
      },
      "outputs": [
        {
          "output_type": "execute_result",
          "data": {
            "text/plain": [
              "3482424"
            ]
          },
          "metadata": {},
          "execution_count": 58
        }
      ],
      "source": [
        "# Product of no. of rows * no. of columns\n",
        "df.size"
      ]
    },
    {
      "cell_type": "code",
      "execution_count": 59,
      "id": "05c99eaf",
      "metadata": {
        "id": "05c99eaf",
        "outputId": "403150fa-be34-416e-9a60-7b291da00d58",
        "colab": {
          "base_uri": "https://localhost:8080/"
        }
      },
      "outputs": [
        {
          "output_type": "execute_result",
          "data": {
            "text/plain": [
              "(193468, 18)"
            ]
          },
          "metadata": {},
          "execution_count": 59
        }
      ],
      "source": [
        "# Displays the total number of rows and columns for a particular dataframe\n",
        "df.shape"
      ]
    },
    {
      "cell_type": "code",
      "execution_count": 60,
      "id": "b12c5b32",
      "metadata": {
        "id": "b12c5b32",
        "outputId": "4e2289dd-c9ce-46ff-face-163efc9daffc",
        "colab": {
          "base_uri": "https://localhost:8080/"
        }
      },
      "outputs": [
        {
          "output_type": "execute_result",
          "data": {
            "text/plain": [
              "False"
            ]
          },
          "metadata": {},
          "execution_count": 60
        }
      ],
      "source": [
        "# Checks whether the dataframe is empty or not\n",
        "df.empty"
      ]
    },
    {
      "cell_type": "code",
      "execution_count": 61,
      "id": "1c47bf87",
      "metadata": {
        "colab": {
          "base_uri": "https://localhost:8080/"
        },
        "id": "1c47bf87",
        "outputId": "c67ddad1-37de-42ae-86bf-c77a020de1fb"
      },
      "outputs": [
        {
          "output_type": "execute_result",
          "data": {
            "text/plain": [
              "id                       0\n",
              "inning                   0\n",
              "over                     0\n",
              "ball                     0\n",
              "batsman                  0\n",
              "non_striker              0\n",
              "bowler                   0\n",
              "batsman_runs             0\n",
              "extra_runs               0\n",
              "total_runs               0\n",
              "non_boundary             0\n",
              "is_wicket                0\n",
              "dismissal_kind      183973\n",
              "player_dismissed    183973\n",
              "fielder             186684\n",
              "extras_type         183235\n",
              "batting_team             0\n",
              "bowling_team           191\n",
              "dtype: int64"
            ]
          },
          "metadata": {},
          "execution_count": 61
        }
      ],
      "source": [
        "# Get a count of null values present in the dataframe\n",
        "df.isnull().sum()"
      ]
    },
    {
      "cell_type": "markdown",
      "source": [
        "### b) Plots (graphs, histograms, pie charts) summarizing insights about the dataset."
      ],
      "metadata": {
        "id": "Dd4exSEXC3X9"
      },
      "id": "Dd4exSEXC3X9"
    },
    {
      "cell_type": "markdown",
      "source": [
        "#### **Answered this question alongside Question 3, where we are finding cororelation between attributes**"
      ],
      "metadata": {
        "id": "w_Bf1T_rvHJm"
      },
      "id": "w_Bf1T_rvHJm"
    },
    {
      "cell_type": "markdown",
      "id": "9b38ac06",
      "metadata": {
        "id": "9b38ac06"
      },
      "source": [
        "## 2. (T0) List data preprocessing, and normalization/standardization techniques that you think should be the most suitable to your dataset."
      ]
    },
    {
      "cell_type": "markdown",
      "source": [
        "#### During our investigation, we noted following observations:"
      ],
      "metadata": {
        "id": "8JcuKlTcFkP3"
      },
      "id": "8JcuKlTcFkP3"
    },
    {
      "cell_type": "markdown",
      "source": [
        "1. few teams have same name but slightly modified details, eg \"Rising Pune Supergiants\" and \"Rising Pune Supergiant\" (Notice the 's' at the end of second team name's which is missing in the latter one)."
      ],
      "metadata": {
        "id": "hYcLOV8KFUha"
      },
      "id": "hYcLOV8KFUha"
    },
    {
      "cell_type": "code",
      "execution_count": 62,
      "metadata": {
        "id": "7fd08f1f",
        "outputId": "6c74dc6d-f55f-4b45-fd96-e2d4227efc4a",
        "colab": {
          "base_uri": "https://localhost:8080/"
        }
      },
      "outputs": [
        {
          "output_type": "execute_result",
          "data": {
            "text/plain": [
              "array(['Kolkata Knight Riders', 'Royal Challengers Bangalore',\n",
              "       'Kings XI Punjab', 'Chennai Super Kings', 'Rajasthan Royals',\n",
              "       'Delhi Daredevils', 'Mumbai Indians', 'Deccan Chargers',\n",
              "       'Kochi Tuskers Kerala', 'Pune Warriors', 'Sunrisers Hyderabad',\n",
              "       'Rising Pune Supergiants', 'Gujarat Lions',\n",
              "       'Rising Pune Supergiant', 'Delhi Capitals'], dtype=object)"
            ]
          },
          "metadata": {},
          "execution_count": 62
        }
      ],
      "source": [
        "# Since batting_team have non-null values let us check the teams mentioned in batting_team.\n",
        "df.batting_team.unique()"
      ],
      "id": "7fd08f1f"
    },
    {
      "cell_type": "markdown",
      "source": [
        " 2. The 'bowling_team' attribute have some null values(0.001%) that needs to be taken care of.\n",
        "\n",
        " 3. For approx. 183973 out of 193468 entries(95.09%), the data for dismissal_kind, player_dismissed, fielder, extras_type is missing(NULL/empty)."
      ],
      "metadata": {
        "id": "1ylkfzobFZVD"
      },
      "id": "1ylkfzobFZVD"
    },
    {
      "cell_type": "code",
      "source": [
        "null_values = df.isnull().sum()\n",
        "print(null_values)"
      ],
      "metadata": {
        "colab": {
          "base_uri": "https://localhost:8080/"
        },
        "id": "qzMfKJkTERsg",
        "outputId": "465592ea-e3b3-4a6b-e8ad-f7fb5af51f4c"
      },
      "id": "qzMfKJkTERsg",
      "execution_count": 63,
      "outputs": [
        {
          "output_type": "stream",
          "name": "stdout",
          "text": [
            "id                       0\n",
            "inning                   0\n",
            "over                     0\n",
            "ball                     0\n",
            "batsman                  0\n",
            "non_striker              0\n",
            "bowler                   0\n",
            "batsman_runs             0\n",
            "extra_runs               0\n",
            "total_runs               0\n",
            "non_boundary             0\n",
            "is_wicket                0\n",
            "dismissal_kind      183973\n",
            "player_dismissed    183973\n",
            "fielder             186684\n",
            "extras_type         183235\n",
            "batting_team             0\n",
            "bowling_team           191\n",
            "dtype: int64\n"
          ]
        }
      ]
    },
    {
      "cell_type": "markdown",
      "source": [
        "### Data Pre-Processing and Cleaning"
      ],
      "metadata": {
        "id": "jc6ZKdzB4igC"
      },
      "id": "jc6ZKdzB4igC"
    },
    {
      "cell_type": "markdown",
      "source": [
        "#### Out of the 4 major preprocessing techniques, we have used following techniques to make our data usable:"
      ],
      "metadata": {
        "id": "VH1T6fXfH1fB"
      },
      "id": "VH1T6fXfH1fB"
    },
    {
      "cell_type": "markdown",
      "source": [
        "##### 1. **Data Cleaning**"
      ],
      "metadata": {
        "id": "9biLLhPVIioJ"
      },
      "id": "9biLLhPVIioJ"
    },
    {
      "cell_type": "markdown",
      "source": [
        "We have used **data cleaning to remove inconsistencies** in the batting_team column. We can do this process manually because the team names does not contain a large amount of data."
      ],
      "metadata": {
        "id": "jRdkK6N0K0EP"
      },
      "id": "jRdkK6N0K0EP"
    },
    {
      "cell_type": "markdown",
      "id": "84e3eeae",
      "metadata": {
        "id": "84e3eeae"
      },
      "source": [
        "###### **1**: 'Delhi Capitals' and 'Delhi Daredevils' is the same team since both of them represent Delhi."
      ]
    },
    {
      "cell_type": "code",
      "execution_count": 64,
      "id": "5ecfe789",
      "metadata": {
        "colab": {
          "base_uri": "https://localhost:8080/"
        },
        "id": "5ecfe789",
        "outputId": "0225c378-5eb8-4318-dc53-ca78cddbca33"
      },
      "outputs": [
        {
          "output_type": "execute_result",
          "data": {
            "text/plain": [
              "array(['Kolkata Knight Riders', 'Royal Challengers Bangalore',\n",
              "       'Kings XI Punjab', 'Chennai Super Kings', 'Rajasthan Royals',\n",
              "       'Delhi Capitals', 'Mumbai Indians', 'Deccan Chargers',\n",
              "       'Kochi Tuskers Kerala', 'Pune Warriors', 'Sunrisers Hyderabad',\n",
              "       'Rising Pune Supergiants', 'Gujarat Lions',\n",
              "       'Rising Pune Supergiant'], dtype=object)"
            ]
          },
          "metadata": {},
          "execution_count": 64
        }
      ],
      "source": [
        "df =df.replace(['Delhi Daredevils'],'Delhi Capitals')\n",
        "df.batting_team.unique()"
      ]
    },
    {
      "cell_type": "markdown",
      "metadata": {
        "id": "9dcd8ea0"
      },
      "source": [
        "###### **2:** For the missing values in 'player_dismissed' and 'dismissal_kind', we will use the **global constant** \"NA\" value as \"Not Out\" in our case. We could have considered replacing it with 0, but the data is already being stored as string datatype. So, to make the data more readable, we are not using 0 to indicate 'Not Out' as it increases the readability for users."
      ],
      "id": "9dcd8ea0"
    },
    {
      "cell_type": "code",
      "execution_count": 65,
      "metadata": {
        "id": "0dafe0a8"
      },
      "outputs": [],
      "source": [
        "df['dismissal_kind'].fillna(value =\"Not Out\",inplace=True)\n",
        "df['player_dismissed'].fillna(value =\"Not Out\",inplace=True)"
      ],
      "id": "0dafe0a8"
    },
    {
      "cell_type": "markdown",
      "source": [
        "##### 2. **Data Reduction**"
      ],
      "metadata": {
        "id": "CHAKHK2-MisJ"
      },
      "id": "CHAKHK2-MisJ"
    },
    {
      "cell_type": "markdown",
      "id": "0f2f0ad4",
      "metadata": {
        "id": "0f2f0ad4"
      },
      "source": [
        "###### **1:** Using **numerosity reduction** to remove the old teams like 'Deccan Chargers', 'Kochi Tuskers Kerala', 'Pune Warriors' , 'Rising Pune Supergiants'.\n",
        "We know that 'Rising Pune Supergiants' played only for 1 season; other teams such as 'Pune warriors', 'Deccan Chargers' do not play anymore. **We do not have sufficient data about these teams to compare with other teams who have been in the league for a longer period of time**."
      ]
    },
    {
      "cell_type": "code",
      "execution_count": 66,
      "id": "0dde4e66",
      "metadata": {
        "id": "0dde4e66"
      },
      "outputs": [],
      "source": [
        "required_team=['Kolkata Knight Riders', 'Royal Challengers Bangalore',\n",
        "       'Kings XI Punjab', 'Chennai Super Kings', 'Rajasthan Royals',\n",
        "       'Delhi Capitals', 'Mumbai Indians', 'Sunrisers Hyderabad',\n",
        "        'Gujarat Lions']\n",
        "\n",
        "# extracting only the required teams according to pre-processed data\n",
        "df = df[(df['batting_team'].isin(required_team)) & (df['bowling_team'].isin(required_team))]"
      ]
    },
    {
      "cell_type": "markdown",
      "id": "e90b4d52",
      "metadata": {
        "id": "e90b4d52"
      },
      "source": [
        "###### **2:** On removing the old teams & teams that do not play anymore, it also solved our problem of null value present in bowling team"
      ]
    },
    {
      "cell_type": "code",
      "execution_count": 67,
      "id": "1dcf890c",
      "metadata": {
        "colab": {
          "base_uri": "https://localhost:8080/"
        },
        "id": "1dcf890c",
        "outputId": "dded0312-eba5-4816-854f-1598a618d32a"
      },
      "outputs": [
        {
          "output_type": "execute_result",
          "data": {
            "text/plain": [
              "id                   0.000000\n",
              "inning               0.000000\n",
              "over                 0.000000\n",
              "ball                 0.000000\n",
              "batsman              0.000000\n",
              "non_striker          0.000000\n",
              "bowler               0.000000\n",
              "batsman_runs         0.000000\n",
              "extra_runs           0.000000\n",
              "total_runs           0.000000\n",
              "non_boundary         0.000000\n",
              "is_wicket            0.000000\n",
              "dismissal_kind       0.000000\n",
              "player_dismissed     0.000000\n",
              "fielder             96.522980\n",
              "extras_type         94.702847\n",
              "batting_team         0.000000\n",
              "bowling_team         0.000000\n",
              "dtype: float64"
            ]
          },
          "metadata": {},
          "execution_count": 67
        }
      ],
      "source": [
        "# lets analyse the percentage of the values that are empty\n",
        "df.isnull().mean()*100"
      ]
    },
    {
      "cell_type": "markdown",
      "id": "5349fadc",
      "metadata": {
        "id": "5349fadc"
      },
      "source": [
        "###### **3:** Using the principles of **dimensionality reduction**, we are droping columns \"extras_type\" and \"fielder\" as it will not affect our analysis. "
      ]
    },
    {
      "cell_type": "code",
      "execution_count": 68,
      "id": "0f3d1fa4",
      "metadata": {
        "id": "0f3d1fa4"
      },
      "outputs": [],
      "source": [
        "df.drop(['extras_type','fielder'],axis=1,inplace=True)"
      ]
    },
    {
      "cell_type": "markdown",
      "id": "c967c0f3",
      "metadata": {
        "id": "c967c0f3"
      },
      "source": [
        "#####After completing the Data Pre-Processing tasks, our data looks like this"
      ]
    },
    {
      "cell_type": "code",
      "execution_count": 69,
      "id": "65c6287c",
      "metadata": {
        "colab": {
          "base_uri": "https://localhost:8080/"
        },
        "id": "65c6287c",
        "outputId": "cad0f777-24ee-41c8-fa3b-f934436dc04e"
      },
      "outputs": [
        {
          "output_type": "execute_result",
          "data": {
            "text/plain": [
              "id                  0\n",
              "inning              0\n",
              "over                0\n",
              "ball                0\n",
              "batsman             0\n",
              "non_striker         0\n",
              "bowler              0\n",
              "batsman_runs        0\n",
              "extra_runs          0\n",
              "total_runs          0\n",
              "non_boundary        0\n",
              "is_wicket           0\n",
              "dismissal_kind      0\n",
              "player_dismissed    0\n",
              "batting_team        0\n",
              "bowling_team        0\n",
              "dtype: int64"
            ]
          },
          "metadata": {},
          "execution_count": 69
        }
      ],
      "source": [
        "df.isnull().sum()"
      ]
    },
    {
      "cell_type": "markdown",
      "id": "72e54e9d",
      "metadata": {
        "id": "72e54e9d"
      },
      "source": [
        "## 3. (T1) List any correlated attributes in your dataset.\n",
        "Let us do some analysis on our data and try to find interesting correlation attributes in given data"
      ]
    },
    {
      "cell_type": "markdown",
      "id": "79cb971e",
      "metadata": {
        "id": "79cb971e"
      },
      "source": [
        "#### 1: Top 5 batsmen based on strike rate. [Strike Rate = (total run scored by batsman/ total balls faced by batsman) * 100]"
      ]
    },
    {
      "cell_type": "code",
      "execution_count": 70,
      "id": "73b929e2",
      "metadata": {
        "colab": {
          "base_uri": "https://localhost:8080/",
          "height": 363
        },
        "id": "73b929e2",
        "outputId": "645e06ed-296e-480c-d6c8-9f004dce7927"
      },
      "outputs": [
        {
          "output_type": "execute_result",
          "data": {
            "text/plain": [
              "          batsman  total_runs  total_balls_faced  strike_rate\n",
              "0         V Kohli        5122               4027   127.191458\n",
              "1       DA Warner        4800               3484   137.772675\n",
              "2        SK Raina        4761               3564   133.585859\n",
              "3  AB de Villiers        4320               2890   149.480969\n",
              "4        CH Gayle        4268               3072   138.932292\n",
              "5        S Dhawan        3972               3201   124.086223\n",
              "6       G Gambhir        3710               3092   119.987063\n",
              "7        MS Dhoni        3619               2645   136.824197\n",
              "8       RG Sharma        3572               2778   128.581713\n",
              "9       SR Watson        3509               2643   132.765796"
            ],
            "text/html": [
              "\n",
              "  <div id=\"df-7e595ee9-ec94-4432-ac37-a93900f95971\">\n",
              "    <div class=\"colab-df-container\">\n",
              "      <div>\n",
              "<style scoped>\n",
              "    .dataframe tbody tr th:only-of-type {\n",
              "        vertical-align: middle;\n",
              "    }\n",
              "\n",
              "    .dataframe tbody tr th {\n",
              "        vertical-align: top;\n",
              "    }\n",
              "\n",
              "    .dataframe thead th {\n",
              "        text-align: right;\n",
              "    }\n",
              "</style>\n",
              "<table border=\"1\" class=\"dataframe\">\n",
              "  <thead>\n",
              "    <tr style=\"text-align: right;\">\n",
              "      <th></th>\n",
              "      <th>batsman</th>\n",
              "      <th>total_runs</th>\n",
              "      <th>total_balls_faced</th>\n",
              "      <th>strike_rate</th>\n",
              "    </tr>\n",
              "  </thead>\n",
              "  <tbody>\n",
              "    <tr>\n",
              "      <th>0</th>\n",
              "      <td>V Kohli</td>\n",
              "      <td>5122</td>\n",
              "      <td>4027</td>\n",
              "      <td>127.191458</td>\n",
              "    </tr>\n",
              "    <tr>\n",
              "      <th>1</th>\n",
              "      <td>DA Warner</td>\n",
              "      <td>4800</td>\n",
              "      <td>3484</td>\n",
              "      <td>137.772675</td>\n",
              "    </tr>\n",
              "    <tr>\n",
              "      <th>2</th>\n",
              "      <td>SK Raina</td>\n",
              "      <td>4761</td>\n",
              "      <td>3564</td>\n",
              "      <td>133.585859</td>\n",
              "    </tr>\n",
              "    <tr>\n",
              "      <th>3</th>\n",
              "      <td>AB de Villiers</td>\n",
              "      <td>4320</td>\n",
              "      <td>2890</td>\n",
              "      <td>149.480969</td>\n",
              "    </tr>\n",
              "    <tr>\n",
              "      <th>4</th>\n",
              "      <td>CH Gayle</td>\n",
              "      <td>4268</td>\n",
              "      <td>3072</td>\n",
              "      <td>138.932292</td>\n",
              "    </tr>\n",
              "    <tr>\n",
              "      <th>5</th>\n",
              "      <td>S Dhawan</td>\n",
              "      <td>3972</td>\n",
              "      <td>3201</td>\n",
              "      <td>124.086223</td>\n",
              "    </tr>\n",
              "    <tr>\n",
              "      <th>6</th>\n",
              "      <td>G Gambhir</td>\n",
              "      <td>3710</td>\n",
              "      <td>3092</td>\n",
              "      <td>119.987063</td>\n",
              "    </tr>\n",
              "    <tr>\n",
              "      <th>7</th>\n",
              "      <td>MS Dhoni</td>\n",
              "      <td>3619</td>\n",
              "      <td>2645</td>\n",
              "      <td>136.824197</td>\n",
              "    </tr>\n",
              "    <tr>\n",
              "      <th>8</th>\n",
              "      <td>RG Sharma</td>\n",
              "      <td>3572</td>\n",
              "      <td>2778</td>\n",
              "      <td>128.581713</td>\n",
              "    </tr>\n",
              "    <tr>\n",
              "      <th>9</th>\n",
              "      <td>SR Watson</td>\n",
              "      <td>3509</td>\n",
              "      <td>2643</td>\n",
              "      <td>132.765796</td>\n",
              "    </tr>\n",
              "  </tbody>\n",
              "</table>\n",
              "</div>\n",
              "      <button class=\"colab-df-convert\" onclick=\"convertToInteractive('df-7e595ee9-ec94-4432-ac37-a93900f95971')\"\n",
              "              title=\"Convert this dataframe to an interactive table.\"\n",
              "              style=\"display:none;\">\n",
              "        \n",
              "  <svg xmlns=\"http://www.w3.org/2000/svg\" height=\"24px\"viewBox=\"0 0 24 24\"\n",
              "       width=\"24px\">\n",
              "    <path d=\"M0 0h24v24H0V0z\" fill=\"none\"/>\n",
              "    <path d=\"M18.56 5.44l.94 2.06.94-2.06 2.06-.94-2.06-.94-.94-2.06-.94 2.06-2.06.94zm-11 1L8.5 8.5l.94-2.06 2.06-.94-2.06-.94L8.5 2.5l-.94 2.06-2.06.94zm10 10l.94 2.06.94-2.06 2.06-.94-2.06-.94-.94-2.06-.94 2.06-2.06.94z\"/><path d=\"M17.41 7.96l-1.37-1.37c-.4-.4-.92-.59-1.43-.59-.52 0-1.04.2-1.43.59L10.3 9.45l-7.72 7.72c-.78.78-.78 2.05 0 2.83L4 21.41c.39.39.9.59 1.41.59.51 0 1.02-.2 1.41-.59l7.78-7.78 2.81-2.81c.8-.78.8-2.07 0-2.86zM5.41 20L4 18.59l7.72-7.72 1.47 1.35L5.41 20z\"/>\n",
              "  </svg>\n",
              "      </button>\n",
              "      \n",
              "  <style>\n",
              "    .colab-df-container {\n",
              "      display:flex;\n",
              "      flex-wrap:wrap;\n",
              "      gap: 12px;\n",
              "    }\n",
              "\n",
              "    .colab-df-convert {\n",
              "      background-color: #E8F0FE;\n",
              "      border: none;\n",
              "      border-radius: 50%;\n",
              "      cursor: pointer;\n",
              "      display: none;\n",
              "      fill: #1967D2;\n",
              "      height: 32px;\n",
              "      padding: 0 0 0 0;\n",
              "      width: 32px;\n",
              "    }\n",
              "\n",
              "    .colab-df-convert:hover {\n",
              "      background-color: #E2EBFA;\n",
              "      box-shadow: 0px 1px 2px rgba(60, 64, 67, 0.3), 0px 1px 3px 1px rgba(60, 64, 67, 0.15);\n",
              "      fill: #174EA6;\n",
              "    }\n",
              "\n",
              "    [theme=dark] .colab-df-convert {\n",
              "      background-color: #3B4455;\n",
              "      fill: #D2E3FC;\n",
              "    }\n",
              "\n",
              "    [theme=dark] .colab-df-convert:hover {\n",
              "      background-color: #434B5C;\n",
              "      box-shadow: 0px 1px 3px 1px rgba(0, 0, 0, 0.15);\n",
              "      filter: drop-shadow(0px 1px 2px rgba(0, 0, 0, 0.3));\n",
              "      fill: #FFFFFF;\n",
              "    }\n",
              "  </style>\n",
              "\n",
              "      <script>\n",
              "        const buttonEl =\n",
              "          document.querySelector('#df-7e595ee9-ec94-4432-ac37-a93900f95971 button.colab-df-convert');\n",
              "        buttonEl.style.display =\n",
              "          google.colab.kernel.accessAllowed ? 'block' : 'none';\n",
              "\n",
              "        async function convertToInteractive(key) {\n",
              "          const element = document.querySelector('#df-7e595ee9-ec94-4432-ac37-a93900f95971');\n",
              "          const dataTable =\n",
              "            await google.colab.kernel.invokeFunction('convertToInteractive',\n",
              "                                                     [key], {});\n",
              "          if (!dataTable) return;\n",
              "\n",
              "          const docLinkHtml = 'Like what you see? Visit the ' +\n",
              "            '<a target=\"_blank\" href=https://colab.research.google.com/notebooks/data_table.ipynb>data table notebook</a>'\n",
              "            + ' to learn more about interactive tables.';\n",
              "          element.innerHTML = '';\n",
              "          dataTable['output_type'] = 'display_data';\n",
              "          await google.colab.output.renderOutput(dataTable, element);\n",
              "          const docLink = document.createElement('div');\n",
              "          docLink.innerHTML = docLinkHtml;\n",
              "          element.appendChild(docLink);\n",
              "        }\n",
              "      </script>\n",
              "    </div>\n",
              "  </div>\n",
              "  "
            ]
          },
          "metadata": {},
          "execution_count": 70
        }
      ],
      "source": [
        "total_runs = df.groupby(['batsman'])['batsman_runs'].sum().reset_index().rename(columns={'batsman_runs': 'total_runs'})\n",
        "balls_faced = df.groupby('batsman')['ball'].count().reset_index().rename(columns={'ball': 'total_balls_faced'})\n",
        "\n",
        "# merging the above two table\n",
        "strike_rate_data = pd.merge(total_runs, balls_faced, how='inner', on='batsman')\n",
        "\n",
        "# adding a new column, strike_rate, to our new dataframe\n",
        "strike_rate_data['strike_rate'] = strike_rate_data['total_runs']/strike_rate_data['total_balls_faced']*100\n",
        "strike_rate_data.sort_values(by='total_runs', ascending=False).head(10).reset_index().drop('index',axis=1)"
      ]
    },
    {
      "cell_type": "code",
      "source": [
        "top_strike_rate = strike_rate_data.sort_values(by='total_runs', ascending=False).head(5).reset_index().drop('index',axis=1)\n",
        "x = np.array(top_strike_rate['batsman'])\n",
        "y = np.array(top_strike_rate['strike_rate'])\n",
        "\n",
        "col=['darkblue', 'orange', 'green', 'red', 'purple']\n",
        "\n",
        "fig, axes = plt.subplots(1,2, figsize=(20, 6))\n",
        "axes[0].pie(top_strike_rate['strike_rate'], labels=top_strike_rate['batsman'], colors=col)\n",
        "\n",
        "axes[1].bar(x, y, color=col)\n",
        "axes[1].set(ylim=[100, 200])\n",
        "axes[1].set_xlabel('Batsmen')\n",
        "axes[1].set_ylabel('Strike Rate')"
      ],
      "metadata": {
        "id": "Po-uwf5qeFKb",
        "outputId": "7a6c5867-c839-424b-8217-577dd6c2ae90",
        "colab": {
          "base_uri": "https://localhost:8080/",
          "height": 410
        }
      },
      "id": "Po-uwf5qeFKb",
      "execution_count": 71,
      "outputs": [
        {
          "output_type": "execute_result",
          "data": {
            "text/plain": [
              "Text(0, 0.5, 'Strike Rate')"
            ]
          },
          "metadata": {},
          "execution_count": 71
        },
        {
          "output_type": "display_data",
          "data": {
            "text/plain": [
              "<Figure size 1440x432 with 2 Axes>"
            ],
            "image/png": "[encoded data removed]"
          },
          "metadata": {
            "needs_background": "light"
          }
        }
      ]
    },
    {
      "cell_type": "code",
      "execution_count": 72,
      "id": "5cda30ce",
      "metadata": {
        "colab": {
          "base_uri": "https://localhost:8080/",
          "height": 143
        },
        "id": "5cda30ce",
        "outputId": "0d1c6a1e-2bdc-4c6a-ea45-c97afb339581"
      },
      "outputs": [
        {
          "output_type": "execute_result",
          "data": {
            "text/plain": [
              "                   total_runs  total_balls_faced  strike_rate\n",
              "total_runs           1.000000           0.996455     0.310620\n",
              "total_balls_faced    0.996455           1.000000     0.298703\n",
              "strike_rate          0.310620           0.298703     1.000000"
            ],
            "text/html": [
              "\n",
              "  <div id=\"df-08bcb678-f3d9-4eb9-ab3c-913fd6fefe5d\">\n",
              "    <div class=\"colab-df-container\">\n",
              "      <div>\n",
              "<style scoped>\n",
              "    .dataframe tbody tr th:only-of-type {\n",
              "        vertical-align: middle;\n",
              "    }\n",
              "\n",
              "    .dataframe tbody tr th {\n",
              "        vertical-align: top;\n",
              "    }\n",
              "\n",
              "    .dataframe thead th {\n",
              "        text-align: right;\n",
              "    }\n",
              "</style>\n",
              "<table border=\"1\" class=\"dataframe\">\n",
              "  <thead>\n",
              "    <tr style=\"text-align: right;\">\n",
              "      <th></th>\n",
              "      <th>total_runs</th>\n",
              "      <th>total_balls_faced</th>\n",
              "      <th>strike_rate</th>\n",
              "    </tr>\n",
              "  </thead>\n",
              "  <tbody>\n",
              "    <tr>\n",
              "      <th>total_runs</th>\n",
              "      <td>1.000000</td>\n",
              "      <td>0.996455</td>\n",
              "      <td>0.310620</td>\n",
              "    </tr>\n",
              "    <tr>\n",
              "      <th>total_balls_faced</th>\n",
              "      <td>0.996455</td>\n",
              "      <td>1.000000</td>\n",
              "      <td>0.298703</td>\n",
              "    </tr>\n",
              "    <tr>\n",
              "      <th>strike_rate</th>\n",
              "      <td>0.310620</td>\n",
              "      <td>0.298703</td>\n",
              "      <td>1.000000</td>\n",
              "    </tr>\n",
              "  </tbody>\n",
              "</table>\n",
              "</div>\n",
              "      <button class=\"colab-df-convert\" onclick=\"convertToInteractive('df-08bcb678-f3d9-4eb9-ab3c-913fd6fefe5d')\"\n",
              "              title=\"Convert this dataframe to an interactive table.\"\n",
              "              style=\"display:none;\">\n",
              "        \n",
              "  <svg xmlns=\"http://www.w3.org/2000/svg\" height=\"24px\"viewBox=\"0 0 24 24\"\n",
              "       width=\"24px\">\n",
              "    <path d=\"M0 0h24v24H0V0z\" fill=\"none\"/>\n",
              "    <path d=\"M18.56 5.44l.94 2.06.94-2.06 2.06-.94-2.06-.94-.94-2.06-.94 2.06-2.06.94zm-11 1L8.5 8.5l.94-2.06 2.06-.94-2.06-.94L8.5 2.5l-.94 2.06-2.06.94zm10 10l.94 2.06.94-2.06 2.06-.94-2.06-.94-.94-2.06-.94 2.06-2.06.94z\"/><path d=\"M17.41 7.96l-1.37-1.37c-.4-.4-.92-.59-1.43-.59-.52 0-1.04.2-1.43.59L10.3 9.45l-7.72 7.72c-.78.78-.78 2.05 0 2.83L4 21.41c.39.39.9.59 1.41.59.51 0 1.02-.2 1.41-.59l7.78-7.78 2.81-2.81c.8-.78.8-2.07 0-2.86zM5.41 20L4 18.59l7.72-7.72 1.47 1.35L5.41 20z\"/>\n",
              "  </svg>\n",
              "      </button>\n",
              "      \n",
              "  <style>\n",
              "    .colab-df-container {\n",
              "      display:flex;\n",
              "      flex-wrap:wrap;\n",
              "      gap: 12px;\n",
              "    }\n",
              "\n",
              "    .colab-df-convert {\n",
              "      background-color: #E8F0FE;\n",
              "      border: none;\n",
              "      border-radius: 50%;\n",
              "      cursor: pointer;\n",
              "      display: none;\n",
              "      fill: #1967D2;\n",
              "      height: 32px;\n",
              "      padding: 0 0 0 0;\n",
              "      width: 32px;\n",
              "    }\n",
              "\n",
              "    .colab-df-convert:hover {\n",
              "      background-color: #E2EBFA;\n",
              "      box-shadow: 0px 1px 2px rgba(60, 64, 67, 0.3), 0px 1px 3px 1px rgba(60, 64, 67, 0.15);\n",
              "      fill: #174EA6;\n",
              "    }\n",
              "\n",
              "    [theme=dark] .colab-df-convert {\n",
              "      background-color: #3B4455;\n",
              "      fill: #D2E3FC;\n",
              "    }\n",
              "\n",
              "    [theme=dark] .colab-df-convert:hover {\n",
              "      background-color: #434B5C;\n",
              "      box-shadow: 0px 1px 3px 1px rgba(0, 0, 0, 0.15);\n",
              "      filter: drop-shadow(0px 1px 2px rgba(0, 0, 0, 0.3));\n",
              "      fill: #FFFFFF;\n",
              "    }\n",
              "  </style>\n",
              "\n",
              "      <script>\n",
              "        const buttonEl =\n",
              "          document.querySelector('#df-08bcb678-f3d9-4eb9-ab3c-913fd6fefe5d button.colab-df-convert');\n",
              "        buttonEl.style.display =\n",
              "          google.colab.kernel.accessAllowed ? 'block' : 'none';\n",
              "\n",
              "        async function convertToInteractive(key) {\n",
              "          const element = document.querySelector('#df-08bcb678-f3d9-4eb9-ab3c-913fd6fefe5d');\n",
              "          const dataTable =\n",
              "            await google.colab.kernel.invokeFunction('convertToInteractive',\n",
              "                                                     [key], {});\n",
              "          if (!dataTable) return;\n",
              "\n",
              "          const docLinkHtml = 'Like what you see? Visit the ' +\n",
              "            '<a target=\"_blank\" href=https://colab.research.google.com/notebooks/data_table.ipynb>data table notebook</a>'\n",
              "            + ' to learn more about interactive tables.';\n",
              "          element.innerHTML = '';\n",
              "          dataTable['output_type'] = 'display_data';\n",
              "          await google.colab.output.renderOutput(dataTable, element);\n",
              "          const docLink = document.createElement('div');\n",
              "          docLink.innerHTML = docLinkHtml;\n",
              "          element.appendChild(docLink);\n",
              "        }\n",
              "      </script>\n",
              "    </div>\n",
              "  </div>\n",
              "  "
            ]
          },
          "metadata": {},
          "execution_count": 72
        }
      ],
      "source": [
        "# Checking correlation in strike rate table\n",
        "strike_rate_data.corr()"
      ]
    },
    {
      "cell_type": "markdown",
      "id": "72be4c66",
      "metadata": {
        "id": "72be4c66"
      },
      "source": [
        "#####derived attributes correlation:\n",
        "- total_runs have very high positive correlation of **0.996** with total_balls_faced( indicates how many balls faced by batsman). With increase in no. of balls faced by batsman, there is an increase in batsman_runs."
      ]
    },
    {
      "cell_type": "markdown",
      "id": "a6ffe1c4",
      "metadata": {
        "id": "a6ffe1c4"
      },
      "source": [
        "#### 2: Top 5 batsmen based on the total no. of 6's scored"
      ]
    },
    {
      "cell_type": "code",
      "execution_count": 73,
      "id": "b37608a3",
      "metadata": {
        "colab": {
          "base_uri": "https://localhost:8080/",
          "height": 363
        },
        "id": "b37608a3",
        "outputId": "876984e8-a60b-46c7-c2c8-bd498c64bae7"
      },
      "outputs": [
        {
          "output_type": "execute_result",
          "data": {
            "text/plain": [
              "          batsman  no. of 6's  total_6_score  total_runs  total_balls_faced  \\\n",
              "0        CH Gayle         302           1812        4268               3072   \n",
              "1  AB de Villiers         207           1242        4320               2890   \n",
              "2      KA Pollard         189           1134        2847               1961   \n",
              "3        MS Dhoni         174           1044        3619               2645   \n",
              "4        SK Raina         174           1044        4761               3564   \n",
              "5         V Kohli         172           1032        5122               4027   \n",
              "6       DA Warner         172           1032        4800               3484   \n",
              "7       SR Watson         170           1020        3509               2643   \n",
              "8       RG Sharma         142            852        3572               2778   \n",
              "9      AD Russell         127            762        1500                870   \n",
              "\n",
              "   strike_rate  \n",
              "0   138.932292  \n",
              "1   149.480969  \n",
              "2   145.181030  \n",
              "3   136.824197  \n",
              "4   133.585859  \n",
              "5   127.191458  \n",
              "6   137.772675  \n",
              "7   132.765796  \n",
              "8   128.581713  \n",
              "9   172.413793  "
            ],
            "text/html": [
              "\n",
              "  <div id=\"df-cd3741c2-4e20-424f-b4d6-a3b88589a8f1\">\n",
              "    <div class=\"colab-df-container\">\n",
              "      <div>\n",
              "<style scoped>\n",
              "    .dataframe tbody tr th:only-of-type {\n",
              "        vertical-align: middle;\n",
              "    }\n",
              "\n",
              "    .dataframe tbody tr th {\n",
              "        vertical-align: top;\n",
              "    }\n",
              "\n",
              "    .dataframe thead th {\n",
              "        text-align: right;\n",
              "    }\n",
              "</style>\n",
              "<table border=\"1\" class=\"dataframe\">\n",
              "  <thead>\n",
              "    <tr style=\"text-align: right;\">\n",
              "      <th></th>\n",
              "      <th>batsman</th>\n",
              "      <th>no. of 6's</th>\n",
              "      <th>total_6_score</th>\n",
              "      <th>total_runs</th>\n",
              "      <th>total_balls_faced</th>\n",
              "      <th>strike_rate</th>\n",
              "    </tr>\n",
              "  </thead>\n",
              "  <tbody>\n",
              "    <tr>\n",
              "      <th>0</th>\n",
              "      <td>CH Gayle</td>\n",
              "      <td>302</td>\n",
              "      <td>1812</td>\n",
              "      <td>4268</td>\n",
              "      <td>3072</td>\n",
              "      <td>138.932292</td>\n",
              "    </tr>\n",
              "    <tr>\n",
              "      <th>1</th>\n",
              "      <td>AB de Villiers</td>\n",
              "      <td>207</td>\n",
              "      <td>1242</td>\n",
              "      <td>4320</td>\n",
              "      <td>2890</td>\n",
              "      <td>149.480969</td>\n",
              "    </tr>\n",
              "    <tr>\n",
              "      <th>2</th>\n",
              "      <td>KA Pollard</td>\n",
              "      <td>189</td>\n",
              "      <td>1134</td>\n",
              "      <td>2847</td>\n",
              "      <td>1961</td>\n",
              "      <td>145.181030</td>\n",
              "    </tr>\n",
              "    <tr>\n",
              "      <th>3</th>\n",
              "      <td>MS Dhoni</td>\n",
              "      <td>174</td>\n",
              "      <td>1044</td>\n",
              "      <td>3619</td>\n",
              "      <td>2645</td>\n",
              "      <td>136.824197</td>\n",
              "    </tr>\n",
              "    <tr>\n",
              "      <th>4</th>\n",
              "      <td>SK Raina</td>\n",
              "      <td>174</td>\n",
              "      <td>1044</td>\n",
              "      <td>4761</td>\n",
              "      <td>3564</td>\n",
              "      <td>133.585859</td>\n",
              "    </tr>\n",
              "    <tr>\n",
              "      <th>5</th>\n",
              "      <td>V Kohli</td>\n",
              "      <td>172</td>\n",
              "      <td>1032</td>\n",
              "      <td>5122</td>\n",
              "      <td>4027</td>\n",
              "      <td>127.191458</td>\n",
              "    </tr>\n",
              "    <tr>\n",
              "      <th>6</th>\n",
              "      <td>DA Warner</td>\n",
              "      <td>172</td>\n",
              "      <td>1032</td>\n",
              "      <td>4800</td>\n",
              "      <td>3484</td>\n",
              "      <td>137.772675</td>\n",
              "    </tr>\n",
              "    <tr>\n",
              "      <th>7</th>\n",
              "      <td>SR Watson</td>\n",
              "      <td>170</td>\n",
              "      <td>1020</td>\n",
              "      <td>3509</td>\n",
              "      <td>2643</td>\n",
              "      <td>132.765796</td>\n",
              "    </tr>\n",
              "    <tr>\n",
              "      <th>8</th>\n",
              "      <td>RG Sharma</td>\n",
              "      <td>142</td>\n",
              "      <td>852</td>\n",
              "      <td>3572</td>\n",
              "      <td>2778</td>\n",
              "      <td>128.581713</td>\n",
              "    </tr>\n",
              "    <tr>\n",
              "      <th>9</th>\n",
              "      <td>AD Russell</td>\n",
              "      <td>127</td>\n",
              "      <td>762</td>\n",
              "      <td>1500</td>\n",
              "      <td>870</td>\n",
              "      <td>172.413793</td>\n",
              "    </tr>\n",
              "  </tbody>\n",
              "</table>\n",
              "</div>\n",
              "      <button class=\"colab-df-convert\" onclick=\"convertToInteractive('df-cd3741c2-4e20-424f-b4d6-a3b88589a8f1')\"\n",
              "              title=\"Convert this dataframe to an interactive table.\"\n",
              "              style=\"display:none;\">\n",
              "        \n",
              "  <svg xmlns=\"http://www.w3.org/2000/svg\" height=\"24px\"viewBox=\"0 0 24 24\"\n",
              "       width=\"24px\">\n",
              "    <path d=\"M0 0h24v24H0V0z\" fill=\"none\"/>\n",
              "    <path d=\"M18.56 5.44l.94 2.06.94-2.06 2.06-.94-2.06-.94-.94-2.06-.94 2.06-2.06.94zm-11 1L8.5 8.5l.94-2.06 2.06-.94-2.06-.94L8.5 2.5l-.94 2.06-2.06.94zm10 10l.94 2.06.94-2.06 2.06-.94-2.06-.94-.94-2.06-.94 2.06-2.06.94z\"/><path d=\"M17.41 7.96l-1.37-1.37c-.4-.4-.92-.59-1.43-.59-.52 0-1.04.2-1.43.59L10.3 9.45l-7.72 7.72c-.78.78-.78 2.05 0 2.83L4 21.41c.39.39.9.59 1.41.59.51 0 1.02-.2 1.41-.59l7.78-7.78 2.81-2.81c.8-.78.8-2.07 0-2.86zM5.41 20L4 18.59l7.72-7.72 1.47 1.35L5.41 20z\"/>\n",
              "  </svg>\n",
              "      </button>\n",
              "      \n",
              "  <style>\n",
              "    .colab-df-container {\n",
              "      display:flex;\n",
              "      flex-wrap:wrap;\n",
              "      gap: 12px;\n",
              "    }\n",
              "\n",
              "    .colab-df-convert {\n",
              "      background-color: #E8F0FE;\n",
              "      border: none;\n",
              "      border-radius: 50%;\n",
              "      cursor: pointer;\n",
              "      display: none;\n",
              "      fill: #1967D2;\n",
              "      height: 32px;\n",
              "      padding: 0 0 0 0;\n",
              "      width: 32px;\n",
              "    }\n",
              "\n",
              "    .colab-df-convert:hover {\n",
              "      background-color: #E2EBFA;\n",
              "      box-shadow: 0px 1px 2px rgba(60, 64, 67, 0.3), 0px 1px 3px 1px rgba(60, 64, 67, 0.15);\n",
              "      fill: #174EA6;\n",
              "    }\n",
              "\n",
              "    [theme=dark] .colab-df-convert {\n",
              "      background-color: #3B4455;\n",
              "      fill: #D2E3FC;\n",
              "    }\n",
              "\n",
              "    [theme=dark] .colab-df-convert:hover {\n",
              "      background-color: #434B5C;\n",
              "      box-shadow: 0px 1px 3px 1px rgba(0, 0, 0, 0.15);\n",
              "      filter: drop-shadow(0px 1px 2px rgba(0, 0, 0, 0.3));\n",
              "      fill: #FFFFFF;\n",
              "    }\n",
              "  </style>\n",
              "\n",
              "      <script>\n",
              "        const buttonEl =\n",
              "          document.querySelector('#df-cd3741c2-4e20-424f-b4d6-a3b88589a8f1 button.colab-df-convert');\n",
              "        buttonEl.style.display =\n",
              "          google.colab.kernel.accessAllowed ? 'block' : 'none';\n",
              "\n",
              "        async function convertToInteractive(key) {\n",
              "          const element = document.querySelector('#df-cd3741c2-4e20-424f-b4d6-a3b88589a8f1');\n",
              "          const dataTable =\n",
              "            await google.colab.kernel.invokeFunction('convertToInteractive',\n",
              "                                                     [key], {});\n",
              "          if (!dataTable) return;\n",
              "\n",
              "          const docLinkHtml = 'Like what you see? Visit the ' +\n",
              "            '<a target=\"_blank\" href=https://colab.research.google.com/notebooks/data_table.ipynb>data table notebook</a>'\n",
              "            + ' to learn more about interactive tables.';\n",
              "          element.innerHTML = '';\n",
              "          dataTable['output_type'] = 'display_data';\n",
              "          await google.colab.output.renderOutput(dataTable, element);\n",
              "          const docLink = document.createElement('div');\n",
              "          docLink.innerHTML = docLinkHtml;\n",
              "          element.appendChild(docLink);\n",
              "        }\n",
              "      </script>\n",
              "    </div>\n",
              "  </div>\n",
              "  "
            ]
          },
          "metadata": {},
          "execution_count": 73
        }
      ],
      "source": [
        "six = df.groupby('batsman')['batsman_runs'].agg(lambda x: (x==6).sum()).reset_index().rename(columns={'batsman_runs': 'no. of 6\\'s'})\n",
        "\n",
        "# Comparing total runs scored with total 6's score\n",
        "six['total_6_score'] = six['no. of 6\\'s']*6\n",
        "comparison_data_on_6 = pd.merge(six, strike_rate_data, how='inner', on='batsman')\n",
        "\n",
        "comparison_data_on_6.sort_values(by='no. of 6\\'s',ascending =False).head(10).reset_index().drop('index',axis=1)"
      ]
    },
    {
      "cell_type": "code",
      "source": [
        "top_6_batsman = comparison_data_on_6.sort_values(by='no. of 6\\'s', ascending=False).head(5).reset_index().drop('index',axis=1)\n",
        "x = np.array(top_6_batsman['batsman'])\n",
        "y = np.array(top_6_batsman['no. of 6\\'s'])\n",
        "\n",
        "col=['darkblue', 'orange', 'green', 'red', 'purple']\n",
        "\n",
        "fig, axes = plt.subplots(1,2, figsize=(20, 6))\n",
        "axes[0].pie(top_6_batsman['no. of 6\\'s'], labels=top_6_batsman['batsman'], colors=col)\n",
        "\n",
        "axes[1].bar(x, y, color=col)\n",
        "axes[1].set(ylim=[150, 320])\n",
        "axes[1].set_xlabel('Batsmen')\n",
        "axes[1].set_ylabel('No. of 6\\' hit')"
      ],
      "metadata": {
        "id": "rjKa_vCjjzBC",
        "outputId": "e70b5a85-fb2c-4df8-ac54-86579fccc781",
        "colab": {
          "base_uri": "https://localhost:8080/",
          "height": 410
        }
      },
      "id": "rjKa_vCjjzBC",
      "execution_count": 74,
      "outputs": [
        {
          "output_type": "execute_result",
          "data": {
            "text/plain": [
              "Text(0, 0.5, \"No. of 6' hit\")"
            ]
          },
          "metadata": {},
          "execution_count": 74
        },
        {
          "output_type": "display_data",
          "data": {
            "text/plain": [
              "<Figure size 1440x432 with 2 Axes>"
            ],
            "image/png": "[encoded data removed]"
          },
          "metadata": {
            "needs_background": "light"
          }
        }
      ]
    },
    {
      "cell_type": "code",
      "source": [
        "comparison_data_on_6.corr()"
      ],
      "metadata": {
        "colab": {
          "base_uri": "https://localhost:8080/",
          "height": 206
        },
        "id": "vHv4b8KmyS56",
        "outputId": "e9f6195e-64c5-4205-87d9-8dded3b9d6d2"
      },
      "id": "vHv4b8KmyS56",
      "execution_count": 24,
      "outputs": [
        {
          "output_type": "execute_result",
          "data": {
            "text/plain": [
              "                   no. of 6's  total_6_score  total_runs  total_balls_faced  \\\n",
              "no. of 6's           1.000000       1.000000    0.916561           0.886891   \n",
              "total_6_score        1.000000       1.000000    0.916561           0.886891   \n",
              "total_runs           0.916561       0.916561    1.000000           0.995649   \n",
              "total_balls_faced    0.886891       0.886891    0.995649           1.000000   \n",
              "strike_rate          0.292294       0.292294    0.280186           0.265038   \n",
              "\n",
              "                   strike_rate  \n",
              "no. of 6's            0.292294  \n",
              "total_6_score         0.292294  \n",
              "total_runs            0.280186  \n",
              "total_balls_faced     0.265038  \n",
              "strike_rate           1.000000  "
            ],
            "text/html": [
              "\n",
              "  <div id=\"df-713232c1-85e4-44e7-8675-866861a5f427\">\n",
              "    <div class=\"colab-df-container\">\n",
              "      <div>\n",
              "<style scoped>\n",
              "    .dataframe tbody tr th:only-of-type {\n",
              "        vertical-align: middle;\n",
              "    }\n",
              "\n",
              "    .dataframe tbody tr th {\n",
              "        vertical-align: top;\n",
              "    }\n",
              "\n",
              "    .dataframe thead th {\n",
              "        text-align: right;\n",
              "    }\n",
              "</style>\n",
              "<table border=\"1\" class=\"dataframe\">\n",
              "  <thead>\n",
              "    <tr style=\"text-align: right;\">\n",
              "      <th></th>\n",
              "      <th>no. of 6's</th>\n",
              "      <th>total_6_score</th>\n",
              "      <th>total_runs</th>\n",
              "      <th>total_balls_faced</th>\n",
              "      <th>strike_rate</th>\n",
              "    </tr>\n",
              "  </thead>\n",
              "  <tbody>\n",
              "    <tr>\n",
              "      <th>no. of 6's</th>\n",
              "      <td>1.000000</td>\n",
              "      <td>1.000000</td>\n",
              "      <td>0.916561</td>\n",
              "      <td>0.886891</td>\n",
              "      <td>0.292294</td>\n",
              "    </tr>\n",
              "    <tr>\n",
              "      <th>total_6_score</th>\n",
              "      <td>1.000000</td>\n",
              "      <td>1.000000</td>\n",
              "      <td>0.916561</td>\n",
              "      <td>0.886891</td>\n",
              "      <td>0.292294</td>\n",
              "    </tr>\n",
              "    <tr>\n",
              "      <th>total_runs</th>\n",
              "      <td>0.916561</td>\n",
              "      <td>0.916561</td>\n",
              "      <td>1.000000</td>\n",
              "      <td>0.995649</td>\n",
              "      <td>0.280186</td>\n",
              "    </tr>\n",
              "    <tr>\n",
              "      <th>total_balls_faced</th>\n",
              "      <td>0.886891</td>\n",
              "      <td>0.886891</td>\n",
              "      <td>0.995649</td>\n",
              "      <td>1.000000</td>\n",
              "      <td>0.265038</td>\n",
              "    </tr>\n",
              "    <tr>\n",
              "      <th>strike_rate</th>\n",
              "      <td>0.292294</td>\n",
              "      <td>0.292294</td>\n",
              "      <td>0.280186</td>\n",
              "      <td>0.265038</td>\n",
              "      <td>1.000000</td>\n",
              "    </tr>\n",
              "  </tbody>\n",
              "</table>\n",
              "</div>\n",
              "      <button class=\"colab-df-convert\" onclick=\"convertToInteractive('df-713232c1-85e4-44e7-8675-866861a5f427')\"\n",
              "              title=\"Convert this dataframe to an interactive table.\"\n",
              "              style=\"display:none;\">\n",
              "        \n",
              "  <svg xmlns=\"http://www.w3.org/2000/svg\" height=\"24px\"viewBox=\"0 0 24 24\"\n",
              "       width=\"24px\">\n",
              "    <path d=\"M0 0h24v24H0V0z\" fill=\"none\"/>\n",
              "    <path d=\"M18.56 5.44l.94 2.06.94-2.06 2.06-.94-2.06-.94-.94-2.06-.94 2.06-2.06.94zm-11 1L8.5 8.5l.94-2.06 2.06-.94-2.06-.94L8.5 2.5l-.94 2.06-2.06.94zm10 10l.94 2.06.94-2.06 2.06-.94-2.06-.94-.94-2.06-.94 2.06-2.06.94z\"/><path d=\"M17.41 7.96l-1.37-1.37c-.4-.4-.92-.59-1.43-.59-.52 0-1.04.2-1.43.59L10.3 9.45l-7.72 7.72c-.78.78-.78 2.05 0 2.83L4 21.41c.39.39.9.59 1.41.59.51 0 1.02-.2 1.41-.59l7.78-7.78 2.81-2.81c.8-.78.8-2.07 0-2.86zM5.41 20L4 18.59l7.72-7.72 1.47 1.35L5.41 20z\"/>\n",
              "  </svg>\n",
              "      </button>\n",
              "      \n",
              "  <style>\n",
              "    .colab-df-container {\n",
              "      display:flex;\n",
              "      flex-wrap:wrap;\n",
              "      gap: 12px;\n",
              "    }\n",
              "\n",
              "    .colab-df-convert {\n",
              "      background-color: #E8F0FE;\n",
              "      border: none;\n",
              "      border-radius: 50%;\n",
              "      cursor: pointer;\n",
              "      display: none;\n",
              "      fill: #1967D2;\n",
              "      height: 32px;\n",
              "      padding: 0 0 0 0;\n",
              "      width: 32px;\n",
              "    }\n",
              "\n",
              "    .colab-df-convert:hover {\n",
              "      background-color: #E2EBFA;\n",
              "      box-shadow: 0px 1px 2px rgba(60, 64, 67, 0.3), 0px 1px 3px 1px rgba(60, 64, 67, 0.15);\n",
              "      fill: #174EA6;\n",
              "    }\n",
              "\n",
              "    [theme=dark] .colab-df-convert {\n",
              "      background-color: #3B4455;\n",
              "      fill: #D2E3FC;\n",
              "    }\n",
              "\n",
              "    [theme=dark] .colab-df-convert:hover {\n",
              "      background-color: #434B5C;\n",
              "      box-shadow: 0px 1px 3px 1px rgba(0, 0, 0, 0.15);\n",
              "      filter: drop-shadow(0px 1px 2px rgba(0, 0, 0, 0.3));\n",
              "      fill: #FFFFFF;\n",
              "    }\n",
              "  </style>\n",
              "\n",
              "      <script>\n",
              "        const buttonEl =\n",
              "          document.querySelector('#df-713232c1-85e4-44e7-8675-866861a5f427 button.colab-df-convert');\n",
              "        buttonEl.style.display =\n",
              "          google.colab.kernel.accessAllowed ? 'block' : 'none';\n",
              "\n",
              "        async function convertToInteractive(key) {\n",
              "          const element = document.querySelector('#df-713232c1-85e4-44e7-8675-866861a5f427');\n",
              "          const dataTable =\n",
              "            await google.colab.kernel.invokeFunction('convertToInteractive',\n",
              "                                                     [key], {});\n",
              "          if (!dataTable) return;\n",
              "\n",
              "          const docLinkHtml = 'Like what you see? Visit the ' +\n",
              "            '<a target=\"_blank\" href=https://colab.research.google.com/notebooks/data_table.ipynb>data table notebook</a>'\n",
              "            + ' to learn more about interactive tables.';\n",
              "          element.innerHTML = '';\n",
              "          dataTable['output_type'] = 'display_data';\n",
              "          await google.colab.output.renderOutput(dataTable, element);\n",
              "          const docLink = document.createElement('div');\n",
              "          docLink.innerHTML = docLinkHtml;\n",
              "          element.appendChild(docLink);\n",
              "        }\n",
              "      </script>\n",
              "    </div>\n",
              "  </div>\n",
              "  "
            ]
          },
          "metadata": {},
          "execution_count": 24
        }
      ]
    },
    {
      "cell_type": "markdown",
      "source": [
        "#####derived attributes correlation:\n",
        "1. no. of 6's have high positive correlation of **0.8998** with total_balls_faced by batsman. As the batsman faces more balls, he gets comfortable in the pitch resulting in hitting more 6's.\n",
        "\n",
        "2. no. of 6's have high positive correlation of **0.9257** with total_runs scored by batsman. Meaning, with the increase in 6's, the total runs scored by the batsman also increases significantly. With high risk of scoring a 6, batsman might end up getting dismissed, hence high risk yields high rewards."
      ],
      "metadata": {
        "id": "13YPQEocCjyP"
      },
      "id": "13YPQEocCjyP"
    },
    {
      "cell_type": "markdown",
      "id": "48e903e6",
      "metadata": {
        "id": "48e903e6"
      },
      "source": [
        "#### 3: Top 5 batsmen based on the total no. of 4's scored"
      ]
    },
    {
      "cell_type": "code",
      "execution_count": 75,
      "id": "8a8c13b3",
      "metadata": {
        "colab": {
          "base_uri": "https://localhost:8080/",
          "height": 363
        },
        "id": "8a8c13b3",
        "outputId": "2ae7d0d9-2b86-40a0-a7a8-0d5f10432135"
      },
      "outputs": [
        {
          "output_type": "execute_result",
          "data": {
            "text/plain": [
              "          batsman  no. of 4's  total_4_score  total_runs  total_balls_faced  \\\n",
              "0       DA Warner         470           1880        4800               3484   \n",
              "1        S Dhawan         461           1844        3972               3201   \n",
              "2        SK Raina         444           1776        4761               3564   \n",
              "3         V Kohli         443           1772        5122               4027   \n",
              "4       G Gambhir         439           1756        3710               3092   \n",
              "5  AB de Villiers         349           1396        4320               2890   \n",
              "6        CH Gayle         348           1392        4268               3072   \n",
              "7       SR Watson         344           1376        3509               2643   \n",
              "8      RV Uthappa         337           1348        3335               2564   \n",
              "9      KD Karthik         334           1336        3360               2649   \n",
              "\n",
              "   strike_rate  \n",
              "0   137.772675  \n",
              "1   124.086223  \n",
              "2   133.585859  \n",
              "3   127.191458  \n",
              "4   119.987063  \n",
              "5   149.480969  \n",
              "6   138.932292  \n",
              "7   132.765796  \n",
              "8   130.070203  \n",
              "9   126.840317  "
            ],
            "text/html": [
              "\n",
              "  <div id=\"df-98170c18-473a-4945-ba07-50049dc1ff4b\">\n",
              "    <div class=\"colab-df-container\">\n",
              "      <div>\n",
              "<style scoped>\n",
              "    .dataframe tbody tr th:only-of-type {\n",
              "        vertical-align: middle;\n",
              "    }\n",
              "\n",
              "    .dataframe tbody tr th {\n",
              "        vertical-align: top;\n",
              "    }\n",
              "\n",
              "    .dataframe thead th {\n",
              "        text-align: right;\n",
              "    }\n",
              "</style>\n",
              "<table border=\"1\" class=\"dataframe\">\n",
              "  <thead>\n",
              "    <tr style=\"text-align: right;\">\n",
              "      <th></th>\n",
              "      <th>batsman</th>\n",
              "      <th>no. of 4's</th>\n",
              "      <th>total_4_score</th>\n",
              "      <th>total_runs</th>\n",
              "      <th>total_balls_faced</th>\n",
              "      <th>strike_rate</th>\n",
              "    </tr>\n",
              "  </thead>\n",
              "  <tbody>\n",
              "    <tr>\n",
              "      <th>0</th>\n",
              "      <td>DA Warner</td>\n",
              "      <td>470</td>\n",
              "      <td>1880</td>\n",
              "      <td>4800</td>\n",
              "      <td>3484</td>\n",
              "      <td>137.772675</td>\n",
              "    </tr>\n",
              "    <tr>\n",
              "      <th>1</th>\n",
              "      <td>S Dhawan</td>\n",
              "      <td>461</td>\n",
              "      <td>1844</td>\n",
              "      <td>3972</td>\n",
              "      <td>3201</td>\n",
              "      <td>124.086223</td>\n",
              "    </tr>\n",
              "    <tr>\n",
              "      <th>2</th>\n",
              "      <td>SK Raina</td>\n",
              "      <td>444</td>\n",
              "      <td>1776</td>\n",
              "      <td>4761</td>\n",
              "      <td>3564</td>\n",
              "      <td>133.585859</td>\n",
              "    </tr>\n",
              "    <tr>\n",
              "      <th>3</th>\n",
              "      <td>V Kohli</td>\n",
              "      <td>443</td>\n",
              "      <td>1772</td>\n",
              "      <td>5122</td>\n",
              "      <td>4027</td>\n",
              "      <td>127.191458</td>\n",
              "    </tr>\n",
              "    <tr>\n",
              "      <th>4</th>\n",
              "      <td>G Gambhir</td>\n",
              "      <td>439</td>\n",
              "      <td>1756</td>\n",
              "      <td>3710</td>\n",
              "      <td>3092</td>\n",
              "      <td>119.987063</td>\n",
              "    </tr>\n",
              "    <tr>\n",
              "      <th>5</th>\n",
              "      <td>AB de Villiers</td>\n",
              "      <td>349</td>\n",
              "      <td>1396</td>\n",
              "      <td>4320</td>\n",
              "      <td>2890</td>\n",
              "      <td>149.480969</td>\n",
              "    </tr>\n",
              "    <tr>\n",
              "      <th>6</th>\n",
              "      <td>CH Gayle</td>\n",
              "      <td>348</td>\n",
              "      <td>1392</td>\n",
              "      <td>4268</td>\n",
              "      <td>3072</td>\n",
              "      <td>138.932292</td>\n",
              "    </tr>\n",
              "    <tr>\n",
              "      <th>7</th>\n",
              "      <td>SR Watson</td>\n",
              "      <td>344</td>\n",
              "      <td>1376</td>\n",
              "      <td>3509</td>\n",
              "      <td>2643</td>\n",
              "      <td>132.765796</td>\n",
              "    </tr>\n",
              "    <tr>\n",
              "      <th>8</th>\n",
              "      <td>RV Uthappa</td>\n",
              "      <td>337</td>\n",
              "      <td>1348</td>\n",
              "      <td>3335</td>\n",
              "      <td>2564</td>\n",
              "      <td>130.070203</td>\n",
              "    </tr>\n",
              "    <tr>\n",
              "      <th>9</th>\n",
              "      <td>KD Karthik</td>\n",
              "      <td>334</td>\n",
              "      <td>1336</td>\n",
              "      <td>3360</td>\n",
              "      <td>2649</td>\n",
              "      <td>126.840317</td>\n",
              "    </tr>\n",
              "  </tbody>\n",
              "</table>\n",
              "</div>\n",
              "      <button class=\"colab-df-convert\" onclick=\"convertToInteractive('df-98170c18-473a-4945-ba07-50049dc1ff4b')\"\n",
              "              title=\"Convert this dataframe to an interactive table.\"\n",
              "              style=\"display:none;\">\n",
              "        \n",
              "  <svg xmlns=\"http://www.w3.org/2000/svg\" height=\"24px\"viewBox=\"0 0 24 24\"\n",
              "       width=\"24px\">\n",
              "    <path d=\"M0 0h24v24H0V0z\" fill=\"none\"/>\n",
              "    <path d=\"M18.56 5.44l.94 2.06.94-2.06 2.06-.94-2.06-.94-.94-2.06-.94 2.06-2.06.94zm-11 1L8.5 8.5l.94-2.06 2.06-.94-2.06-.94L8.5 2.5l-.94 2.06-2.06.94zm10 10l.94 2.06.94-2.06 2.06-.94-2.06-.94-.94-2.06-.94 2.06-2.06.94z\"/><path d=\"M17.41 7.96l-1.37-1.37c-.4-.4-.92-.59-1.43-.59-.52 0-1.04.2-1.43.59L10.3 9.45l-7.72 7.72c-.78.78-.78 2.05 0 2.83L4 21.41c.39.39.9.59 1.41.59.51 0 1.02-.2 1.41-.59l7.78-7.78 2.81-2.81c.8-.78.8-2.07 0-2.86zM5.41 20L4 18.59l7.72-7.72 1.47 1.35L5.41 20z\"/>\n",
              "  </svg>\n",
              "      </button>\n",
              "      \n",
              "  <style>\n",
              "    .colab-df-container {\n",
              "      display:flex;\n",
              "      flex-wrap:wrap;\n",
              "      gap: 12px;\n",
              "    }\n",
              "\n",
              "    .colab-df-convert {\n",
              "      background-color: #E8F0FE;\n",
              "      border: none;\n",
              "      border-radius: 50%;\n",
              "      cursor: pointer;\n",
              "      display: none;\n",
              "      fill: #1967D2;\n",
              "      height: 32px;\n",
              "      padding: 0 0 0 0;\n",
              "      width: 32px;\n",
              "    }\n",
              "\n",
              "    .colab-df-convert:hover {\n",
              "      background-color: #E2EBFA;\n",
              "      box-shadow: 0px 1px 2px rgba(60, 64, 67, 0.3), 0px 1px 3px 1px rgba(60, 64, 67, 0.15);\n",
              "      fill: #174EA6;\n",
              "    }\n",
              "\n",
              "    [theme=dark] .colab-df-convert {\n",
              "      background-color: #3B4455;\n",
              "      fill: #D2E3FC;\n",
              "    }\n",
              "\n",
              "    [theme=dark] .colab-df-convert:hover {\n",
              "      background-color: #434B5C;\n",
              "      box-shadow: 0px 1px 3px 1px rgba(0, 0, 0, 0.15);\n",
              "      filter: drop-shadow(0px 1px 2px rgba(0, 0, 0, 0.3));\n",
              "      fill: #FFFFFF;\n",
              "    }\n",
              "  </style>\n",
              "\n",
              "      <script>\n",
              "        const buttonEl =\n",
              "          document.querySelector('#df-98170c18-473a-4945-ba07-50049dc1ff4b button.colab-df-convert');\n",
              "        buttonEl.style.display =\n",
              "          google.colab.kernel.accessAllowed ? 'block' : 'none';\n",
              "\n",
              "        async function convertToInteractive(key) {\n",
              "          const element = document.querySelector('#df-98170c18-473a-4945-ba07-50049dc1ff4b');\n",
              "          const dataTable =\n",
              "            await google.colab.kernel.invokeFunction('convertToInteractive',\n",
              "                                                     [key], {});\n",
              "          if (!dataTable) return;\n",
              "\n",
              "          const docLinkHtml = 'Like what you see? Visit the ' +\n",
              "            '<a target=\"_blank\" href=https://colab.research.google.com/notebooks/data_table.ipynb>data table notebook</a>'\n",
              "            + ' to learn more about interactive tables.';\n",
              "          element.innerHTML = '';\n",
              "          dataTable['output_type'] = 'display_data';\n",
              "          await google.colab.output.renderOutput(dataTable, element);\n",
              "          const docLink = document.createElement('div');\n",
              "          docLink.innerHTML = docLinkHtml;\n",
              "          element.appendChild(docLink);\n",
              "        }\n",
              "      </script>\n",
              "    </div>\n",
              "  </div>\n",
              "  "
            ]
          },
          "metadata": {},
          "execution_count": 75
        }
      ],
      "source": [
        "four = df.groupby('batsman')['batsman_runs'].agg(lambda x: (x==4).sum()).reset_index().rename(columns={'batsman_runs': 'no. of 4\\'s'})\n",
        "\n",
        "# Comparing total runs scored with total 4's score\n",
        "four['total_4_score'] = four['no. of 4\\'s']*4\n",
        "comparison_data_on_4 = pd.merge(four, strike_rate_data, how='inner', on='batsman')\n",
        "\n",
        "comparison_data_on_4.sort_values(by='no. of 4\\'s',ascending =False).head(10).reset_index().drop('index',axis=1)"
      ]
    },
    {
      "cell_type": "code",
      "source": [
        "top_4_batsman = comparison_data_on_4.sort_values(by='no. of 4\\'s', ascending=False).head(5).reset_index().drop('index',axis=1)\n",
        "x = np.array(top_4_batsman['batsman'])\n",
        "y = np.array(top_4_batsman['no. of 4\\'s'])\n",
        "\n",
        "col=['darkblue', 'orange', 'green', 'red', 'purple']\n",
        "\n",
        "fig, axes = plt.subplots(1,2, figsize=(20, 6))\n",
        "axes[0].pie(top_4_batsman['no. of 4\\'s'], labels=top_4_batsman['batsman'], colors=col)\n",
        "\n",
        "axes[1].bar(x, y, color=col)\n",
        "axes[1].set(ylim=[400, 480])\n",
        "axes[1].set_xlabel('Batsmen')\n",
        "axes[1].set_ylabel('No. of 4\\' hit')"
      ],
      "metadata": {
        "id": "whqU2jsykywj",
        "outputId": "57400d67-ee17-451c-e97d-66d8851cb141",
        "colab": {
          "base_uri": "https://localhost:8080/",
          "height": 410
        }
      },
      "id": "whqU2jsykywj",
      "execution_count": 77,
      "outputs": [
        {
          "output_type": "execute_result",
          "data": {
            "text/plain": [
              "Text(0, 0.5, \"No. of 4' hit\")"
            ]
          },
          "metadata": {},
          "execution_count": 77
        },
        {
          "output_type": "display_data",
          "data": {
            "text/plain": [
              "<Figure size 1440x432 with 2 Axes>"
            ],
            "image/png": "[encoded data removed]"
          },
          "metadata": {
            "needs_background": "light"
          }
        }
      ]
    },
    {
      "cell_type": "code",
      "source": [
        "comparison_data_on_4.corr()"
      ],
      "metadata": {
        "colab": {
          "base_uri": "https://localhost:8080/",
          "height": 206
        },
        "id": "i4dWH_fizBDC",
        "outputId": "352c8b54-88af-4c14-d207-36e1752e336c"
      },
      "id": "i4dWH_fizBDC",
      "execution_count": 27,
      "outputs": [
        {
          "output_type": "execute_result",
          "data": {
            "text/plain": [
              "                   no. of 4's  total_4_score  total_runs  total_balls_faced  \\\n",
              "no. of 4's           1.000000       1.000000    0.982518           0.984907   \n",
              "total_4_score        1.000000       1.000000    0.982518           0.984907   \n",
              "total_runs           0.982518       0.982518    1.000000           0.995649   \n",
              "total_balls_faced    0.984907       0.984907    0.995649           1.000000   \n",
              "strike_rate          0.265865       0.265865    0.280186           0.265038   \n",
              "\n",
              "                   strike_rate  \n",
              "no. of 4's            0.265865  \n",
              "total_4_score         0.265865  \n",
              "total_runs            0.280186  \n",
              "total_balls_faced     0.265038  \n",
              "strike_rate           1.000000  "
            ],
            "text/html": [
              "\n",
              "  <div id=\"df-6011d895-526c-421e-bc03-3e660a56981a\">\n",
              "    <div class=\"colab-df-container\">\n",
              "      <div>\n",
              "<style scoped>\n",
              "    .dataframe tbody tr th:only-of-type {\n",
              "        vertical-align: middle;\n",
              "    }\n",
              "\n",
              "    .dataframe tbody tr th {\n",
              "        vertical-align: top;\n",
              "    }\n",
              "\n",
              "    .dataframe thead th {\n",
              "        text-align: right;\n",
              "    }\n",
              "</style>\n",
              "<table border=\"1\" class=\"dataframe\">\n",
              "  <thead>\n",
              "    <tr style=\"text-align: right;\">\n",
              "      <th></th>\n",
              "      <th>no. of 4's</th>\n",
              "      <th>total_4_score</th>\n",
              "      <th>total_runs</th>\n",
              "      <th>total_balls_faced</th>\n",
              "      <th>strike_rate</th>\n",
              "    </tr>\n",
              "  </thead>\n",
              "  <tbody>\n",
              "    <tr>\n",
              "      <th>no. of 4's</th>\n",
              "      <td>1.000000</td>\n",
              "      <td>1.000000</td>\n",
              "      <td>0.982518</td>\n",
              "      <td>0.984907</td>\n",
              "      <td>0.265865</td>\n",
              "    </tr>\n",
              "    <tr>\n",
              "      <th>total_4_score</th>\n",
              "      <td>1.000000</td>\n",
              "      <td>1.000000</td>\n",
              "      <td>0.982518</td>\n",
              "      <td>0.984907</td>\n",
              "      <td>0.265865</td>\n",
              "    </tr>\n",
              "    <tr>\n",
              "      <th>total_runs</th>\n",
              "      <td>0.982518</td>\n",
              "      <td>0.982518</td>\n",
              "      <td>1.000000</td>\n",
              "      <td>0.995649</td>\n",
              "      <td>0.280186</td>\n",
              "    </tr>\n",
              "    <tr>\n",
              "      <th>total_balls_faced</th>\n",
              "      <td>0.984907</td>\n",
              "      <td>0.984907</td>\n",
              "      <td>0.995649</td>\n",
              "      <td>1.000000</td>\n",
              "      <td>0.265038</td>\n",
              "    </tr>\n",
              "    <tr>\n",
              "      <th>strike_rate</th>\n",
              "      <td>0.265865</td>\n",
              "      <td>0.265865</td>\n",
              "      <td>0.280186</td>\n",
              "      <td>0.265038</td>\n",
              "      <td>1.000000</td>\n",
              "    </tr>\n",
              "  </tbody>\n",
              "</table>\n",
              "</div>\n",
              "      <button class=\"colab-df-convert\" onclick=\"convertToInteractive('df-6011d895-526c-421e-bc03-3e660a56981a')\"\n",
              "              title=\"Convert this dataframe to an interactive table.\"\n",
              "              style=\"display:none;\">\n",
              "        \n",
              "  <svg xmlns=\"http://www.w3.org/2000/svg\" height=\"24px\"viewBox=\"0 0 24 24\"\n",
              "       width=\"24px\">\n",
              "    <path d=\"M0 0h24v24H0V0z\" fill=\"none\"/>\n",
              "    <path d=\"M18.56 5.44l.94 2.06.94-2.06 2.06-.94-2.06-.94-.94-2.06-.94 2.06-2.06.94zm-11 1L8.5 8.5l.94-2.06 2.06-.94-2.06-.94L8.5 2.5l-.94 2.06-2.06.94zm10 10l.94 2.06.94-2.06 2.06-.94-2.06-.94-.94-2.06-.94 2.06-2.06.94z\"/><path d=\"M17.41 7.96l-1.37-1.37c-.4-.4-.92-.59-1.43-.59-.52 0-1.04.2-1.43.59L10.3 9.45l-7.72 7.72c-.78.78-.78 2.05 0 2.83L4 21.41c.39.39.9.59 1.41.59.51 0 1.02-.2 1.41-.59l7.78-7.78 2.81-2.81c.8-.78.8-2.07 0-2.86zM5.41 20L4 18.59l7.72-7.72 1.47 1.35L5.41 20z\"/>\n",
              "  </svg>\n",
              "      </button>\n",
              "      \n",
              "  <style>\n",
              "    .colab-df-container {\n",
              "      display:flex;\n",
              "      flex-wrap:wrap;\n",
              "      gap: 12px;\n",
              "    }\n",
              "\n",
              "    .colab-df-convert {\n",
              "      background-color: #E8F0FE;\n",
              "      border: none;\n",
              "      border-radius: 50%;\n",
              "      cursor: pointer;\n",
              "      display: none;\n",
              "      fill: #1967D2;\n",
              "      height: 32px;\n",
              "      padding: 0 0 0 0;\n",
              "      width: 32px;\n",
              "    }\n",
              "\n",
              "    .colab-df-convert:hover {\n",
              "      background-color: #E2EBFA;\n",
              "      box-shadow: 0px 1px 2px rgba(60, 64, 67, 0.3), 0px 1px 3px 1px rgba(60, 64, 67, 0.15);\n",
              "      fill: #174EA6;\n",
              "    }\n",
              "\n",
              "    [theme=dark] .colab-df-convert {\n",
              "      background-color: #3B4455;\n",
              "      fill: #D2E3FC;\n",
              "    }\n",
              "\n",
              "    [theme=dark] .colab-df-convert:hover {\n",
              "      background-color: #434B5C;\n",
              "      box-shadow: 0px 1px 3px 1px rgba(0, 0, 0, 0.15);\n",
              "      filter: drop-shadow(0px 1px 2px rgba(0, 0, 0, 0.3));\n",
              "      fill: #FFFFFF;\n",
              "    }\n",
              "  </style>\n",
              "\n",
              "      <script>\n",
              "        const buttonEl =\n",
              "          document.querySelector('#df-6011d895-526c-421e-bc03-3e660a56981a button.colab-df-convert');\n",
              "        buttonEl.style.display =\n",
              "          google.colab.kernel.accessAllowed ? 'block' : 'none';\n",
              "\n",
              "        async function convertToInteractive(key) {\n",
              "          const element = document.querySelector('#df-6011d895-526c-421e-bc03-3e660a56981a');\n",
              "          const dataTable =\n",
              "            await google.colab.kernel.invokeFunction('convertToInteractive',\n",
              "                                                     [key], {});\n",
              "          if (!dataTable) return;\n",
              "\n",
              "          const docLinkHtml = 'Like what you see? Visit the ' +\n",
              "            '<a target=\"_blank\" href=https://colab.research.google.com/notebooks/data_table.ipynb>data table notebook</a>'\n",
              "            + ' to learn more about interactive tables.';\n",
              "          element.innerHTML = '';\n",
              "          dataTable['output_type'] = 'display_data';\n",
              "          await google.colab.output.renderOutput(dataTable, element);\n",
              "          const docLink = document.createElement('div');\n",
              "          docLink.innerHTML = docLinkHtml;\n",
              "          element.appendChild(docLink);\n",
              "        }\n",
              "      </script>\n",
              "    </div>\n",
              "  </div>\n",
              "  "
            ]
          },
          "metadata": {},
          "execution_count": 27
        }
      ]
    },
    {
      "cell_type": "markdown",
      "source": [
        "#####Derived attributes correlations:\n",
        "<br>\n",
        "\n",
        "1.a) no. of 4's have high positive correlation of **0.9837** with total_balls_faced by batsman. As the batsman faces more balls, he gets comfortable in the pitch resulting in hitting more 4's.\n",
        "\n",
        "1.b) This value is greater than the one we got for no. of 6's vs total_balls_faced. Which means it is easier to hit 4's than 6's once a batsman is comfortable in the pitch.\n",
        "\n",
        "2.a) no. of 4's have high positive correlation of **0.9839** with total runs scored by batsman. Meaning, with the increase in 4's, total runs scored by the player also increases.\n",
        "\n",
        "2.b) This value is greater than the one we got for no. of 6's vs total_runs. Which means the impact of 4's is greater than 6's in the total runs contribution."
      ],
      "metadata": {
        "id": "hJ8et9-hLdPb"
      },
      "id": "hJ8et9-hLdPb"
    },
    {
      "cell_type": "markdown",
      "id": "2b16d6b0",
      "metadata": {
        "id": "2b16d6b0"
      },
      "source": [
        "####4: Top 5 bowlers based on wickets taken (in trivial)"
      ]
    },
    {
      "cell_type": "code",
      "execution_count": 78,
      "id": "c965538d",
      "metadata": {
        "colab": {
          "base_uri": "https://localhost:8080/",
          "height": 363
        },
        "id": "c965538d",
        "outputId": "e7e2cdad-182b-4bce-af0f-4bcccd9acb10"
      },
      "outputs": [
        {
          "output_type": "execute_result",
          "data": {
            "text/plain": [
              "            bowler  wickets taken\n",
              "0         DJ Bravo            156\n",
              "1       SL Malinga            153\n",
              "2        PP Chawla            150\n",
              "3  Harbhajan Singh            141\n",
              "4        SP Narine            132\n",
              "5         R Ashwin            128\n",
              "6         UT Yadav            126\n",
              "7        YS Chahal            123\n",
              "8          B Kumar            117\n",
              "9         A Mishra            115"
            ],
            "text/html": [
              "\n",
              "  <div id=\"df-1552e4f2-db25-49d0-8311-6aed198e976f\">\n",
              "    <div class=\"colab-df-container\">\n",
              "      <div>\n",
              "<style scoped>\n",
              "    .dataframe tbody tr th:only-of-type {\n",
              "        vertical-align: middle;\n",
              "    }\n",
              "\n",
              "    .dataframe tbody tr th {\n",
              "        vertical-align: top;\n",
              "    }\n",
              "\n",
              "    .dataframe thead th {\n",
              "        text-align: right;\n",
              "    }\n",
              "</style>\n",
              "<table border=\"1\" class=\"dataframe\">\n",
              "  <thead>\n",
              "    <tr style=\"text-align: right;\">\n",
              "      <th></th>\n",
              "      <th>bowler</th>\n",
              "      <th>wickets taken</th>\n",
              "    </tr>\n",
              "  </thead>\n",
              "  <tbody>\n",
              "    <tr>\n",
              "      <th>0</th>\n",
              "      <td>DJ Bravo</td>\n",
              "      <td>156</td>\n",
              "    </tr>\n",
              "    <tr>\n",
              "      <th>1</th>\n",
              "      <td>SL Malinga</td>\n",
              "      <td>153</td>\n",
              "    </tr>\n",
              "    <tr>\n",
              "      <th>2</th>\n",
              "      <td>PP Chawla</td>\n",
              "      <td>150</td>\n",
              "    </tr>\n",
              "    <tr>\n",
              "      <th>3</th>\n",
              "      <td>Harbhajan Singh</td>\n",
              "      <td>141</td>\n",
              "    </tr>\n",
              "    <tr>\n",
              "      <th>4</th>\n",
              "      <td>SP Narine</td>\n",
              "      <td>132</td>\n",
              "    </tr>\n",
              "    <tr>\n",
              "      <th>5</th>\n",
              "      <td>R Ashwin</td>\n",
              "      <td>128</td>\n",
              "    </tr>\n",
              "    <tr>\n",
              "      <th>6</th>\n",
              "      <td>UT Yadav</td>\n",
              "      <td>126</td>\n",
              "    </tr>\n",
              "    <tr>\n",
              "      <th>7</th>\n",
              "      <td>YS Chahal</td>\n",
              "      <td>123</td>\n",
              "    </tr>\n",
              "    <tr>\n",
              "      <th>8</th>\n",
              "      <td>B Kumar</td>\n",
              "      <td>117</td>\n",
              "    </tr>\n",
              "    <tr>\n",
              "      <th>9</th>\n",
              "      <td>A Mishra</td>\n",
              "      <td>115</td>\n",
              "    </tr>\n",
              "  </tbody>\n",
              "</table>\n",
              "</div>\n",
              "      <button class=\"colab-df-convert\" onclick=\"convertToInteractive('df-1552e4f2-db25-49d0-8311-6aed198e976f')\"\n",
              "              title=\"Convert this dataframe to an interactive table.\"\n",
              "              style=\"display:none;\">\n",
              "        \n",
              "  <svg xmlns=\"http://www.w3.org/2000/svg\" height=\"24px\"viewBox=\"0 0 24 24\"\n",
              "       width=\"24px\">\n",
              "    <path d=\"M0 0h24v24H0V0z\" fill=\"none\"/>\n",
              "    <path d=\"M18.56 5.44l.94 2.06.94-2.06 2.06-.94-2.06-.94-.94-2.06-.94 2.06-2.06.94zm-11 1L8.5 8.5l.94-2.06 2.06-.94-2.06-.94L8.5 2.5l-.94 2.06-2.06.94zm10 10l.94 2.06.94-2.06 2.06-.94-2.06-.94-.94-2.06-.94 2.06-2.06.94z\"/><path d=\"M17.41 7.96l-1.37-1.37c-.4-.4-.92-.59-1.43-.59-.52 0-1.04.2-1.43.59L10.3 9.45l-7.72 7.72c-.78.78-.78 2.05 0 2.83L4 21.41c.39.39.9.59 1.41.59.51 0 1.02-.2 1.41-.59l7.78-7.78 2.81-2.81c.8-.78.8-2.07 0-2.86zM5.41 20L4 18.59l7.72-7.72 1.47 1.35L5.41 20z\"/>\n",
              "  </svg>\n",
              "      </button>\n",
              "      \n",
              "  <style>\n",
              "    .colab-df-container {\n",
              "      display:flex;\n",
              "      flex-wrap:wrap;\n",
              "      gap: 12px;\n",
              "    }\n",
              "\n",
              "    .colab-df-convert {\n",
              "      background-color: #E8F0FE;\n",
              "      border: none;\n",
              "      border-radius: 50%;\n",
              "      cursor: pointer;\n",
              "      display: none;\n",
              "      fill: #1967D2;\n",
              "      height: 32px;\n",
              "      padding: 0 0 0 0;\n",
              "      width: 32px;\n",
              "    }\n",
              "\n",
              "    .colab-df-convert:hover {\n",
              "      background-color: #E2EBFA;\n",
              "      box-shadow: 0px 1px 2px rgba(60, 64, 67, 0.3), 0px 1px 3px 1px rgba(60, 64, 67, 0.15);\n",
              "      fill: #174EA6;\n",
              "    }\n",
              "\n",
              "    [theme=dark] .colab-df-convert {\n",
              "      background-color: #3B4455;\n",
              "      fill: #D2E3FC;\n",
              "    }\n",
              "\n",
              "    [theme=dark] .colab-df-convert:hover {\n",
              "      background-color: #434B5C;\n",
              "      box-shadow: 0px 1px 3px 1px rgba(0, 0, 0, 0.15);\n",
              "      filter: drop-shadow(0px 1px 2px rgba(0, 0, 0, 0.3));\n",
              "      fill: #FFFFFF;\n",
              "    }\n",
              "  </style>\n",
              "\n",
              "      <script>\n",
              "        const buttonEl =\n",
              "          document.querySelector('#df-1552e4f2-db25-49d0-8311-6aed198e976f button.colab-df-convert');\n",
              "        buttonEl.style.display =\n",
              "          google.colab.kernel.accessAllowed ? 'block' : 'none';\n",
              "\n",
              "        async function convertToInteractive(key) {\n",
              "          const element = document.querySelector('#df-1552e4f2-db25-49d0-8311-6aed198e976f');\n",
              "          const dataTable =\n",
              "            await google.colab.kernel.invokeFunction('convertToInteractive',\n",
              "                                                     [key], {});\n",
              "          if (!dataTable) return;\n",
              "\n",
              "          const docLinkHtml = 'Like what you see? Visit the ' +\n",
              "            '<a target=\"_blank\" href=https://colab.research.google.com/notebooks/data_table.ipynb>data table notebook</a>'\n",
              "            + ' to learn more about interactive tables.';\n",
              "          element.innerHTML = '';\n",
              "          dataTable['output_type'] = 'display_data';\n",
              "          await google.colab.output.renderOutput(dataTable, element);\n",
              "          const docLink = document.createElement('div');\n",
              "          docLink.innerHTML = docLinkHtml;\n",
              "          element.appendChild(docLink);\n",
              "        }\n",
              "      </script>\n",
              "    </div>\n",
              "  </div>\n",
              "  "
            ]
          },
          "metadata": {},
          "execution_count": 78
        }
      ],
      "source": [
        "wicket = df.groupby(['bowler'])['is_wicket'].sum().reset_index()\n",
        "sortedbowl_players = wicket.sort_values(by ='is_wicket',ascending =False).head(10).reset_index().drop('index',axis=1)\n",
        "sortedbowl_players = sortedbowl_players.rename(columns={'is_wicket': 'wickets taken'})\n",
        "sortedbowl_players"
      ]
    },
    {
      "cell_type": "code",
      "source": [
        "top_5_bowler = sortedbowl_players.sort_values(by='wickets taken', ascending=False).head(5).reset_index().drop('index',axis=1)\n",
        "x = np.array(top_5_bowler['bowler'])\n",
        "y = np.array(top_5_bowler['wickets taken'])\n",
        "\n",
        "col=['darkblue', 'orange', 'green', 'red', 'purple']\n",
        "\n",
        "fig, axes = plt.subplots(1,2, figsize=(20, 6))\n",
        "axes[0].pie(top_5_bowler['wickets taken'], labels=top_5_bowler['bowler'], colors=col)\n",
        "\n",
        "axes[1].bar(x, y, color=col)\n",
        "axes[1].set(ylim=[120, 160])\n",
        "axes[1].set_xlabel('Bowlers')\n",
        "axes[1].set_ylabel('No. of wickets Taken')"
      ],
      "metadata": {
        "id": "Q-8-XanxlEyx",
        "outputId": "b0204349-f7f2-44e3-f5da-1796eecb4097",
        "colab": {
          "base_uri": "https://localhost:8080/",
          "height": 410
        }
      },
      "id": "Q-8-XanxlEyx",
      "execution_count": 79,
      "outputs": [
        {
          "output_type": "execute_result",
          "data": {
            "text/plain": [
              "Text(0, 0.5, 'No. of wickets Taken')"
            ]
          },
          "metadata": {},
          "execution_count": 79
        },
        {
          "output_type": "display_data",
          "data": {
            "text/plain": [
              "<Figure size 1440x432 with 2 Axes>"
            ],
            "image/png": "[encoded data removed]"
          },
          "metadata": {
            "needs_background": "light"
          }
        }
      ]
    },
    {
      "cell_type": "markdown",
      "id": "9857a855",
      "metadata": {
        "id": "9857a855"
      },
      "source": [
        "#### 5: Top 5 bowlers based on most innings played"
      ]
    },
    {
      "cell_type": "code",
      "execution_count": 80,
      "id": "c10fee1b",
      "metadata": {
        "scrolled": true,
        "colab": {
          "base_uri": "https://localhost:8080/",
          "height": 363
        },
        "id": "c10fee1b",
        "outputId": "0675f6fc-0103-413f-94d0-5c2523a16beb"
      },
      "outputs": [
        {
          "output_type": "execute_result",
          "data": {
            "text/plain": [
              "            bowler  innings  wickets_taken  runs_concieved\n",
              "0        PP Chawla      144            150            3712\n",
              "1  Harbhajan Singh      140            141            3506\n",
              "2        RA Jadeja      130            100            2844\n",
              "3         R Ashwin      123            128            2992\n",
              "4         DJ Bravo      122            156            3262\n",
              "5         A Mishra      110            115            2810\n",
              "6        SP Narine      110            132            2891\n",
              "7         UT Yadav      107            126            3069\n",
              "8       SL Malinga      105            153            2853\n",
              "9          P Kumar      100             82            2566"
            ],
            "text/html": [
              "\n",
              "  <div id=\"df-fc3d430f-3c65-4f5a-ad1b-e0ee6b61267c\">\n",
              "    <div class=\"colab-df-container\">\n",
              "      <div>\n",
              "<style scoped>\n",
              "    .dataframe tbody tr th:only-of-type {\n",
              "        vertical-align: middle;\n",
              "    }\n",
              "\n",
              "    .dataframe tbody tr th {\n",
              "        vertical-align: top;\n",
              "    }\n",
              "\n",
              "    .dataframe thead th {\n",
              "        text-align: right;\n",
              "    }\n",
              "</style>\n",
              "<table border=\"1\" class=\"dataframe\">\n",
              "  <thead>\n",
              "    <tr style=\"text-align: right;\">\n",
              "      <th></th>\n",
              "      <th>bowler</th>\n",
              "      <th>innings</th>\n",
              "      <th>wickets_taken</th>\n",
              "      <th>runs_concieved</th>\n",
              "    </tr>\n",
              "  </thead>\n",
              "  <tbody>\n",
              "    <tr>\n",
              "      <th>0</th>\n",
              "      <td>PP Chawla</td>\n",
              "      <td>144</td>\n",
              "      <td>150</td>\n",
              "      <td>3712</td>\n",
              "    </tr>\n",
              "    <tr>\n",
              "      <th>1</th>\n",
              "      <td>Harbhajan Singh</td>\n",
              "      <td>140</td>\n",
              "      <td>141</td>\n",
              "      <td>3506</td>\n",
              "    </tr>\n",
              "    <tr>\n",
              "      <th>2</th>\n",
              "      <td>RA Jadeja</td>\n",
              "      <td>130</td>\n",
              "      <td>100</td>\n",
              "      <td>2844</td>\n",
              "    </tr>\n",
              "    <tr>\n",
              "      <th>3</th>\n",
              "      <td>R Ashwin</td>\n",
              "      <td>123</td>\n",
              "      <td>128</td>\n",
              "      <td>2992</td>\n",
              "    </tr>\n",
              "    <tr>\n",
              "      <th>4</th>\n",
              "      <td>DJ Bravo</td>\n",
              "      <td>122</td>\n",
              "      <td>156</td>\n",
              "      <td>3262</td>\n",
              "    </tr>\n",
              "    <tr>\n",
              "      <th>5</th>\n",
              "      <td>A Mishra</td>\n",
              "      <td>110</td>\n",
              "      <td>115</td>\n",
              "      <td>2810</td>\n",
              "    </tr>\n",
              "    <tr>\n",
              "      <th>6</th>\n",
              "      <td>SP Narine</td>\n",
              "      <td>110</td>\n",
              "      <td>132</td>\n",
              "      <td>2891</td>\n",
              "    </tr>\n",
              "    <tr>\n",
              "      <th>7</th>\n",
              "      <td>UT Yadav</td>\n",
              "      <td>107</td>\n",
              "      <td>126</td>\n",
              "      <td>3069</td>\n",
              "    </tr>\n",
              "    <tr>\n",
              "      <th>8</th>\n",
              "      <td>SL Malinga</td>\n",
              "      <td>105</td>\n",
              "      <td>153</td>\n",
              "      <td>2853</td>\n",
              "    </tr>\n",
              "    <tr>\n",
              "      <th>9</th>\n",
              "      <td>P Kumar</td>\n",
              "      <td>100</td>\n",
              "      <td>82</td>\n",
              "      <td>2566</td>\n",
              "    </tr>\n",
              "  </tbody>\n",
              "</table>\n",
              "</div>\n",
              "      <button class=\"colab-df-convert\" onclick=\"convertToInteractive('df-fc3d430f-3c65-4f5a-ad1b-e0ee6b61267c')\"\n",
              "              title=\"Convert this dataframe to an interactive table.\"\n",
              "              style=\"display:none;\">\n",
              "        \n",
              "  <svg xmlns=\"http://www.w3.org/2000/svg\" height=\"24px\"viewBox=\"0 0 24 24\"\n",
              "       width=\"24px\">\n",
              "    <path d=\"M0 0h24v24H0V0z\" fill=\"none\"/>\n",
              "    <path d=\"M18.56 5.44l.94 2.06.94-2.06 2.06-.94-2.06-.94-.94-2.06-.94 2.06-2.06.94zm-11 1L8.5 8.5l.94-2.06 2.06-.94-2.06-.94L8.5 2.5l-.94 2.06-2.06.94zm10 10l.94 2.06.94-2.06 2.06-.94-2.06-.94-.94-2.06-.94 2.06-2.06.94z\"/><path d=\"M17.41 7.96l-1.37-1.37c-.4-.4-.92-.59-1.43-.59-.52 0-1.04.2-1.43.59L10.3 9.45l-7.72 7.72c-.78.78-.78 2.05 0 2.83L4 21.41c.39.39.9.59 1.41.59.51 0 1.02-.2 1.41-.59l7.78-7.78 2.81-2.81c.8-.78.8-2.07 0-2.86zM5.41 20L4 18.59l7.72-7.72 1.47 1.35L5.41 20z\"/>\n",
              "  </svg>\n",
              "      </button>\n",
              "      \n",
              "  <style>\n",
              "    .colab-df-container {\n",
              "      display:flex;\n",
              "      flex-wrap:wrap;\n",
              "      gap: 12px;\n",
              "    }\n",
              "\n",
              "    .colab-df-convert {\n",
              "      background-color: #E8F0FE;\n",
              "      border: none;\n",
              "      border-radius: 50%;\n",
              "      cursor: pointer;\n",
              "      display: none;\n",
              "      fill: #1967D2;\n",
              "      height: 32px;\n",
              "      padding: 0 0 0 0;\n",
              "      width: 32px;\n",
              "    }\n",
              "\n",
              "    .colab-df-convert:hover {\n",
              "      background-color: #E2EBFA;\n",
              "      box-shadow: 0px 1px 2px rgba(60, 64, 67, 0.3), 0px 1px 3px 1px rgba(60, 64, 67, 0.15);\n",
              "      fill: #174EA6;\n",
              "    }\n",
              "\n",
              "    [theme=dark] .colab-df-convert {\n",
              "      background-color: #3B4455;\n",
              "      fill: #D2E3FC;\n",
              "    }\n",
              "\n",
              "    [theme=dark] .colab-df-convert:hover {\n",
              "      background-color: #434B5C;\n",
              "      box-shadow: 0px 1px 3px 1px rgba(0, 0, 0, 0.15);\n",
              "      filter: drop-shadow(0px 1px 2px rgba(0, 0, 0, 0.3));\n",
              "      fill: #FFFFFF;\n",
              "    }\n",
              "  </style>\n",
              "\n",
              "      <script>\n",
              "        const buttonEl =\n",
              "          document.querySelector('#df-fc3d430f-3c65-4f5a-ad1b-e0ee6b61267c button.colab-df-convert');\n",
              "        buttonEl.style.display =\n",
              "          google.colab.kernel.accessAllowed ? 'block' : 'none';\n",
              "\n",
              "        async function convertToInteractive(key) {\n",
              "          const element = document.querySelector('#df-fc3d430f-3c65-4f5a-ad1b-e0ee6b61267c');\n",
              "          const dataTable =\n",
              "            await google.colab.kernel.invokeFunction('convertToInteractive',\n",
              "                                                     [key], {});\n",
              "          if (!dataTable) return;\n",
              "\n",
              "          const docLinkHtml = 'Like what you see? Visit the ' +\n",
              "            '<a target=\"_blank\" href=https://colab.research.google.com/notebooks/data_table.ipynb>data table notebook</a>'\n",
              "            + ' to learn more about interactive tables.';\n",
              "          element.innerHTML = '';\n",
              "          dataTable['output_type'] = 'display_data';\n",
              "          await google.colab.output.renderOutput(dataTable, element);\n",
              "          const docLink = document.createElement('div');\n",
              "          docLink.innerHTML = docLinkHtml;\n",
              "          element.appendChild(docLink);\n",
              "        }\n",
              "      </script>\n",
              "    </div>\n",
              "  </div>\n",
              "  "
            ]
          },
          "metadata": {},
          "execution_count": 80
        }
      ],
      "source": [
        "innings = df.groupby('bowler')[['id', 'is_wicket','batsman_runs']].agg(innings=('id', 'nunique'), wickets_taken=('is_wicket', 'sum'), runs_concieved=('batsman_runs', 'sum'))\n",
        "\n",
        "innings.sort_values(by='innings', ascending=False).head(10).reset_index()"
      ]
    },
    {
      "cell_type": "code",
      "source": [
        "top_5innings_bowler = innings.sort_values(by='innings', ascending=False).head(5).reset_index()\n",
        "x = np.array(top_5innings_bowler['bowler'])\n",
        "y = np.array(top_5innings_bowler['innings'])\n",
        "\n",
        "col=['darkblue', 'orange', 'green', 'red', 'purple']\n",
        "\n",
        "fig, axes = plt.subplots(1,2, figsize=(20, 6))\n",
        "axes[0].pie(top_5innings_bowler['innings'], labels=top_5innings_bowler['bowler'], colors=col)\n",
        "\n",
        "axes[1].bar(x, y, color=col)\n",
        "axes[1].set(ylim=[100, 150])\n",
        "axes[1].set_xlabel('Bowlers')\n",
        "axes[1].set_ylabel('No. of innings played')"
      ],
      "metadata": {
        "id": "4fdBLTpZluqr",
        "outputId": "54e6a4de-f3b6-4dcd-968c-467926541661",
        "colab": {
          "base_uri": "https://localhost:8080/",
          "height": 410
        }
      },
      "id": "4fdBLTpZluqr",
      "execution_count": 81,
      "outputs": [
        {
          "output_type": "execute_result",
          "data": {
            "text/plain": [
              "Text(0, 0.5, 'No. of innings played')"
            ]
          },
          "metadata": {},
          "execution_count": 81
        },
        {
          "output_type": "display_data",
          "data": {
            "text/plain": [
              "<Figure size 1440x432 with 2 Axes>"
            ],
            "image/png": "[encoded data removed]"
          },
          "metadata": {
            "needs_background": "light"
          }
        }
      ]
    },
    {
      "cell_type": "code",
      "execution_count": 82,
      "id": "ab10ab0a",
      "metadata": {
        "colab": {
          "base_uri": "https://localhost:8080/",
          "height": 143
        },
        "id": "ab10ab0a",
        "outputId": "2b4a7675-0d69-4ff8-9bb2-e246013948da"
      },
      "outputs": [
        {
          "output_type": "execute_result",
          "data": {
            "text/plain": [
              "                 innings  wickets_taken  runs_concieved\n",
              "innings         1.000000       0.958272        0.985515\n",
              "wickets_taken   0.958272       1.000000        0.979200\n",
              "runs_concieved  0.985515       0.979200        1.000000"
            ],
            "text/html": [
              "\n",
              "  <div id=\"df-dc3288a2-2039-405b-afa5-da9269130dc3\">\n",
              "    <div class=\"colab-df-container\">\n",
              "      <div>\n",
              "<style scoped>\n",
              "    .dataframe tbody tr th:only-of-type {\n",
              "        vertical-align: middle;\n",
              "    }\n",
              "\n",
              "    .dataframe tbody tr th {\n",
              "        vertical-align: top;\n",
              "    }\n",
              "\n",
              "    .dataframe thead th {\n",
              "        text-align: right;\n",
              "    }\n",
              "</style>\n",
              "<table border=\"1\" class=\"dataframe\">\n",
              "  <thead>\n",
              "    <tr style=\"text-align: right;\">\n",
              "      <th></th>\n",
              "      <th>innings</th>\n",
              "      <th>wickets_taken</th>\n",
              "      <th>runs_concieved</th>\n",
              "    </tr>\n",
              "  </thead>\n",
              "  <tbody>\n",
              "    <tr>\n",
              "      <th>innings</th>\n",
              "      <td>1.000000</td>\n",
              "      <td>0.958272</td>\n",
              "      <td>0.985515</td>\n",
              "    </tr>\n",
              "    <tr>\n",
              "      <th>wickets_taken</th>\n",
              "      <td>0.958272</td>\n",
              "      <td>1.000000</td>\n",
              "      <td>0.979200</td>\n",
              "    </tr>\n",
              "    <tr>\n",
              "      <th>runs_concieved</th>\n",
              "      <td>0.985515</td>\n",
              "      <td>0.979200</td>\n",
              "      <td>1.000000</td>\n",
              "    </tr>\n",
              "  </tbody>\n",
              "</table>\n",
              "</div>\n",
              "      <button class=\"colab-df-convert\" onclick=\"convertToInteractive('df-dc3288a2-2039-405b-afa5-da9269130dc3')\"\n",
              "              title=\"Convert this dataframe to an interactive table.\"\n",
              "              style=\"display:none;\">\n",
              "        \n",
              "  <svg xmlns=\"http://www.w3.org/2000/svg\" height=\"24px\"viewBox=\"0 0 24 24\"\n",
              "       width=\"24px\">\n",
              "    <path d=\"M0 0h24v24H0V0z\" fill=\"none\"/>\n",
              "    <path d=\"M18.56 5.44l.94 2.06.94-2.06 2.06-.94-2.06-.94-.94-2.06-.94 2.06-2.06.94zm-11 1L8.5 8.5l.94-2.06 2.06-.94-2.06-.94L8.5 2.5l-.94 2.06-2.06.94zm10 10l.94 2.06.94-2.06 2.06-.94-2.06-.94-.94-2.06-.94 2.06-2.06.94z\"/><path d=\"M17.41 7.96l-1.37-1.37c-.4-.4-.92-.59-1.43-.59-.52 0-1.04.2-1.43.59L10.3 9.45l-7.72 7.72c-.78.78-.78 2.05 0 2.83L4 21.41c.39.39.9.59 1.41.59.51 0 1.02-.2 1.41-.59l7.78-7.78 2.81-2.81c.8-.78.8-2.07 0-2.86zM5.41 20L4 18.59l7.72-7.72 1.47 1.35L5.41 20z\"/>\n",
              "  </svg>\n",
              "      </button>\n",
              "      \n",
              "  <style>\n",
              "    .colab-df-container {\n",
              "      display:flex;\n",
              "      flex-wrap:wrap;\n",
              "      gap: 12px;\n",
              "    }\n",
              "\n",
              "    .colab-df-convert {\n",
              "      background-color: #E8F0FE;\n",
              "      border: none;\n",
              "      border-radius: 50%;\n",
              "      cursor: pointer;\n",
              "      display: none;\n",
              "      fill: #1967D2;\n",
              "      height: 32px;\n",
              "      padding: 0 0 0 0;\n",
              "      width: 32px;\n",
              "    }\n",
              "\n",
              "    .colab-df-convert:hover {\n",
              "      background-color: #E2EBFA;\n",
              "      box-shadow: 0px 1px 2px rgba(60, 64, 67, 0.3), 0px 1px 3px 1px rgba(60, 64, 67, 0.15);\n",
              "      fill: #174EA6;\n",
              "    }\n",
              "\n",
              "    [theme=dark] .colab-df-convert {\n",
              "      background-color: #3B4455;\n",
              "      fill: #D2E3FC;\n",
              "    }\n",
              "\n",
              "    [theme=dark] .colab-df-convert:hover {\n",
              "      background-color: #434B5C;\n",
              "      box-shadow: 0px 1px 3px 1px rgba(0, 0, 0, 0.15);\n",
              "      filter: drop-shadow(0px 1px 2px rgba(0, 0, 0, 0.3));\n",
              "      fill: #FFFFFF;\n",
              "    }\n",
              "  </style>\n",
              "\n",
              "      <script>\n",
              "        const buttonEl =\n",
              "          document.querySelector('#df-dc3288a2-2039-405b-afa5-da9269130dc3 button.colab-df-convert');\n",
              "        buttonEl.style.display =\n",
              "          google.colab.kernel.accessAllowed ? 'block' : 'none';\n",
              "\n",
              "        async function convertToInteractive(key) {\n",
              "          const element = document.querySelector('#df-dc3288a2-2039-405b-afa5-da9269130dc3');\n",
              "          const dataTable =\n",
              "            await google.colab.kernel.invokeFunction('convertToInteractive',\n",
              "                                                     [key], {});\n",
              "          if (!dataTable) return;\n",
              "\n",
              "          const docLinkHtml = 'Like what you see? Visit the ' +\n",
              "            '<a target=\"_blank\" href=https://colab.research.google.com/notebooks/data_table.ipynb>data table notebook</a>'\n",
              "            + ' to learn more about interactive tables.';\n",
              "          element.innerHTML = '';\n",
              "          dataTable['output_type'] = 'display_data';\n",
              "          await google.colab.output.renderOutput(dataTable, element);\n",
              "          const docLink = document.createElement('div');\n",
              "          docLink.innerHTML = docLinkHtml;\n",
              "          element.appendChild(docLink);\n",
              "        }\n",
              "      </script>\n",
              "    </div>\n",
              "  </div>\n",
              "  "
            ]
          },
          "metadata": {},
          "execution_count": 82
        }
      ],
      "source": [
        "innings.corr()"
      ]
    },
    {
      "cell_type": "markdown",
      "source": [
        "Interesting derived attribute correlations:\n",
        "\n",
        "1. wickets_taken have high positive correlation of **0.9792** with runs_concieved. In order to setup more wickets, the bowler have concieved more runs in the process."
      ],
      "metadata": {
        "id": "QVZ02v-MA9v9"
      },
      "id": "QVZ02v-MA9v9"
    },
    {
      "cell_type": "markdown",
      "id": "8774c46f",
      "metadata": {
        "id": "8774c46f"
      },
      "source": [
        "#### 6: Top 5 bowlers based on economy"
      ]
    },
    {
      "cell_type": "code",
      "execution_count": 83,
      "id": "621587fc",
      "metadata": {
        "colab": {
          "base_uri": "https://localhost:8080/",
          "height": 363
        },
        "id": "621587fc",
        "outputId": "32f29322-bb06-4d9e-ed48-faa85a204d39"
      },
      "outputs": [
        {
          "output_type": "execute_result",
          "data": {
            "text/plain": [
              "            bowler  innings  runs_concieved  wicket_taken        over  \\\n",
              "0  Harbhajan Singh      140            3506           141  513.166667   \n",
              "1        PP Chawla      144            3712           150  482.000000   \n",
              "2         R Ashwin      123            2992           128  455.166667   \n",
              "3        SP Narine      110            2891           132  434.833333   \n",
              "4       SL Malinga      105            2853           153  426.500000   \n",
              "5         DJ Bravo      122            3262           156  423.166667   \n",
              "6         UT Yadav      107            3069           126  394.000000   \n",
              "7         A Mishra      110            2810           115  393.833333   \n",
              "8        RA Jadeja      130            2844           100  374.166667   \n",
              "9          P Kumar      100            2566            82  364.000000   \n",
              "\n",
              "    economy  \n",
              "0  6.832088  \n",
              "1  7.701245  \n",
              "2  6.573416  \n",
              "3  6.648524  \n",
              "4  6.689332  \n",
              "5  7.708547  \n",
              "6  7.789340  \n",
              "7  7.134998  \n",
              "8  7.600891  \n",
              "9  7.049451  "
            ],
            "text/html": [
              "\n",
              "  <div id=\"df-8522c1a7-05ed-4a3f-9c27-c4bed0ea6d15\">\n",
              "    <div class=\"colab-df-container\">\n",
              "      <div>\n",
              "<style scoped>\n",
              "    .dataframe tbody tr th:only-of-type {\n",
              "        vertical-align: middle;\n",
              "    }\n",
              "\n",
              "    .dataframe tbody tr th {\n",
              "        vertical-align: top;\n",
              "    }\n",
              "\n",
              "    .dataframe thead th {\n",
              "        text-align: right;\n",
              "    }\n",
              "</style>\n",
              "<table border=\"1\" class=\"dataframe\">\n",
              "  <thead>\n",
              "    <tr style=\"text-align: right;\">\n",
              "      <th></th>\n",
              "      <th>bowler</th>\n",
              "      <th>innings</th>\n",
              "      <th>runs_concieved</th>\n",
              "      <th>wicket_taken</th>\n",
              "      <th>over</th>\n",
              "      <th>economy</th>\n",
              "    </tr>\n",
              "  </thead>\n",
              "  <tbody>\n",
              "    <tr>\n",
              "      <th>0</th>\n",
              "      <td>Harbhajan Singh</td>\n",
              "      <td>140</td>\n",
              "      <td>3506</td>\n",
              "      <td>141</td>\n",
              "      <td>513.166667</td>\n",
              "      <td>6.832088</td>\n",
              "    </tr>\n",
              "    <tr>\n",
              "      <th>1</th>\n",
              "      <td>PP Chawla</td>\n",
              "      <td>144</td>\n",
              "      <td>3712</td>\n",
              "      <td>150</td>\n",
              "      <td>482.000000</td>\n",
              "      <td>7.701245</td>\n",
              "    </tr>\n",
              "    <tr>\n",
              "      <th>2</th>\n",
              "      <td>R Ashwin</td>\n",
              "      <td>123</td>\n",
              "      <td>2992</td>\n",
              "      <td>128</td>\n",
              "      <td>455.166667</td>\n",
              "      <td>6.573416</td>\n",
              "    </tr>\n",
              "    <tr>\n",
              "      <th>3</th>\n",
              "      <td>SP Narine</td>\n",
              "      <td>110</td>\n",
              "      <td>2891</td>\n",
              "      <td>132</td>\n",
              "      <td>434.833333</td>\n",
              "      <td>6.648524</td>\n",
              "    </tr>\n",
              "    <tr>\n",
              "      <th>4</th>\n",
              "      <td>SL Malinga</td>\n",
              "      <td>105</td>\n",
              "      <td>2853</td>\n",
              "      <td>153</td>\n",
              "      <td>426.500000</td>\n",
              "      <td>6.689332</td>\n",
              "    </tr>\n",
              "    <tr>\n",
              "      <th>5</th>\n",
              "      <td>DJ Bravo</td>\n",
              "      <td>122</td>\n",
              "      <td>3262</td>\n",
              "      <td>156</td>\n",
              "      <td>423.166667</td>\n",
              "      <td>7.708547</td>\n",
              "    </tr>\n",
              "    <tr>\n",
              "      <th>6</th>\n",
              "      <td>UT Yadav</td>\n",
              "      <td>107</td>\n",
              "      <td>3069</td>\n",
              "      <td>126</td>\n",
              "      <td>394.000000</td>\n",
              "      <td>7.789340</td>\n",
              "    </tr>\n",
              "    <tr>\n",
              "      <th>7</th>\n",
              "      <td>A Mishra</td>\n",
              "      <td>110</td>\n",
              "      <td>2810</td>\n",
              "      <td>115</td>\n",
              "      <td>393.833333</td>\n",
              "      <td>7.134998</td>\n",
              "    </tr>\n",
              "    <tr>\n",
              "      <th>8</th>\n",
              "      <td>RA Jadeja</td>\n",
              "      <td>130</td>\n",
              "      <td>2844</td>\n",
              "      <td>100</td>\n",
              "      <td>374.166667</td>\n",
              "      <td>7.600891</td>\n",
              "    </tr>\n",
              "    <tr>\n",
              "      <th>9</th>\n",
              "      <td>P Kumar</td>\n",
              "      <td>100</td>\n",
              "      <td>2566</td>\n",
              "      <td>82</td>\n",
              "      <td>364.000000</td>\n",
              "      <td>7.049451</td>\n",
              "    </tr>\n",
              "  </tbody>\n",
              "</table>\n",
              "</div>\n",
              "      <button class=\"colab-df-convert\" onclick=\"convertToInteractive('df-8522c1a7-05ed-4a3f-9c27-c4bed0ea6d15')\"\n",
              "              title=\"Convert this dataframe to an interactive table.\"\n",
              "              style=\"display:none;\">\n",
              "        \n",
              "  <svg xmlns=\"http://www.w3.org/2000/svg\" height=\"24px\"viewBox=\"0 0 24 24\"\n",
              "       width=\"24px\">\n",
              "    <path d=\"M0 0h24v24H0V0z\" fill=\"none\"/>\n",
              "    <path d=\"M18.56 5.44l.94 2.06.94-2.06 2.06-.94-2.06-.94-.94-2.06-.94 2.06-2.06.94zm-11 1L8.5 8.5l.94-2.06 2.06-.94-2.06-.94L8.5 2.5l-.94 2.06-2.06.94zm10 10l.94 2.06.94-2.06 2.06-.94-2.06-.94-.94-2.06-.94 2.06-2.06.94z\"/><path d=\"M17.41 7.96l-1.37-1.37c-.4-.4-.92-.59-1.43-.59-.52 0-1.04.2-1.43.59L10.3 9.45l-7.72 7.72c-.78.78-.78 2.05 0 2.83L4 21.41c.39.39.9.59 1.41.59.51 0 1.02-.2 1.41-.59l7.78-7.78 2.81-2.81c.8-.78.8-2.07 0-2.86zM5.41 20L4 18.59l7.72-7.72 1.47 1.35L5.41 20z\"/>\n",
              "  </svg>\n",
              "      </button>\n",
              "      \n",
              "  <style>\n",
              "    .colab-df-container {\n",
              "      display:flex;\n",
              "      flex-wrap:wrap;\n",
              "      gap: 12px;\n",
              "    }\n",
              "\n",
              "    .colab-df-convert {\n",
              "      background-color: #E8F0FE;\n",
              "      border: none;\n",
              "      border-radius: 50%;\n",
              "      cursor: pointer;\n",
              "      display: none;\n",
              "      fill: #1967D2;\n",
              "      height: 32px;\n",
              "      padding: 0 0 0 0;\n",
              "      width: 32px;\n",
              "    }\n",
              "\n",
              "    .colab-df-convert:hover {\n",
              "      background-color: #E2EBFA;\n",
              "      box-shadow: 0px 1px 2px rgba(60, 64, 67, 0.3), 0px 1px 3px 1px rgba(60, 64, 67, 0.15);\n",
              "      fill: #174EA6;\n",
              "    }\n",
              "\n",
              "    [theme=dark] .colab-df-convert {\n",
              "      background-color: #3B4455;\n",
              "      fill: #D2E3FC;\n",
              "    }\n",
              "\n",
              "    [theme=dark] .colab-df-convert:hover {\n",
              "      background-color: #434B5C;\n",
              "      box-shadow: 0px 1px 3px 1px rgba(0, 0, 0, 0.15);\n",
              "      filter: drop-shadow(0px 1px 2px rgba(0, 0, 0, 0.3));\n",
              "      fill: #FFFFFF;\n",
              "    }\n",
              "  </style>\n",
              "\n",
              "      <script>\n",
              "        const buttonEl =\n",
              "          document.querySelector('#df-8522c1a7-05ed-4a3f-9c27-c4bed0ea6d15 button.colab-df-convert');\n",
              "        buttonEl.style.display =\n",
              "          google.colab.kernel.accessAllowed ? 'block' : 'none';\n",
              "\n",
              "        async function convertToInteractive(key) {\n",
              "          const element = document.querySelector('#df-8522c1a7-05ed-4a3f-9c27-c4bed0ea6d15');\n",
              "          const dataTable =\n",
              "            await google.colab.kernel.invokeFunction('convertToInteractive',\n",
              "                                                     [key], {});\n",
              "          if (!dataTable) return;\n",
              "\n",
              "          const docLinkHtml = 'Like what you see? Visit the ' +\n",
              "            '<a target=\"_blank\" href=https://colab.research.google.com/notebooks/data_table.ipynb>data table notebook</a>'\n",
              "            + ' to learn more about interactive tables.';\n",
              "          element.innerHTML = '';\n",
              "          dataTable['output_type'] = 'display_data';\n",
              "          await google.colab.output.renderOutput(dataTable, element);\n",
              "          const docLink = document.createElement('div');\n",
              "          docLink.innerHTML = docLinkHtml;\n",
              "          element.appendChild(docLink);\n",
              "        }\n",
              "      </script>\n",
              "    </div>\n",
              "  </div>\n",
              "  "
            ]
          },
          "metadata": {},
          "execution_count": 83
        }
      ],
      "source": [
        "overs = df.groupby('bowler')[['id','batsman_runs', 'is_wicket','over']].agg(innings=('id', 'nunique'), runs_concieved=('batsman_runs', 'sum'), wicket_taken=('is_wicket', 'sum'), over=('over','count'))\n",
        "overs['over'] = overs['over']/6\n",
        "\n",
        "economy = overs\n",
        "economy['economy'] = (economy['runs_concieved']/(economy['over']))\n",
        "\n",
        "economy.sort_values(by ='over',ascending =False).head(10).reset_index()"
      ]
    },
    {
      "cell_type": "code",
      "source": [
        "top_5economy_bowler = economy.sort_values(by='over', ascending=False).head(5).reset_index()\n",
        "x = np.array(top_5economy_bowler['bowler'])\n",
        "y = np.array(top_5economy_bowler['economy'])\n",
        "\n",
        "col=['darkblue', 'orange', 'green', 'red', 'purple']\n",
        "\n",
        "fig, axes = plt.subplots(1,2, figsize=(20, 6))\n",
        "axes[0].pie(top_5economy_bowler['economy'], labels=top_5economy_bowler['bowler'], colors=col)\n",
        "\n",
        "axes[1].bar(x, y, color=col)\n",
        "axes[1].set(ylim=[5, 8])\n",
        "axes[1].set_xlabel('Bowlers')\n",
        "axes[1].set_ylabel('Economy')"
      ],
      "metadata": {
        "id": "D1mbLRERmRy3",
        "outputId": "c3b678a1-e6c9-4027-dee9-b623b5ed0953",
        "colab": {
          "base_uri": "https://localhost:8080/",
          "height": 410
        }
      },
      "id": "D1mbLRERmRy3",
      "execution_count": 84,
      "outputs": [
        {
          "output_type": "execute_result",
          "data": {
            "text/plain": [
              "Text(0, 0.5, 'Economy')"
            ]
          },
          "metadata": {},
          "execution_count": 84
        },
        {
          "output_type": "display_data",
          "data": {
            "text/plain": [
              "<Figure size 1440x432 with 2 Axes>"
            ],
            "image/png": "[encoded data removed]"
          },
          "metadata": {
            "needs_background": "light"
          }
        }
      ]
    },
    {
      "cell_type": "code",
      "execution_count": 85,
      "id": "14902426",
      "metadata": {
        "colab": {
          "base_uri": "https://localhost:8080/",
          "height": 206
        },
        "id": "14902426",
        "outputId": "e5e4b2c9-9ea5-41ee-8fd8-31b5b0e55ab9"
      },
      "outputs": [
        {
          "output_type": "execute_result",
          "data": {
            "text/plain": [
              "                 innings  runs_concieved  wicket_taken      over   economy\n",
              "innings         1.000000        0.985515      0.958272  0.984824 -0.249680\n",
              "runs_concieved  0.985515        1.000000      0.979200  0.995505 -0.230505\n",
              "wicket_taken    0.958272        0.979200      1.000000  0.982317 -0.252496\n",
              "over            0.984824        0.995505      0.982317  1.000000 -0.255340\n",
              "economy        -0.249680       -0.230505     -0.252496 -0.255340  1.000000"
            ],
            "text/html": [
              "\n",
              "  <div id=\"df-cd5a3464-b68c-463b-a51f-87f41722ab05\">\n",
              "    <div class=\"colab-df-container\">\n",
              "      <div>\n",
              "<style scoped>\n",
              "    .dataframe tbody tr th:only-of-type {\n",
              "        vertical-align: middle;\n",
              "    }\n",
              "\n",
              "    .dataframe tbody tr th {\n",
              "        vertical-align: top;\n",
              "    }\n",
              "\n",
              "    .dataframe thead th {\n",
              "        text-align: right;\n",
              "    }\n",
              "</style>\n",
              "<table border=\"1\" class=\"dataframe\">\n",
              "  <thead>\n",
              "    <tr style=\"text-align: right;\">\n",
              "      <th></th>\n",
              "      <th>innings</th>\n",
              "      <th>runs_concieved</th>\n",
              "      <th>wicket_taken</th>\n",
              "      <th>over</th>\n",
              "      <th>economy</th>\n",
              "    </tr>\n",
              "  </thead>\n",
              "  <tbody>\n",
              "    <tr>\n",
              "      <th>innings</th>\n",
              "      <td>1.000000</td>\n",
              "      <td>0.985515</td>\n",
              "      <td>0.958272</td>\n",
              "      <td>0.984824</td>\n",
              "      <td>-0.249680</td>\n",
              "    </tr>\n",
              "    <tr>\n",
              "      <th>runs_concieved</th>\n",
              "      <td>0.985515</td>\n",
              "      <td>1.000000</td>\n",
              "      <td>0.979200</td>\n",
              "      <td>0.995505</td>\n",
              "      <td>-0.230505</td>\n",
              "    </tr>\n",
              "    <tr>\n",
              "      <th>wicket_taken</th>\n",
              "      <td>0.958272</td>\n",
              "      <td>0.979200</td>\n",
              "      <td>1.000000</td>\n",
              "      <td>0.982317</td>\n",
              "      <td>-0.252496</td>\n",
              "    </tr>\n",
              "    <tr>\n",
              "      <th>over</th>\n",
              "      <td>0.984824</td>\n",
              "      <td>0.995505</td>\n",
              "      <td>0.982317</td>\n",
              "      <td>1.000000</td>\n",
              "      <td>-0.255340</td>\n",
              "    </tr>\n",
              "    <tr>\n",
              "      <th>economy</th>\n",
              "      <td>-0.249680</td>\n",
              "      <td>-0.230505</td>\n",
              "      <td>-0.252496</td>\n",
              "      <td>-0.255340</td>\n",
              "      <td>1.000000</td>\n",
              "    </tr>\n",
              "  </tbody>\n",
              "</table>\n",
              "</div>\n",
              "      <button class=\"colab-df-convert\" onclick=\"convertToInteractive('df-cd5a3464-b68c-463b-a51f-87f41722ab05')\"\n",
              "              title=\"Convert this dataframe to an interactive table.\"\n",
              "              style=\"display:none;\">\n",
              "        \n",
              "  <svg xmlns=\"http://www.w3.org/2000/svg\" height=\"24px\"viewBox=\"0 0 24 24\"\n",
              "       width=\"24px\">\n",
              "    <path d=\"M0 0h24v24H0V0z\" fill=\"none\"/>\n",
              "    <path d=\"M18.56 5.44l.94 2.06.94-2.06 2.06-.94-2.06-.94-.94-2.06-.94 2.06-2.06.94zm-11 1L8.5 8.5l.94-2.06 2.06-.94-2.06-.94L8.5 2.5l-.94 2.06-2.06.94zm10 10l.94 2.06.94-2.06 2.06-.94-2.06-.94-.94-2.06-.94 2.06-2.06.94z\"/><path d=\"M17.41 7.96l-1.37-1.37c-.4-.4-.92-.59-1.43-.59-.52 0-1.04.2-1.43.59L10.3 9.45l-7.72 7.72c-.78.78-.78 2.05 0 2.83L4 21.41c.39.39.9.59 1.41.59.51 0 1.02-.2 1.41-.59l7.78-7.78 2.81-2.81c.8-.78.8-2.07 0-2.86zM5.41 20L4 18.59l7.72-7.72 1.47 1.35L5.41 20z\"/>\n",
              "  </svg>\n",
              "      </button>\n",
              "      \n",
              "  <style>\n",
              "    .colab-df-container {\n",
              "      display:flex;\n",
              "      flex-wrap:wrap;\n",
              "      gap: 12px;\n",
              "    }\n",
              "\n",
              "    .colab-df-convert {\n",
              "      background-color: #E8F0FE;\n",
              "      border: none;\n",
              "      border-radius: 50%;\n",
              "      cursor: pointer;\n",
              "      display: none;\n",
              "      fill: #1967D2;\n",
              "      height: 32px;\n",
              "      padding: 0 0 0 0;\n",
              "      width: 32px;\n",
              "    }\n",
              "\n",
              "    .colab-df-convert:hover {\n",
              "      background-color: #E2EBFA;\n",
              "      box-shadow: 0px 1px 2px rgba(60, 64, 67, 0.3), 0px 1px 3px 1px rgba(60, 64, 67, 0.15);\n",
              "      fill: #174EA6;\n",
              "    }\n",
              "\n",
              "    [theme=dark] .colab-df-convert {\n",
              "      background-color: #3B4455;\n",
              "      fill: #D2E3FC;\n",
              "    }\n",
              "\n",
              "    [theme=dark] .colab-df-convert:hover {\n",
              "      background-color: #434B5C;\n",
              "      box-shadow: 0px 1px 3px 1px rgba(0, 0, 0, 0.15);\n",
              "      filter: drop-shadow(0px 1px 2px rgba(0, 0, 0, 0.3));\n",
              "      fill: #FFFFFF;\n",
              "    }\n",
              "  </style>\n",
              "\n",
              "      <script>\n",
              "        const buttonEl =\n",
              "          document.querySelector('#df-cd5a3464-b68c-463b-a51f-87f41722ab05 button.colab-df-convert');\n",
              "        buttonEl.style.display =\n",
              "          google.colab.kernel.accessAllowed ? 'block' : 'none';\n",
              "\n",
              "        async function convertToInteractive(key) {\n",
              "          const element = document.querySelector('#df-cd5a3464-b68c-463b-a51f-87f41722ab05');\n",
              "          const dataTable =\n",
              "            await google.colab.kernel.invokeFunction('convertToInteractive',\n",
              "                                                     [key], {});\n",
              "          if (!dataTable) return;\n",
              "\n",
              "          const docLinkHtml = 'Like what you see? Visit the ' +\n",
              "            '<a target=\"_blank\" href=https://colab.research.google.com/notebooks/data_table.ipynb>data table notebook</a>'\n",
              "            + ' to learn more about interactive tables.';\n",
              "          element.innerHTML = '';\n",
              "          dataTable['output_type'] = 'display_data';\n",
              "          await google.colab.output.renderOutput(dataTable, element);\n",
              "          const docLink = document.createElement('div');\n",
              "          docLink.innerHTML = docLinkHtml;\n",
              "          element.appendChild(docLink);\n",
              "        }\n",
              "      </script>\n",
              "    </div>\n",
              "  </div>\n",
              "  "
            ]
          },
          "metadata": {},
          "execution_count": 85
        }
      ],
      "source": [
        "economy.corr()"
      ]
    },
    {
      "cell_type": "markdown",
      "id": "1fe39fb6",
      "metadata": {
        "id": "1fe39fb6"
      },
      "source": [
        "obvious correlation:\n",
        "1. overs have a high positive correlation of **0.9823** with wickets_taken. As the bowler deals more overs, he gets better understanding on how to take a wicket.\n"
      ]
    },
    {
      "cell_type": "markdown",
      "id": "a414e01a",
      "metadata": {
        "id": "a414e01a"
      },
      "source": [
        "#### 7. Winning team"
      ]
    },
    {
      "cell_type": "markdown",
      "id": "b16547e0",
      "metadata": {
        "id": "b16547e0"
      },
      "source": [
        "First, we will calclulate the total runs scored by the teams in each matches played against each other.\n",
        "<br>\n",
        "If we look closely, the data in first 2 rows is having same ids but the position of 'batting_team' and 'bowling_team' is interchanged. This will help us determine which batting team scored how many runs against opposing team."
      ]
    },
    {
      "cell_type": "code",
      "execution_count": 86,
      "id": "5c068821",
      "metadata": {
        "id": "5c068821",
        "outputId": "fb65f1cd-8061-44ee-9ad7-7218d2fca754",
        "colab": {
          "base_uri": "https://localhost:8080/",
          "height": 424
        }
      },
      "outputs": [
        {
          "output_type": "execute_result",
          "data": {
            "text/plain": [
              "           id                 batting_team                 bowling_team  \\\n",
              "0      335982        Kolkata Knight Riders  Royal Challengers Bangalore   \n",
              "1      335982  Royal Challengers Bangalore        Kolkata Knight Riders   \n",
              "2      335983          Chennai Super Kings              Kings XI Punjab   \n",
              "3      335983              Kings XI Punjab          Chennai Super Kings   \n",
              "4      335984               Delhi Capitals             Rajasthan Royals   \n",
              "...       ...                          ...                          ...   \n",
              "1307  1237178          Sunrisers Hyderabad  Royal Challengers Bangalore   \n",
              "1308  1237180               Delhi Capitals          Sunrisers Hyderabad   \n",
              "1309  1237180          Sunrisers Hyderabad               Delhi Capitals   \n",
              "1310  1237181               Delhi Capitals               Mumbai Indians   \n",
              "1311  1237181               Mumbai Indians               Delhi Capitals   \n",
              "\n",
              "      batsman_runs  extra_runs  total_runs  non_boundary  is_wicket  \n",
              "0              205          17         222             0          3  \n",
              "1               63          19          82             0         10  \n",
              "2              234           6         240             0          5  \n",
              "3              196          11         207             0          4  \n",
              "4              122          10         132             0          1  \n",
              "...            ...         ...         ...           ...        ...  \n",
              "1307           122          10         132             0          4  \n",
              "1308           181           8         189             1          3  \n",
              "1309           166           6         172             0          8  \n",
              "1310           152           4         156             0          7  \n",
              "1311           153           4         157             0          5  \n",
              "\n",
              "[1312 rows x 8 columns]"
            ],
            "text/html": [
              "\n",
              "  <div id=\"df-1e3702ff-223c-44c9-9439-bd41db8395a6\">\n",
              "    <div class=\"colab-df-container\">\n",
              "      <div>\n",
              "<style scoped>\n",
              "    .dataframe tbody tr th:only-of-type {\n",
              "        vertical-align: middle;\n",
              "    }\n",
              "\n",
              "    .dataframe tbody tr th {\n",
              "        vertical-align: top;\n",
              "    }\n",
              "\n",
              "    .dataframe thead th {\n",
              "        text-align: right;\n",
              "    }\n",
              "</style>\n",
              "<table border=\"1\" class=\"dataframe\">\n",
              "  <thead>\n",
              "    <tr style=\"text-align: right;\">\n",
              "      <th></th>\n",
              "      <th>id</th>\n",
              "      <th>batting_team</th>\n",
              "      <th>bowling_team</th>\n",
              "      <th>batsman_runs</th>\n",
              "      <th>extra_runs</th>\n",
              "      <th>total_runs</th>\n",
              "      <th>non_boundary</th>\n",
              "      <th>is_wicket</th>\n",
              "    </tr>\n",
              "  </thead>\n",
              "  <tbody>\n",
              "    <tr>\n",
              "      <th>0</th>\n",
              "      <td>335982</td>\n",
              "      <td>Kolkata Knight Riders</td>\n",
              "      <td>Royal Challengers Bangalore</td>\n",
              "      <td>205</td>\n",
              "      <td>17</td>\n",
              "      <td>222</td>\n",
              "      <td>0</td>\n",
              "      <td>3</td>\n",
              "    </tr>\n",
              "    <tr>\n",
              "      <th>1</th>\n",
              "      <td>335982</td>\n",
              "      <td>Royal Challengers Bangalore</td>\n",
              "      <td>Kolkata Knight Riders</td>\n",
              "      <td>63</td>\n",
              "      <td>19</td>\n",
              "      <td>82</td>\n",
              "      <td>0</td>\n",
              "      <td>10</td>\n",
              "    </tr>\n",
              "    <tr>\n",
              "      <th>2</th>\n",
              "      <td>335983</td>\n",
              "      <td>Chennai Super Kings</td>\n",
              "      <td>Kings XI Punjab</td>\n",
              "      <td>234</td>\n",
              "      <td>6</td>\n",
              "      <td>240</td>\n",
              "      <td>0</td>\n",
              "      <td>5</td>\n",
              "    </tr>\n",
              "    <tr>\n",
              "      <th>3</th>\n",
              "      <td>335983</td>\n",
              "      <td>Kings XI Punjab</td>\n",
              "      <td>Chennai Super Kings</td>\n",
              "      <td>196</td>\n",
              "      <td>11</td>\n",
              "      <td>207</td>\n",
              "      <td>0</td>\n",
              "      <td>4</td>\n",
              "    </tr>\n",
              "    <tr>\n",
              "      <th>4</th>\n",
              "      <td>335984</td>\n",
              "      <td>Delhi Capitals</td>\n",
              "      <td>Rajasthan Royals</td>\n",
              "      <td>122</td>\n",
              "      <td>10</td>\n",
              "      <td>132</td>\n",
              "      <td>0</td>\n",
              "      <td>1</td>\n",
              "    </tr>\n",
              "    <tr>\n",
              "      <th>...</th>\n",
              "      <td>...</td>\n",
              "      <td>...</td>\n",
              "      <td>...</td>\n",
              "      <td>...</td>\n",
              "      <td>...</td>\n",
              "      <td>...</td>\n",
              "      <td>...</td>\n",
              "      <td>...</td>\n",
              "    </tr>\n",
              "    <tr>\n",
              "      <th>1307</th>\n",
              "      <td>1237178</td>\n",
              "      <td>Sunrisers Hyderabad</td>\n",
              "      <td>Royal Challengers Bangalore</td>\n",
              "      <td>122</td>\n",
              "      <td>10</td>\n",
              "      <td>132</td>\n",
              "      <td>0</td>\n",
              "      <td>4</td>\n",
              "    </tr>\n",
              "    <tr>\n",
              "      <th>1308</th>\n",
              "      <td>1237180</td>\n",
              "      <td>Delhi Capitals</td>\n",
              "      <td>Sunrisers Hyderabad</td>\n",
              "      <td>181</td>\n",
              "      <td>8</td>\n",
              "      <td>189</td>\n",
              "      <td>1</td>\n",
              "      <td>3</td>\n",
              "    </tr>\n",
              "    <tr>\n",
              "      <th>1309</th>\n",
              "      <td>1237180</td>\n",
              "      <td>Sunrisers Hyderabad</td>\n",
              "      <td>Delhi Capitals</td>\n",
              "      <td>166</td>\n",
              "      <td>6</td>\n",
              "      <td>172</td>\n",
              "      <td>0</td>\n",
              "      <td>8</td>\n",
              "    </tr>\n",
              "    <tr>\n",
              "      <th>1310</th>\n",
              "      <td>1237181</td>\n",
              "      <td>Delhi Capitals</td>\n",
              "      <td>Mumbai Indians</td>\n",
              "      <td>152</td>\n",
              "      <td>4</td>\n",
              "      <td>156</td>\n",
              "      <td>0</td>\n",
              "      <td>7</td>\n",
              "    </tr>\n",
              "    <tr>\n",
              "      <th>1311</th>\n",
              "      <td>1237181</td>\n",
              "      <td>Mumbai Indians</td>\n",
              "      <td>Delhi Capitals</td>\n",
              "      <td>153</td>\n",
              "      <td>4</td>\n",
              "      <td>157</td>\n",
              "      <td>0</td>\n",
              "      <td>5</td>\n",
              "    </tr>\n",
              "  </tbody>\n",
              "</table>\n",
              "<p>1312 rows × 8 columns</p>\n",
              "</div>\n",
              "      <button class=\"colab-df-convert\" onclick=\"convertToInteractive('df-1e3702ff-223c-44c9-9439-bd41db8395a6')\"\n",
              "              title=\"Convert this dataframe to an interactive table.\"\n",
              "              style=\"display:none;\">\n",
              "        \n",
              "  <svg xmlns=\"http://www.w3.org/2000/svg\" height=\"24px\"viewBox=\"0 0 24 24\"\n",
              "       width=\"24px\">\n",
              "    <path d=\"M0 0h24v24H0V0z\" fill=\"none\"/>\n",
              "    <path d=\"M18.56 5.44l.94 2.06.94-2.06 2.06-.94-2.06-.94-.94-2.06-.94 2.06-2.06.94zm-11 1L8.5 8.5l.94-2.06 2.06-.94-2.06-.94L8.5 2.5l-.94 2.06-2.06.94zm10 10l.94 2.06.94-2.06 2.06-.94-2.06-.94-.94-2.06-.94 2.06-2.06.94z\"/><path d=\"M17.41 7.96l-1.37-1.37c-.4-.4-.92-.59-1.43-.59-.52 0-1.04.2-1.43.59L10.3 9.45l-7.72 7.72c-.78.78-.78 2.05 0 2.83L4 21.41c.39.39.9.59 1.41.59.51 0 1.02-.2 1.41-.59l7.78-7.78 2.81-2.81c.8-.78.8-2.07 0-2.86zM5.41 20L4 18.59l7.72-7.72 1.47 1.35L5.41 20z\"/>\n",
              "  </svg>\n",
              "      </button>\n",
              "      \n",
              "  <style>\n",
              "    .colab-df-container {\n",
              "      display:flex;\n",
              "      flex-wrap:wrap;\n",
              "      gap: 12px;\n",
              "    }\n",
              "\n",
              "    .colab-df-convert {\n",
              "      background-color: #E8F0FE;\n",
              "      border: none;\n",
              "      border-radius: 50%;\n",
              "      cursor: pointer;\n",
              "      display: none;\n",
              "      fill: #1967D2;\n",
              "      height: 32px;\n",
              "      padding: 0 0 0 0;\n",
              "      width: 32px;\n",
              "    }\n",
              "\n",
              "    .colab-df-convert:hover {\n",
              "      background-color: #E2EBFA;\n",
              "      box-shadow: 0px 1px 2px rgba(60, 64, 67, 0.3), 0px 1px 3px 1px rgba(60, 64, 67, 0.15);\n",
              "      fill: #174EA6;\n",
              "    }\n",
              "\n",
              "    [theme=dark] .colab-df-convert {\n",
              "      background-color: #3B4455;\n",
              "      fill: #D2E3FC;\n",
              "    }\n",
              "\n",
              "    [theme=dark] .colab-df-convert:hover {\n",
              "      background-color: #434B5C;\n",
              "      box-shadow: 0px 1px 3px 1px rgba(0, 0, 0, 0.15);\n",
              "      filter: drop-shadow(0px 1px 2px rgba(0, 0, 0, 0.3));\n",
              "      fill: #FFFFFF;\n",
              "    }\n",
              "  </style>\n",
              "\n",
              "      <script>\n",
              "        const buttonEl =\n",
              "          document.querySelector('#df-1e3702ff-223c-44c9-9439-bd41db8395a6 button.colab-df-convert');\n",
              "        buttonEl.style.display =\n",
              "          google.colab.kernel.accessAllowed ? 'block' : 'none';\n",
              "\n",
              "        async function convertToInteractive(key) {\n",
              "          const element = document.querySelector('#df-1e3702ff-223c-44c9-9439-bd41db8395a6');\n",
              "          const dataTable =\n",
              "            await google.colab.kernel.invokeFunction('convertToInteractive',\n",
              "                                                     [key], {});\n",
              "          if (!dataTable) return;\n",
              "\n",
              "          const docLinkHtml = 'Like what you see? Visit the ' +\n",
              "            '<a target=\"_blank\" href=https://colab.research.google.com/notebooks/data_table.ipynb>data table notebook</a>'\n",
              "            + ' to learn more about interactive tables.';\n",
              "          element.innerHTML = '';\n",
              "          dataTable['output_type'] = 'display_data';\n",
              "          await google.colab.output.renderOutput(dataTable, element);\n",
              "          const docLink = document.createElement('div');\n",
              "          docLink.innerHTML = docLinkHtml;\n",
              "          element.appendChild(docLink);\n",
              "        }\n",
              "      </script>\n",
              "    </div>\n",
              "  </div>\n",
              "  "
            ]
          },
          "metadata": {},
          "execution_count": 86
        }
      ],
      "source": [
        "total_runs_in_match = df.groupby(['id','batting_team','bowling_team']).sum().drop('ball', axis=1)\n",
        "\n",
        "# we don't need the data about over and inningsn, since our calculation is based on total runs scored by a team.\n",
        "total_runs_in_match = total_runs_in_match.drop(labels=['inning','over'],axis=1).reset_index()\n",
        "total_runs_in_match"
      ]
    },
    {
      "cell_type": "markdown",
      "id": "09a05145",
      "metadata": {
        "id": "09a05145"
      },
      "source": [
        "Now, to make the winner team's calculation easy, let's split the tuples having same ids into two different dataframes so that we can directly compare the 'total_runs' scored by each team participating in the match.\n",
        "<br><br>\n",
        "Here we are spliting the tables by steps of 2 because the data is arranged in the increasing order of id."
      ]
    },
    {
      "cell_type": "code",
      "execution_count": 87,
      "id": "4b884f8f",
      "metadata": {
        "id": "4b884f8f",
        "colab": {
          "base_uri": "https://localhost:8080/",
          "height": 424
        },
        "outputId": "36a9f5ca-fd3e-4d8f-a002-747b49d09ce6"
      },
      "outputs": [
        {
          "output_type": "execute_result",
          "data": {
            "text/plain": [
              "     index       id                 batting_team                 bowling_team  \\\n",
              "0        0   335982        Kolkata Knight Riders  Royal Challengers Bangalore   \n",
              "1        2   335983          Chennai Super Kings              Kings XI Punjab   \n",
              "2        4   335984               Delhi Capitals             Rajasthan Royals   \n",
              "3        6   335985               Mumbai Indians  Royal Challengers Bangalore   \n",
              "4        8   335987              Kings XI Punjab             Rajasthan Royals   \n",
              "..     ...      ...                          ...                          ...   \n",
              "651   1302  1216547               Mumbai Indians  Royal Challengers Bangalore   \n",
              "652   1304  1237177               Delhi Capitals               Mumbai Indians   \n",
              "653   1306  1237178  Royal Challengers Bangalore          Sunrisers Hyderabad   \n",
              "654   1308  1237180               Delhi Capitals          Sunrisers Hyderabad   \n",
              "655   1310  1237181               Delhi Capitals               Mumbai Indians   \n",
              "\n",
              "     batsman_runs  extra_runs  total_runs  non_boundary  is_wicket  \n",
              "0             205          17         222             0          3  \n",
              "1             234           6         240             0          5  \n",
              "2             122          10         132             0          1  \n",
              "3             154          11         165             0          7  \n",
              "4             162           4         166             0          8  \n",
              "..            ...         ...         ...           ...        ...  \n",
              "651           196           5         201             0          5  \n",
              "652           137           6         143             0          8  \n",
              "653           127           4         131             0          7  \n",
              "654           181           8         189             1          3  \n",
              "655           152           4         156             0          7  \n",
              "\n",
              "[656 rows x 9 columns]"
            ],
            "text/html": [
              "\n",
              "  <div id=\"df-a11e0f04-b0d9-4cbb-b66d-c632ab6b0898\">\n",
              "    <div class=\"colab-df-container\">\n",
              "      <div>\n",
              "<style scoped>\n",
              "    .dataframe tbody tr th:only-of-type {\n",
              "        vertical-align: middle;\n",
              "    }\n",
              "\n",
              "    .dataframe tbody tr th {\n",
              "        vertical-align: top;\n",
              "    }\n",
              "\n",
              "    .dataframe thead th {\n",
              "        text-align: right;\n",
              "    }\n",
              "</style>\n",
              "<table border=\"1\" class=\"dataframe\">\n",
              "  <thead>\n",
              "    <tr style=\"text-align: right;\">\n",
              "      <th></th>\n",
              "      <th>index</th>\n",
              "      <th>id</th>\n",
              "      <th>batting_team</th>\n",
              "      <th>bowling_team</th>\n",
              "      <th>batsman_runs</th>\n",
              "      <th>extra_runs</th>\n",
              "      <th>total_runs</th>\n",
              "      <th>non_boundary</th>\n",
              "      <th>is_wicket</th>\n",
              "    </tr>\n",
              "  </thead>\n",
              "  <tbody>\n",
              "    <tr>\n",
              "      <th>0</th>\n",
              "      <td>0</td>\n",
              "      <td>335982</td>\n",
              "      <td>Kolkata Knight Riders</td>\n",
              "      <td>Royal Challengers Bangalore</td>\n",
              "      <td>205</td>\n",
              "      <td>17</td>\n",
              "      <td>222</td>\n",
              "      <td>0</td>\n",
              "      <td>3</td>\n",
              "    </tr>\n",
              "    <tr>\n",
              "      <th>1</th>\n",
              "      <td>2</td>\n",
              "      <td>335983</td>\n",
              "      <td>Chennai Super Kings</td>\n",
              "      <td>Kings XI Punjab</td>\n",
              "      <td>234</td>\n",
              "      <td>6</td>\n",
              "      <td>240</td>\n",
              "      <td>0</td>\n",
              "      <td>5</td>\n",
              "    </tr>\n",
              "    <tr>\n",
              "      <th>2</th>\n",
              "      <td>4</td>\n",
              "      <td>335984</td>\n",
              "      <td>Delhi Capitals</td>\n",
              "      <td>Rajasthan Royals</td>\n",
              "      <td>122</td>\n",
              "      <td>10</td>\n",
              "      <td>132</td>\n",
              "      <td>0</td>\n",
              "      <td>1</td>\n",
              "    </tr>\n",
              "    <tr>\n",
              "      <th>3</th>\n",
              "      <td>6</td>\n",
              "      <td>335985</td>\n",
              "      <td>Mumbai Indians</td>\n",
              "      <td>Royal Challengers Bangalore</td>\n",
              "      <td>154</td>\n",
              "      <td>11</td>\n",
              "      <td>165</td>\n",
              "      <td>0</td>\n",
              "      <td>7</td>\n",
              "    </tr>\n",
              "    <tr>\n",
              "      <th>4</th>\n",
              "      <td>8</td>\n",
              "      <td>335987</td>\n",
              "      <td>Kings XI Punjab</td>\n",
              "      <td>Rajasthan Royals</td>\n",
              "      <td>162</td>\n",
              "      <td>4</td>\n",
              "      <td>166</td>\n",
              "      <td>0</td>\n",
              "      <td>8</td>\n",
              "    </tr>\n",
              "    <tr>\n",
              "      <th>...</th>\n",
              "      <td>...</td>\n",
              "      <td>...</td>\n",
              "      <td>...</td>\n",
              "      <td>...</td>\n",
              "      <td>...</td>\n",
              "      <td>...</td>\n",
              "      <td>...</td>\n",
              "      <td>...</td>\n",
              "      <td>...</td>\n",
              "    </tr>\n",
              "    <tr>\n",
              "      <th>651</th>\n",
              "      <td>1302</td>\n",
              "      <td>1216547</td>\n",
              "      <td>Mumbai Indians</td>\n",
              "      <td>Royal Challengers Bangalore</td>\n",
              "      <td>196</td>\n",
              "      <td>5</td>\n",
              "      <td>201</td>\n",
              "      <td>0</td>\n",
              "      <td>5</td>\n",
              "    </tr>\n",
              "    <tr>\n",
              "      <th>652</th>\n",
              "      <td>1304</td>\n",
              "      <td>1237177</td>\n",
              "      <td>Delhi Capitals</td>\n",
              "      <td>Mumbai Indians</td>\n",
              "      <td>137</td>\n",
              "      <td>6</td>\n",
              "      <td>143</td>\n",
              "      <td>0</td>\n",
              "      <td>8</td>\n",
              "    </tr>\n",
              "    <tr>\n",
              "      <th>653</th>\n",
              "      <td>1306</td>\n",
              "      <td>1237178</td>\n",
              "      <td>Royal Challengers Bangalore</td>\n",
              "      <td>Sunrisers Hyderabad</td>\n",
              "      <td>127</td>\n",
              "      <td>4</td>\n",
              "      <td>131</td>\n",
              "      <td>0</td>\n",
              "      <td>7</td>\n",
              "    </tr>\n",
              "    <tr>\n",
              "      <th>654</th>\n",
              "      <td>1308</td>\n",
              "      <td>1237180</td>\n",
              "      <td>Delhi Capitals</td>\n",
              "      <td>Sunrisers Hyderabad</td>\n",
              "      <td>181</td>\n",
              "      <td>8</td>\n",
              "      <td>189</td>\n",
              "      <td>1</td>\n",
              "      <td>3</td>\n",
              "    </tr>\n",
              "    <tr>\n",
              "      <th>655</th>\n",
              "      <td>1310</td>\n",
              "      <td>1237181</td>\n",
              "      <td>Delhi Capitals</td>\n",
              "      <td>Mumbai Indians</td>\n",
              "      <td>152</td>\n",
              "      <td>4</td>\n",
              "      <td>156</td>\n",
              "      <td>0</td>\n",
              "      <td>7</td>\n",
              "    </tr>\n",
              "  </tbody>\n",
              "</table>\n",
              "<p>656 rows × 9 columns</p>\n",
              "</div>\n",
              "      <button class=\"colab-df-convert\" onclick=\"convertToInteractive('df-a11e0f04-b0d9-4cbb-b66d-c632ab6b0898')\"\n",
              "              title=\"Convert this dataframe to an interactive table.\"\n",
              "              style=\"display:none;\">\n",
              "        \n",
              "  <svg xmlns=\"http://www.w3.org/2000/svg\" height=\"24px\"viewBox=\"0 0 24 24\"\n",
              "       width=\"24px\">\n",
              "    <path d=\"M0 0h24v24H0V0z\" fill=\"none\"/>\n",
              "    <path d=\"M18.56 5.44l.94 2.06.94-2.06 2.06-.94-2.06-.94-.94-2.06-.94 2.06-2.06.94zm-11 1L8.5 8.5l.94-2.06 2.06-.94-2.06-.94L8.5 2.5l-.94 2.06-2.06.94zm10 10l.94 2.06.94-2.06 2.06-.94-2.06-.94-.94-2.06-.94 2.06-2.06.94z\"/><path d=\"M17.41 7.96l-1.37-1.37c-.4-.4-.92-.59-1.43-.59-.52 0-1.04.2-1.43.59L10.3 9.45l-7.72 7.72c-.78.78-.78 2.05 0 2.83L4 21.41c.39.39.9.59 1.41.59.51 0 1.02-.2 1.41-.59l7.78-7.78 2.81-2.81c.8-.78.8-2.07 0-2.86zM5.41 20L4 18.59l7.72-7.72 1.47 1.35L5.41 20z\"/>\n",
              "  </svg>\n",
              "      </button>\n",
              "      \n",
              "  <style>\n",
              "    .colab-df-container {\n",
              "      display:flex;\n",
              "      flex-wrap:wrap;\n",
              "      gap: 12px;\n",
              "    }\n",
              "\n",
              "    .colab-df-convert {\n",
              "      background-color: #E8F0FE;\n",
              "      border: none;\n",
              "      border-radius: 50%;\n",
              "      cursor: pointer;\n",
              "      display: none;\n",
              "      fill: #1967D2;\n",
              "      height: 32px;\n",
              "      padding: 0 0 0 0;\n",
              "      width: 32px;\n",
              "    }\n",
              "\n",
              "    .colab-df-convert:hover {\n",
              "      background-color: #E2EBFA;\n",
              "      box-shadow: 0px 1px 2px rgba(60, 64, 67, 0.3), 0px 1px 3px 1px rgba(60, 64, 67, 0.15);\n",
              "      fill: #174EA6;\n",
              "    }\n",
              "\n",
              "    [theme=dark] .colab-df-convert {\n",
              "      background-color: #3B4455;\n",
              "      fill: #D2E3FC;\n",
              "    }\n",
              "\n",
              "    [theme=dark] .colab-df-convert:hover {\n",
              "      background-color: #434B5C;\n",
              "      box-shadow: 0px 1px 3px 1px rgba(0, 0, 0, 0.15);\n",
              "      filter: drop-shadow(0px 1px 2px rgba(0, 0, 0, 0.3));\n",
              "      fill: #FFFFFF;\n",
              "    }\n",
              "  </style>\n",
              "\n",
              "      <script>\n",
              "        const buttonEl =\n",
              "          document.querySelector('#df-a11e0f04-b0d9-4cbb-b66d-c632ab6b0898 button.colab-df-convert');\n",
              "        buttonEl.style.display =\n",
              "          google.colab.kernel.accessAllowed ? 'block' : 'none';\n",
              "\n",
              "        async function convertToInteractive(key) {\n",
              "          const element = document.querySelector('#df-a11e0f04-b0d9-4cbb-b66d-c632ab6b0898');\n",
              "          const dataTable =\n",
              "            await google.colab.kernel.invokeFunction('convertToInteractive',\n",
              "                                                     [key], {});\n",
              "          if (!dataTable) return;\n",
              "\n",
              "          const docLinkHtml = 'Like what you see? Visit the ' +\n",
              "            '<a target=\"_blank\" href=https://colab.research.google.com/notebooks/data_table.ipynb>data table notebook</a>'\n",
              "            + ' to learn more about interactive tables.';\n",
              "          element.innerHTML = '';\n",
              "          dataTable['output_type'] = 'display_data';\n",
              "          await google.colab.output.renderOutput(dataTable, element);\n",
              "          const docLink = document.createElement('div');\n",
              "          docLink.innerHTML = docLinkHtml;\n",
              "          element.appendChild(docLink);\n",
              "        }\n",
              "      </script>\n",
              "    </div>\n",
              "  </div>\n",
              "  "
            ]
          },
          "metadata": {},
          "execution_count": 87
        }
      ],
      "source": [
        "df1=pd.DataFrame(total_runs_in_match[::2]).reset_index()\n",
        "df1"
      ]
    },
    {
      "cell_type": "code",
      "source": [
        "df2=pd.DataFrame(total_runs_in_match[1::2]).reset_index()\n",
        "df2"
      ],
      "metadata": {
        "colab": {
          "base_uri": "https://localhost:8080/",
          "height": 424
        },
        "id": "K8wF5yr42H25",
        "outputId": "9b783e18-c8fb-48d3-d043-fd17eb3fc513"
      },
      "id": "K8wF5yr42H25",
      "execution_count": 88,
      "outputs": [
        {
          "output_type": "execute_result",
          "data": {
            "text/plain": [
              "     index       id                 batting_team                 bowling_team  \\\n",
              "0        1   335982  Royal Challengers Bangalore        Kolkata Knight Riders   \n",
              "1        3   335983              Kings XI Punjab          Chennai Super Kings   \n",
              "2        5   335984             Rajasthan Royals               Delhi Capitals   \n",
              "3        7   335985  Royal Challengers Bangalore               Mumbai Indians   \n",
              "4        9   335987             Rajasthan Royals              Kings XI Punjab   \n",
              "..     ...      ...                          ...                          ...   \n",
              "651   1303  1216547  Royal Challengers Bangalore               Mumbai Indians   \n",
              "652   1305  1237177               Mumbai Indians               Delhi Capitals   \n",
              "653   1307  1237178          Sunrisers Hyderabad  Royal Challengers Bangalore   \n",
              "654   1309  1237180          Sunrisers Hyderabad               Delhi Capitals   \n",
              "655   1311  1237181               Mumbai Indians               Delhi Capitals   \n",
              "\n",
              "     batsman_runs  extra_runs  total_runs  non_boundary  is_wicket  \n",
              "0              63          19          82             0         10  \n",
              "1             196          11         207             0          4  \n",
              "2             122           7         129             0          8  \n",
              "3             161           5         166             0          5  \n",
              "4             156          12         168             0          4  \n",
              "..            ...         ...         ...           ...        ...  \n",
              "651           191          10         201             0          3  \n",
              "652           196           4         200             0          5  \n",
              "653           122          10         132             0          4  \n",
              "654           166           6         172             0          8  \n",
              "655           153           4         157             0          5  \n",
              "\n",
              "[656 rows x 9 columns]"
            ],
            "text/html": [
              "\n",
              "  <div id=\"df-53756b08-9a17-4247-9aca-7713b29e1efc\">\n",
              "    <div class=\"colab-df-container\">\n",
              "      <div>\n",
              "<style scoped>\n",
              "    .dataframe tbody tr th:only-of-type {\n",
              "        vertical-align: middle;\n",
              "    }\n",
              "\n",
              "    .dataframe tbody tr th {\n",
              "        vertical-align: top;\n",
              "    }\n",
              "\n",
              "    .dataframe thead th {\n",
              "        text-align: right;\n",
              "    }\n",
              "</style>\n",
              "<table border=\"1\" class=\"dataframe\">\n",
              "  <thead>\n",
              "    <tr style=\"text-align: right;\">\n",
              "      <th></th>\n",
              "      <th>index</th>\n",
              "      <th>id</th>\n",
              "      <th>batting_team</th>\n",
              "      <th>bowling_team</th>\n",
              "      <th>batsman_runs</th>\n",
              "      <th>extra_runs</th>\n",
              "      <th>total_runs</th>\n",
              "      <th>non_boundary</th>\n",
              "      <th>is_wicket</th>\n",
              "    </tr>\n",
              "  </thead>\n",
              "  <tbody>\n",
              "    <tr>\n",
              "      <th>0</th>\n",
              "      <td>1</td>\n",
              "      <td>335982</td>\n",
              "      <td>Royal Challengers Bangalore</td>\n",
              "      <td>Kolkata Knight Riders</td>\n",
              "      <td>63</td>\n",
              "      <td>19</td>\n",
              "      <td>82</td>\n",
              "      <td>0</td>\n",
              "      <td>10</td>\n",
              "    </tr>\n",
              "    <tr>\n",
              "      <th>1</th>\n",
              "      <td>3</td>\n",
              "      <td>335983</td>\n",
              "      <td>Kings XI Punjab</td>\n",
              "      <td>Chennai Super Kings</td>\n",
              "      <td>196</td>\n",
              "      <td>11</td>\n",
              "      <td>207</td>\n",
              "      <td>0</td>\n",
              "      <td>4</td>\n",
              "    </tr>\n",
              "    <tr>\n",
              "      <th>2</th>\n",
              "      <td>5</td>\n",
              "      <td>335984</td>\n",
              "      <td>Rajasthan Royals</td>\n",
              "      <td>Delhi Capitals</td>\n",
              "      <td>122</td>\n",
              "      <td>7</td>\n",
              "      <td>129</td>\n",
              "      <td>0</td>\n",
              "      <td>8</td>\n",
              "    </tr>\n",
              "    <tr>\n",
              "      <th>3</th>\n",
              "      <td>7</td>\n",
              "      <td>335985</td>\n",
              "      <td>Royal Challengers Bangalore</td>\n",
              "      <td>Mumbai Indians</td>\n",
              "      <td>161</td>\n",
              "      <td>5</td>\n",
              "      <td>166</td>\n",
              "      <td>0</td>\n",
              "      <td>5</td>\n",
              "    </tr>\n",
              "    <tr>\n",
              "      <th>4</th>\n",
              "      <td>9</td>\n",
              "      <td>335987</td>\n",
              "      <td>Rajasthan Royals</td>\n",
              "      <td>Kings XI Punjab</td>\n",
              "      <td>156</td>\n",
              "      <td>12</td>\n",
              "      <td>168</td>\n",
              "      <td>0</td>\n",
              "      <td>4</td>\n",
              "    </tr>\n",
              "    <tr>\n",
              "      <th>...</th>\n",
              "      <td>...</td>\n",
              "      <td>...</td>\n",
              "      <td>...</td>\n",
              "      <td>...</td>\n",
              "      <td>...</td>\n",
              "      <td>...</td>\n",
              "      <td>...</td>\n",
              "      <td>...</td>\n",
              "      <td>...</td>\n",
              "    </tr>\n",
              "    <tr>\n",
              "      <th>651</th>\n",
              "      <td>1303</td>\n",
              "      <td>1216547</td>\n",
              "      <td>Royal Challengers Bangalore</td>\n",
              "      <td>Mumbai Indians</td>\n",
              "      <td>191</td>\n",
              "      <td>10</td>\n",
              "      <td>201</td>\n",
              "      <td>0</td>\n",
              "      <td>3</td>\n",
              "    </tr>\n",
              "    <tr>\n",
              "      <th>652</th>\n",
              "      <td>1305</td>\n",
              "      <td>1237177</td>\n",
              "      <td>Mumbai Indians</td>\n",
              "      <td>Delhi Capitals</td>\n",
              "      <td>196</td>\n",
              "      <td>4</td>\n",
              "      <td>200</td>\n",
              "      <td>0</td>\n",
              "      <td>5</td>\n",
              "    </tr>\n",
              "    <tr>\n",
              "      <th>653</th>\n",
              "      <td>1307</td>\n",
              "      <td>1237178</td>\n",
              "      <td>Sunrisers Hyderabad</td>\n",
              "      <td>Royal Challengers Bangalore</td>\n",
              "      <td>122</td>\n",
              "      <td>10</td>\n",
              "      <td>132</td>\n",
              "      <td>0</td>\n",
              "      <td>4</td>\n",
              "    </tr>\n",
              "    <tr>\n",
              "      <th>654</th>\n",
              "      <td>1309</td>\n",
              "      <td>1237180</td>\n",
              "      <td>Sunrisers Hyderabad</td>\n",
              "      <td>Delhi Capitals</td>\n",
              "      <td>166</td>\n",
              "      <td>6</td>\n",
              "      <td>172</td>\n",
              "      <td>0</td>\n",
              "      <td>8</td>\n",
              "    </tr>\n",
              "    <tr>\n",
              "      <th>655</th>\n",
              "      <td>1311</td>\n",
              "      <td>1237181</td>\n",
              "      <td>Mumbai Indians</td>\n",
              "      <td>Delhi Capitals</td>\n",
              "      <td>153</td>\n",
              "      <td>4</td>\n",
              "      <td>157</td>\n",
              "      <td>0</td>\n",
              "      <td>5</td>\n",
              "    </tr>\n",
              "  </tbody>\n",
              "</table>\n",
              "<p>656 rows × 9 columns</p>\n",
              "</div>\n",
              "      <button class=\"colab-df-convert\" onclick=\"convertToInteractive('df-53756b08-9a17-4247-9aca-7713b29e1efc')\"\n",
              "              title=\"Convert this dataframe to an interactive table.\"\n",
              "              style=\"display:none;\">\n",
              "        \n",
              "  <svg xmlns=\"http://www.w3.org/2000/svg\" height=\"24px\"viewBox=\"0 0 24 24\"\n",
              "       width=\"24px\">\n",
              "    <path d=\"M0 0h24v24H0V0z\" fill=\"none\"/>\n",
              "    <path d=\"M18.56 5.44l.94 2.06.94-2.06 2.06-.94-2.06-.94-.94-2.06-.94 2.06-2.06.94zm-11 1L8.5 8.5l.94-2.06 2.06-.94-2.06-.94L8.5 2.5l-.94 2.06-2.06.94zm10 10l.94 2.06.94-2.06 2.06-.94-2.06-.94-.94-2.06-.94 2.06-2.06.94z\"/><path d=\"M17.41 7.96l-1.37-1.37c-.4-.4-.92-.59-1.43-.59-.52 0-1.04.2-1.43.59L10.3 9.45l-7.72 7.72c-.78.78-.78 2.05 0 2.83L4 21.41c.39.39.9.59 1.41.59.51 0 1.02-.2 1.41-.59l7.78-7.78 2.81-2.81c.8-.78.8-2.07 0-2.86zM5.41 20L4 18.59l7.72-7.72 1.47 1.35L5.41 20z\"/>\n",
              "  </svg>\n",
              "      </button>\n",
              "      \n",
              "  <style>\n",
              "    .colab-df-container {\n",
              "      display:flex;\n",
              "      flex-wrap:wrap;\n",
              "      gap: 12px;\n",
              "    }\n",
              "\n",
              "    .colab-df-convert {\n",
              "      background-color: #E8F0FE;\n",
              "      border: none;\n",
              "      border-radius: 50%;\n",
              "      cursor: pointer;\n",
              "      display: none;\n",
              "      fill: #1967D2;\n",
              "      height: 32px;\n",
              "      padding: 0 0 0 0;\n",
              "      width: 32px;\n",
              "    }\n",
              "\n",
              "    .colab-df-convert:hover {\n",
              "      background-color: #E2EBFA;\n",
              "      box-shadow: 0px 1px 2px rgba(60, 64, 67, 0.3), 0px 1px 3px 1px rgba(60, 64, 67, 0.15);\n",
              "      fill: #174EA6;\n",
              "    }\n",
              "\n",
              "    [theme=dark] .colab-df-convert {\n",
              "      background-color: #3B4455;\n",
              "      fill: #D2E3FC;\n",
              "    }\n",
              "\n",
              "    [theme=dark] .colab-df-convert:hover {\n",
              "      background-color: #434B5C;\n",
              "      box-shadow: 0px 1px 3px 1px rgba(0, 0, 0, 0.15);\n",
              "      filter: drop-shadow(0px 1px 2px rgba(0, 0, 0, 0.3));\n",
              "      fill: #FFFFFF;\n",
              "    }\n",
              "  </style>\n",
              "\n",
              "      <script>\n",
              "        const buttonEl =\n",
              "          document.querySelector('#df-53756b08-9a17-4247-9aca-7713b29e1efc button.colab-df-convert');\n",
              "        buttonEl.style.display =\n",
              "          google.colab.kernel.accessAllowed ? 'block' : 'none';\n",
              "\n",
              "        async function convertToInteractive(key) {\n",
              "          const element = document.querySelector('#df-53756b08-9a17-4247-9aca-7713b29e1efc');\n",
              "          const dataTable =\n",
              "            await google.colab.kernel.invokeFunction('convertToInteractive',\n",
              "                                                     [key], {});\n",
              "          if (!dataTable) return;\n",
              "\n",
              "          const docLinkHtml = 'Like what you see? Visit the ' +\n",
              "            '<a target=\"_blank\" href=https://colab.research.google.com/notebooks/data_table.ipynb>data table notebook</a>'\n",
              "            + ' to learn more about interactive tables.';\n",
              "          element.innerHTML = '';\n",
              "          dataTable['output_type'] = 'display_data';\n",
              "          await google.colab.output.renderOutput(dataTable, element);\n",
              "          const docLink = document.createElement('div');\n",
              "          docLink.innerHTML = docLinkHtml;\n",
              "          element.appendChild(docLink);\n",
              "        }\n",
              "      </script>\n",
              "    </div>\n",
              "  </div>\n",
              "  "
            ]
          },
          "metadata": {},
          "execution_count": 88
        }
      ]
    },
    {
      "cell_type": "markdown",
      "id": "18dd0697",
      "metadata": {
        "id": "18dd0697"
      },
      "source": [
        "Now we can directly comare the two table's 'total_runs' and decide which team won the match.\n",
        "<br><br>\n",
        "After calculating the winning team, we can merge the two dataframes again to proceed further."
      ]
    },
    {
      "cell_type": "code",
      "execution_count": 89,
      "id": "c35a4286",
      "metadata": {
        "id": "c35a4286",
        "outputId": "87df0e4f-528d-4314-d214-525c253d2a5b",
        "colab": {
          "base_uri": "https://localhost:8080/",
          "height": 424
        }
      },
      "outputs": [
        {
          "output_type": "execute_result",
          "data": {
            "text/plain": [
              "          id                       Team A                       Team B  \\\n",
              "0     335982        Kolkata Knight Riders  Royal Challengers Bangalore   \n",
              "1     335983          Chennai Super Kings              Kings XI Punjab   \n",
              "2     335984               Delhi Capitals             Rajasthan Royals   \n",
              "3     335985               Mumbai Indians  Royal Challengers Bangalore   \n",
              "4     335987              Kings XI Punjab             Rajasthan Royals   \n",
              "..       ...                          ...                          ...   \n",
              "651  1216547               Mumbai Indians  Royal Challengers Bangalore   \n",
              "652  1237177               Delhi Capitals               Mumbai Indians   \n",
              "653  1237178  Royal Challengers Bangalore          Sunrisers Hyderabad   \n",
              "654  1237180               Delhi Capitals          Sunrisers Hyderabad   \n",
              "655  1237181               Delhi Capitals               Mumbai Indians   \n",
              "\n",
              "                          winner  won_by  \n",
              "0          Kolkata Knight Riders     140  \n",
              "1            Chennai Super Kings      33  \n",
              "2                 Delhi Capitals       3  \n",
              "3    Royal Challengers Bangalore       1  \n",
              "4               Rajasthan Royals       2  \n",
              "..                           ...     ...  \n",
              "651                         Draw       0  \n",
              "652               Mumbai Indians      57  \n",
              "653          Sunrisers Hyderabad       1  \n",
              "654               Delhi Capitals      17  \n",
              "655               Mumbai Indians       1  \n",
              "\n",
              "[656 rows x 5 columns]"
            ],
            "text/html": [
              "\n",
              "  <div id=\"df-6f0bc79a-5de2-45a5-9eee-fd6c218fb58d\">\n",
              "    <div class=\"colab-df-container\">\n",
              "      <div>\n",
              "<style scoped>\n",
              "    .dataframe tbody tr th:only-of-type {\n",
              "        vertical-align: middle;\n",
              "    }\n",
              "\n",
              "    .dataframe tbody tr th {\n",
              "        vertical-align: top;\n",
              "    }\n",
              "\n",
              "    .dataframe thead th {\n",
              "        text-align: right;\n",
              "    }\n",
              "</style>\n",
              "<table border=\"1\" class=\"dataframe\">\n",
              "  <thead>\n",
              "    <tr style=\"text-align: right;\">\n",
              "      <th></th>\n",
              "      <th>id</th>\n",
              "      <th>Team A</th>\n",
              "      <th>Team B</th>\n",
              "      <th>winner</th>\n",
              "      <th>won_by</th>\n",
              "    </tr>\n",
              "  </thead>\n",
              "  <tbody>\n",
              "    <tr>\n",
              "      <th>0</th>\n",
              "      <td>335982</td>\n",
              "      <td>Kolkata Knight Riders</td>\n",
              "      <td>Royal Challengers Bangalore</td>\n",
              "      <td>Kolkata Knight Riders</td>\n",
              "      <td>140</td>\n",
              "    </tr>\n",
              "    <tr>\n",
              "      <th>1</th>\n",
              "      <td>335983</td>\n",
              "      <td>Chennai Super Kings</td>\n",
              "      <td>Kings XI Punjab</td>\n",
              "      <td>Chennai Super Kings</td>\n",
              "      <td>33</td>\n",
              "    </tr>\n",
              "    <tr>\n",
              "      <th>2</th>\n",
              "      <td>335984</td>\n",
              "      <td>Delhi Capitals</td>\n",
              "      <td>Rajasthan Royals</td>\n",
              "      <td>Delhi Capitals</td>\n",
              "      <td>3</td>\n",
              "    </tr>\n",
              "    <tr>\n",
              "      <th>3</th>\n",
              "      <td>335985</td>\n",
              "      <td>Mumbai Indians</td>\n",
              "      <td>Royal Challengers Bangalore</td>\n",
              "      <td>Royal Challengers Bangalore</td>\n",
              "      <td>1</td>\n",
              "    </tr>\n",
              "    <tr>\n",
              "      <th>4</th>\n",
              "      <td>335987</td>\n",
              "      <td>Kings XI Punjab</td>\n",
              "      <td>Rajasthan Royals</td>\n",
              "      <td>Rajasthan Royals</td>\n",
              "      <td>2</td>\n",
              "    </tr>\n",
              "    <tr>\n",
              "      <th>...</th>\n",
              "      <td>...</td>\n",
              "      <td>...</td>\n",
              "      <td>...</td>\n",
              "      <td>...</td>\n",
              "      <td>...</td>\n",
              "    </tr>\n",
              "    <tr>\n",
              "      <th>651</th>\n",
              "      <td>1216547</td>\n",
              "      <td>Mumbai Indians</td>\n",
              "      <td>Royal Challengers Bangalore</td>\n",
              "      <td>Draw</td>\n",
              "      <td>0</td>\n",
              "    </tr>\n",
              "    <tr>\n",
              "      <th>652</th>\n",
              "      <td>1237177</td>\n",
              "      <td>Delhi Capitals</td>\n",
              "      <td>Mumbai Indians</td>\n",
              "      <td>Mumbai Indians</td>\n",
              "      <td>57</td>\n",
              "    </tr>\n",
              "    <tr>\n",
              "      <th>653</th>\n",
              "      <td>1237178</td>\n",
              "      <td>Royal Challengers Bangalore</td>\n",
              "      <td>Sunrisers Hyderabad</td>\n",
              "      <td>Sunrisers Hyderabad</td>\n",
              "      <td>1</td>\n",
              "    </tr>\n",
              "    <tr>\n",
              "      <th>654</th>\n",
              "      <td>1237180</td>\n",
              "      <td>Delhi Capitals</td>\n",
              "      <td>Sunrisers Hyderabad</td>\n",
              "      <td>Delhi Capitals</td>\n",
              "      <td>17</td>\n",
              "    </tr>\n",
              "    <tr>\n",
              "      <th>655</th>\n",
              "      <td>1237181</td>\n",
              "      <td>Delhi Capitals</td>\n",
              "      <td>Mumbai Indians</td>\n",
              "      <td>Mumbai Indians</td>\n",
              "      <td>1</td>\n",
              "    </tr>\n",
              "  </tbody>\n",
              "</table>\n",
              "<p>656 rows × 5 columns</p>\n",
              "</div>\n",
              "      <button class=\"colab-df-convert\" onclick=\"convertToInteractive('df-6f0bc79a-5de2-45a5-9eee-fd6c218fb58d')\"\n",
              "              title=\"Convert this dataframe to an interactive table.\"\n",
              "              style=\"display:none;\">\n",
              "        \n",
              "  <svg xmlns=\"http://www.w3.org/2000/svg\" height=\"24px\"viewBox=\"0 0 24 24\"\n",
              "       width=\"24px\">\n",
              "    <path d=\"M0 0h24v24H0V0z\" fill=\"none\"/>\n",
              "    <path d=\"M18.56 5.44l.94 2.06.94-2.06 2.06-.94-2.06-.94-.94-2.06-.94 2.06-2.06.94zm-11 1L8.5 8.5l.94-2.06 2.06-.94-2.06-.94L8.5 2.5l-.94 2.06-2.06.94zm10 10l.94 2.06.94-2.06 2.06-.94-2.06-.94-.94-2.06-.94 2.06-2.06.94z\"/><path d=\"M17.41 7.96l-1.37-1.37c-.4-.4-.92-.59-1.43-.59-.52 0-1.04.2-1.43.59L10.3 9.45l-7.72 7.72c-.78.78-.78 2.05 0 2.83L4 21.41c.39.39.9.59 1.41.59.51 0 1.02-.2 1.41-.59l7.78-7.78 2.81-2.81c.8-.78.8-2.07 0-2.86zM5.41 20L4 18.59l7.72-7.72 1.47 1.35L5.41 20z\"/>\n",
              "  </svg>\n",
              "      </button>\n",
              "      \n",
              "  <style>\n",
              "    .colab-df-container {\n",
              "      display:flex;\n",
              "      flex-wrap:wrap;\n",
              "      gap: 12px;\n",
              "    }\n",
              "\n",
              "    .colab-df-convert {\n",
              "      background-color: #E8F0FE;\n",
              "      border: none;\n",
              "      border-radius: 50%;\n",
              "      cursor: pointer;\n",
              "      display: none;\n",
              "      fill: #1967D2;\n",
              "      height: 32px;\n",
              "      padding: 0 0 0 0;\n",
              "      width: 32px;\n",
              "    }\n",
              "\n",
              "    .colab-df-convert:hover {\n",
              "      background-color: #E2EBFA;\n",
              "      box-shadow: 0px 1px 2px rgba(60, 64, 67, 0.3), 0px 1px 3px 1px rgba(60, 64, 67, 0.15);\n",
              "      fill: #174EA6;\n",
              "    }\n",
              "\n",
              "    [theme=dark] .colab-df-convert {\n",
              "      background-color: #3B4455;\n",
              "      fill: #D2E3FC;\n",
              "    }\n",
              "\n",
              "    [theme=dark] .colab-df-convert:hover {\n",
              "      background-color: #434B5C;\n",
              "      box-shadow: 0px 1px 3px 1px rgba(0, 0, 0, 0.15);\n",
              "      filter: drop-shadow(0px 1px 2px rgba(0, 0, 0, 0.3));\n",
              "      fill: #FFFFFF;\n",
              "    }\n",
              "  </style>\n",
              "\n",
              "      <script>\n",
              "        const buttonEl =\n",
              "          document.querySelector('#df-6f0bc79a-5de2-45a5-9eee-fd6c218fb58d button.colab-df-convert');\n",
              "        buttonEl.style.display =\n",
              "          google.colab.kernel.accessAllowed ? 'block' : 'none';\n",
              "\n",
              "        async function convertToInteractive(key) {\n",
              "          const element = document.querySelector('#df-6f0bc79a-5de2-45a5-9eee-fd6c218fb58d');\n",
              "          const dataTable =\n",
              "            await google.colab.kernel.invokeFunction('convertToInteractive',\n",
              "                                                     [key], {});\n",
              "          if (!dataTable) return;\n",
              "\n",
              "          const docLinkHtml = 'Like what you see? Visit the ' +\n",
              "            '<a target=\"_blank\" href=https://colab.research.google.com/notebooks/data_table.ipynb>data table notebook</a>'\n",
              "            + ' to learn more about interactive tables.';\n",
              "          element.innerHTML = '';\n",
              "          dataTable['output_type'] = 'display_data';\n",
              "          await google.colab.output.renderOutput(dataTable, element);\n",
              "          const docLink = document.createElement('div');\n",
              "          docLink.innerHTML = docLinkHtml;\n",
              "          element.appendChild(docLink);\n",
              "        }\n",
              "      </script>\n",
              "    </div>\n",
              "  </div>\n",
              "  "
            ]
          },
          "metadata": {},
          "execution_count": 89
        }
      ],
      "source": [
        "length = len(df1)\n",
        "\n",
        "for itr in range (0, length):\n",
        "  # compare ids of both dataframe to check if same teams are facing off each other\n",
        "  if(df1.loc[itr, 'id'] == df2.loc[itr, 'id']):\n",
        "    # Team A wins the game\n",
        "    if(df1.loc[itr, 'total_runs'] > df2.loc[itr, 'total_runs']):\n",
        "        winner = df1.loc[itr, 'batting_team']\n",
        "        df1.at[itr, 'winner'] = winner\n",
        "        df2.at[itr, 'winner'] = winner\n",
        "    # Team B wins the game\n",
        "    elif(df1.loc[itr, 'total_runs'] < df2.loc[itr, 'total_runs']):\n",
        "        winner = df2.loc[itr, 'batting_team']\n",
        "        df2.at[itr, 'winner'] = winner\n",
        "        df1.at[itr, 'winner'] = winner\n",
        "\n",
        "    else:\n",
        "        df1.at[itr, 'winner'] = 'Draw'\n",
        "        df2.at[itr, 'winner'] = 'Draw'\n",
        "\n",
        "# merging the two tables again\n",
        "winner_team_data = pd.merge(df1, df2, how= 'left')\n",
        "winner_team_data['won_by']= abs(df1['total_runs']-df2['total_runs'])\n",
        "\n",
        "winner_team_data = winner_team_data.drop(labels=['batsman_runs', 'extra_runs', 'total_runs', 'non_boundary', 'is_wicket'], axis=1).drop('index',axis=1)\n",
        "winner_team_data = winner_team_data.rename(columns={'batting_team': 'Team A', 'bowling_team': 'Team B'})\n",
        "winner_team_data"
      ]
    },
    {
      "cell_type": "code",
      "source": [
        "most_winning_teams = winner_team_data.groupby(['winner'])['winner'].count().reset_index(name='counts')\n",
        "most_winning_teams = most_winning_teams.drop(labels=2, axis=0)\n",
        "most_winning_teams"
      ],
      "metadata": {
        "colab": {
          "base_uri": "https://localhost:8080/",
          "height": 331
        },
        "id": "6_xpXuAK26KZ",
        "outputId": "5cf40fd4-87dc-4989-bd34-021d683eb4ef"
      },
      "id": "6_xpXuAK26KZ",
      "execution_count": 90,
      "outputs": [
        {
          "output_type": "execute_result",
          "data": {
            "text/plain": [
              "                        winner  counts\n",
              "0          Chennai Super Kings      95\n",
              "1               Delhi Capitals      73\n",
              "3                Gujarat Lions      10\n",
              "4              Kings XI Punjab      72\n",
              "5        Kolkata Knight Riders      83\n",
              "6               Mumbai Indians     105\n",
              "7             Rajasthan Royals      67\n",
              "8  Royal Challengers Bangalore      75\n",
              "9          Sunrisers Hyderabad      63"
            ],
            "text/html": [
              "\n",
              "  <div id=\"df-c4b5af08-633b-401e-bf75-9cdbe9b3408d\">\n",
              "    <div class=\"colab-df-container\">\n",
              "      <div>\n",
              "<style scoped>\n",
              "    .dataframe tbody tr th:only-of-type {\n",
              "        vertical-align: middle;\n",
              "    }\n",
              "\n",
              "    .dataframe tbody tr th {\n",
              "        vertical-align: top;\n",
              "    }\n",
              "\n",
              "    .dataframe thead th {\n",
              "        text-align: right;\n",
              "    }\n",
              "</style>\n",
              "<table border=\"1\" class=\"dataframe\">\n",
              "  <thead>\n",
              "    <tr style=\"text-align: right;\">\n",
              "      <th></th>\n",
              "      <th>winner</th>\n",
              "      <th>counts</th>\n",
              "    </tr>\n",
              "  </thead>\n",
              "  <tbody>\n",
              "    <tr>\n",
              "      <th>0</th>\n",
              "      <td>Chennai Super Kings</td>\n",
              "      <td>95</td>\n",
              "    </tr>\n",
              "    <tr>\n",
              "      <th>1</th>\n",
              "      <td>Delhi Capitals</td>\n",
              "      <td>73</td>\n",
              "    </tr>\n",
              "    <tr>\n",
              "      <th>3</th>\n",
              "      <td>Gujarat Lions</td>\n",
              "      <td>10</td>\n",
              "    </tr>\n",
              "    <tr>\n",
              "      <th>4</th>\n",
              "      <td>Kings XI Punjab</td>\n",
              "      <td>72</td>\n",
              "    </tr>\n",
              "    <tr>\n",
              "      <th>5</th>\n",
              "      <td>Kolkata Knight Riders</td>\n",
              "      <td>83</td>\n",
              "    </tr>\n",
              "    <tr>\n",
              "      <th>6</th>\n",
              "      <td>Mumbai Indians</td>\n",
              "      <td>105</td>\n",
              "    </tr>\n",
              "    <tr>\n",
              "      <th>7</th>\n",
              "      <td>Rajasthan Royals</td>\n",
              "      <td>67</td>\n",
              "    </tr>\n",
              "    <tr>\n",
              "      <th>8</th>\n",
              "      <td>Royal Challengers Bangalore</td>\n",
              "      <td>75</td>\n",
              "    </tr>\n",
              "    <tr>\n",
              "      <th>9</th>\n",
              "      <td>Sunrisers Hyderabad</td>\n",
              "      <td>63</td>\n",
              "    </tr>\n",
              "  </tbody>\n",
              "</table>\n",
              "</div>\n",
              "      <button class=\"colab-df-convert\" onclick=\"convertToInteractive('df-c4b5af08-633b-401e-bf75-9cdbe9b3408d')\"\n",
              "              title=\"Convert this dataframe to an interactive table.\"\n",
              "              style=\"display:none;\">\n",
              "        \n",
              "  <svg xmlns=\"http://www.w3.org/2000/svg\" height=\"24px\"viewBox=\"0 0 24 24\"\n",
              "       width=\"24px\">\n",
              "    <path d=\"M0 0h24v24H0V0z\" fill=\"none\"/>\n",
              "    <path d=\"M18.56 5.44l.94 2.06.94-2.06 2.06-.94-2.06-.94-.94-2.06-.94 2.06-2.06.94zm-11 1L8.5 8.5l.94-2.06 2.06-.94-2.06-.94L8.5 2.5l-.94 2.06-2.06.94zm10 10l.94 2.06.94-2.06 2.06-.94-2.06-.94-.94-2.06-.94 2.06-2.06.94z\"/><path d=\"M17.41 7.96l-1.37-1.37c-.4-.4-.92-.59-1.43-.59-.52 0-1.04.2-1.43.59L10.3 9.45l-7.72 7.72c-.78.78-.78 2.05 0 2.83L4 21.41c.39.39.9.59 1.41.59.51 0 1.02-.2 1.41-.59l7.78-7.78 2.81-2.81c.8-.78.8-2.07 0-2.86zM5.41 20L4 18.59l7.72-7.72 1.47 1.35L5.41 20z\"/>\n",
              "  </svg>\n",
              "      </button>\n",
              "      \n",
              "  <style>\n",
              "    .colab-df-container {\n",
              "      display:flex;\n",
              "      flex-wrap:wrap;\n",
              "      gap: 12px;\n",
              "    }\n",
              "\n",
              "    .colab-df-convert {\n",
              "      background-color: #E8F0FE;\n",
              "      border: none;\n",
              "      border-radius: 50%;\n",
              "      cursor: pointer;\n",
              "      display: none;\n",
              "      fill: #1967D2;\n",
              "      height: 32px;\n",
              "      padding: 0 0 0 0;\n",
              "      width: 32px;\n",
              "    }\n",
              "\n",
              "    .colab-df-convert:hover {\n",
              "      background-color: #E2EBFA;\n",
              "      box-shadow: 0px 1px 2px rgba(60, 64, 67, 0.3), 0px 1px 3px 1px rgba(60, 64, 67, 0.15);\n",
              "      fill: #174EA6;\n",
              "    }\n",
              "\n",
              "    [theme=dark] .colab-df-convert {\n",
              "      background-color: #3B4455;\n",
              "      fill: #D2E3FC;\n",
              "    }\n",
              "\n",
              "    [theme=dark] .colab-df-convert:hover {\n",
              "      background-color: #434B5C;\n",
              "      box-shadow: 0px 1px 3px 1px rgba(0, 0, 0, 0.15);\n",
              "      filter: drop-shadow(0px 1px 2px rgba(0, 0, 0, 0.3));\n",
              "      fill: #FFFFFF;\n",
              "    }\n",
              "  </style>\n",
              "\n",
              "      <script>\n",
              "        const buttonEl =\n",
              "          document.querySelector('#df-c4b5af08-633b-401e-bf75-9cdbe9b3408d button.colab-df-convert');\n",
              "        buttonEl.style.display =\n",
              "          google.colab.kernel.accessAllowed ? 'block' : 'none';\n",
              "\n",
              "        async function convertToInteractive(key) {\n",
              "          const element = document.querySelector('#df-c4b5af08-633b-401e-bf75-9cdbe9b3408d');\n",
              "          const dataTable =\n",
              "            await google.colab.kernel.invokeFunction('convertToInteractive',\n",
              "                                                     [key], {});\n",
              "          if (!dataTable) return;\n",
              "\n",
              "          const docLinkHtml = 'Like what you see? Visit the ' +\n",
              "            '<a target=\"_blank\" href=https://colab.research.google.com/notebooks/data_table.ipynb>data table notebook</a>'\n",
              "            + ' to learn more about interactive tables.';\n",
              "          element.innerHTML = '';\n",
              "          dataTable['output_type'] = 'display_data';\n",
              "          await google.colab.output.renderOutput(dataTable, element);\n",
              "          const docLink = document.createElement('div');\n",
              "          docLink.innerHTML = docLinkHtml;\n",
              "          element.appendChild(docLink);\n",
              "        }\n",
              "      </script>\n",
              "    </div>\n",
              "  </div>\n",
              "  "
            ]
          },
          "metadata": {},
          "execution_count": 90
        }
      ]
    },
    {
      "cell_type": "code",
      "source": [
        "x = np.array(most_winning_teams['winner'])\n",
        "y = np.array(most_winning_teams['counts'])\n",
        "\n",
        "col = ['#e5ae38', '#fa8174', '#afed6f', '#4f7801', '#b0a440', '#96B4E9', '#5572B2', '#d0a0f5', '#3fbdd9', '#988ED5']\n",
        "\n",
        "\n",
        "fig, axes = plt.subplots(1,2, figsize=(20, 6))\n",
        "axes[0].pie(most_winning_teams['counts'], labels=most_winning_teams['winner'], colors=col)\n",
        "\n",
        "axes[1].bar(x, y, color=col)\n",
        "axes[1].set(ylim=[0, 120])\n",
        "axes[1].set_xlabel('IPL Teams')\n",
        "axes[1].set_ylabel('No. of victories')\n",
        "fig.autofmt_xdate()"
      ],
      "metadata": {
        "id": "hQddIr2wnxAa",
        "outputId": "10f06485-8492-4ef8-819f-f3c07a658fb9",
        "colab": {
          "base_uri": "https://localhost:8080/",
          "height": 430
        }
      },
      "id": "hQddIr2wnxAa",
      "execution_count": 91,
      "outputs": [
        {
          "output_type": "display_data",
          "data": {
            "text/plain": [
              "<Figure size 1440x432 with 2 Axes>"
            ],
            "image/png": "[encoded data removed]"
          },
          "metadata": {
            "needs_background": "light"
          }
        }
      ]
    },
    {
      "cell_type": "markdown",
      "source": [
        "# Formulating an ML Problem"
      ],
      "metadata": {
        "id": "n7qZR_DP-ln1"
      },
      "id": "n7qZR_DP-ln1"
    },
    {
      "cell_type": "markdown",
      "source": [
        "## 4. (T1) List some interesting machine learning problems (classification, regression, clustering, etc.) on your assigned dataset. If you were to design a product/service to solve the problem, who would be the interested parties/stakeholders?"
      ],
      "metadata": {
        "id": "5f0WPypG-s1p"
      },
      "id": "5f0WPypG-s1p"
    },
    {
      "cell_type": "markdown",
      "source": [
        "### K-means or DBSCAN Clustering algorithm can make clusters of players based on derived features, strike rate, economy, total runs by batsman, and total wickets by the bowler. We will make categories of overs so that it will quickly identify which batsman performs best in a given category(for example, the batters who perform best in over 0 to 5 will be clustered together for the openers category). We will make clusters like top-order batsmen(openers), middle-order batsmen, dead bowlers, etc. These clusters will help select the right player for a given situation. And if we get information about the auctioned price of the player, we can do further clustering of groups (for example, for the openers cluster, if we make other cluster based on the auctioned price, we cluster openers by auctioned price so the budget of the team will also be considered for selecting players). And by using auctioned prices, we can use a regression algorithm to predict the next auction price. This information will be deemed while choosing the player and bidding in the auction.\n",
        "\n",
        "<br>\n",
        "\n",
        "### Winning is the ultimate goal in any game. The selection of the best players in a team is not only the key to overall team performance, but it is also vital to train the team chosen by the selectors to convert a match into a higher probability of winning. Hence it will be easier for the coaches to not only determine the squad but also to train the team on their weaknesses (or) devise a strategy to hunt down the opponents with their shortcomings.\n",
        "\n",
        "<br>\n",
        "\n",
        "###One crucial factor in an in-match game is the decision made by the coach or captain, like selecting a suitable player as per the situation or which bowler is more appropriate. These small things can quickly turn the tables upside down, and we all have witnessed the same in the IPL. Hence our stakeholders would-be coaches and the captains of the IPL teams."
      ],
      "metadata": {
        "id": "0g-lxsYRHJYr"
      },
      "id": "0g-lxsYRHJYr"
    },
    {
      "cell_type": "markdown",
      "source": [
        "# Apriori Algorithm"
      ],
      "metadata": {
        "id": "8__Shmhn-x01"
      },
      "id": "8__Shmhn-x01"
    },
    {
      "cell_type": "markdown",
      "source": [
        "## 5. (T1) Implement the Apriori algorithm and use it to mine sets that are frequent on your\n",
        "assigned dataset. Set minimum support (minsup) to 0.01, 0.02, 0.05, 0.08, and show the\n",
        "list of most frequent patterns."
      ],
      "metadata": {
        "id": "vZcZgFji-2Ce"
      },
      "id": "vZcZgFji-2Ce"
    },
    {
      "cell_type": "markdown",
      "source": [
        "Here, we are trying to find **Frequent Itemsets** and **Association Rules** for MS Dhoni's run scoring pattern per over."
      ],
      "metadata": {
        "id": "YgDntPdmH8Kq"
      },
      "id": "YgDntPdmH8Kq"
    },
    {
      "cell_type": "code",
      "source": [
        "# no. of balls played by Dhoni in every over\n",
        "dhoni_data = df.query('batsman==\"MS Dhoni\"')\n",
        "\n",
        "balls_played_in_over = df.query('batsman==\"MS Dhoni\"').groupby(['over']).count()\n",
        "balls_played_in_over = balls_played_in_over['ball']\n",
        "balls_played_in_over"
      ],
      "metadata": {
        "colab": {
          "base_uri": "https://localhost:8080/"
        },
        "id": "1k-BpqU0orwN",
        "outputId": "3fdcc26c-f201-4cf9-84d9-cb65e9103fbe"
      },
      "id": "1k-BpqU0orwN",
      "execution_count": 267,
      "outputs": [
        {
          "output_type": "execute_result",
          "data": {
            "text/plain": [
              "over\n",
              "1       1\n",
              "2       2\n",
              "3       6\n",
              "4      16\n",
              "5      21\n",
              "6      50\n",
              "7      50\n",
              "8      63\n",
              "9     127\n",
              "10    152\n",
              "11    180\n",
              "12    203\n",
              "13    210\n",
              "14    268\n",
              "15    280\n",
              "16    291\n",
              "17    272\n",
              "18    252\n",
              "19    201\n",
              "Name: ball, dtype: int64"
            ]
          },
          "metadata": {},
          "execution_count": 267
        }
      ]
    },
    {
      "cell_type": "code",
      "source": [
        "# no. of 1's scored by Dhoni in every over\n",
        "ones_scored_by_dhoni = dhoni_data.query('batsman_runs==1').groupby('over').count()\n",
        "ones_scored_by_dhoni = ones_scored_by_dhoni['ball']\n",
        "ones_scored_by_dhoni"
      ],
      "metadata": {
        "colab": {
          "base_uri": "https://localhost:8080/"
        },
        "id": "MHRuXhV-Dboo",
        "outputId": "3b5b9015-6d66-452a-85b3-3086b3a6782d"
      },
      "id": "MHRuXhV-Dboo",
      "execution_count": 270,
      "outputs": [
        {
          "output_type": "execute_result",
          "data": {
            "text/plain": [
              "over\n",
              "3       1\n",
              "4       1\n",
              "5       4\n",
              "6      16\n",
              "7      22\n",
              "8      25\n",
              "9      45\n",
              "10     66\n",
              "11     85\n",
              "12    101\n",
              "13    104\n",
              "14    116\n",
              "15    127\n",
              "16    125\n",
              "17    108\n",
              "18     75\n",
              "19     45\n",
              "Name: ball, dtype: int64"
            ]
          },
          "metadata": {},
          "execution_count": 270
        }
      ]
    },
    {
      "cell_type": "code",
      "source": [
        "# no. of 2's scored by Dhoni in every over\n",
        "dhoni_data = df.query('batsman==\"MS Dhoni\"')\n",
        "\n",
        "# no. of 2's scored by Dhoni in every over\n",
        "twos_scored_by_dhoni = dhoni_data.query('batsman_runs==2').groupby('over').count()\n",
        "twos_scored_by_dhoni['ball']"
      ],
      "metadata": {
        "colab": {
          "base_uri": "https://localhost:8080/"
        },
        "id": "qFTtnK24IwO4",
        "outputId": "075785fe-46a4-4dca-d416-827dd81b1bdd"
      },
      "id": "qFTtnK24IwO4",
      "execution_count": 271,
      "outputs": [
        {
          "output_type": "execute_result",
          "data": {
            "text/plain": [
              "over\n",
              "5      1\n",
              "6      3\n",
              "7      2\n",
              "8      2\n",
              "9      5\n",
              "10    13\n",
              "11    16\n",
              "12    17\n",
              "13    10\n",
              "14    23\n",
              "15    28\n",
              "16    31\n",
              "17    28\n",
              "18    37\n",
              "19    30\n",
              "Name: ball, dtype: int64"
            ]
          },
          "metadata": {},
          "execution_count": 271
        }
      ]
    },
    {
      "cell_type": "code",
      "source": [
        "# no. of 4's scored by Dhoni in every over\n",
        "dhoni_data = df.query('batsman==\"MS Dhoni\"')\n",
        "\n",
        "# no. of 4's scored by Dhoni in every over\n",
        "ones_scored_by_dhoni = dhoni_data.query('batsman_runs==4').groupby('over').count()\n",
        "ones_scored_by_dhoni['ball']"
      ],
      "metadata": {
        "colab": {
          "base_uri": "https://localhost:8080/"
        },
        "id": "vJYwP2tvIx6-",
        "outputId": "25a0e8db-534e-42cb-f555-cbc9ebc1072a"
      },
      "id": "vJYwP2tvIx6-",
      "execution_count": 272,
      "outputs": [
        {
          "output_type": "execute_result",
          "data": {
            "text/plain": [
              "over\n",
              "3      2\n",
              "4      1\n",
              "5      4\n",
              "7      4\n",
              "8      5\n",
              "9      6\n",
              "10     8\n",
              "11     9\n",
              "12    10\n",
              "13    17\n",
              "14    24\n",
              "15    22\n",
              "16    33\n",
              "17    34\n",
              "18    39\n",
              "19    28\n",
              "Name: ball, dtype: int64"
            ]
          },
          "metadata": {},
          "execution_count": 272
        }
      ]
    },
    {
      "cell_type": "code",
      "source": [
        "# no. of 6's scored by Dhoni in every over\n",
        "dhoni_data = df.query('batsman==\"MS Dhoni\"')\n",
        "\n",
        "# no. of 6's scored by Dhoni in every over\n",
        "ones_scored_by_dhoni = dhoni_data.query('batsman_runs==6').groupby('over').count()\n",
        "ones_scored_by_dhoni['ball']"
      ],
      "metadata": {
        "colab": {
          "base_uri": "https://localhost:8080/"
        },
        "id": "Ns3AiaKPIzHH",
        "outputId": "6ce21af6-62dd-44ca-ba11-97ddad1ea4d0"
      },
      "id": "Ns3AiaKPIzHH",
      "execution_count": 264,
      "outputs": [
        {
          "output_type": "execute_result",
          "data": {
            "text/plain": [
              "over\n",
              "6      2\n",
              "7      1\n",
              "8      1\n",
              "9      2\n",
              "10     6\n",
              "11     4\n",
              "12     6\n",
              "13     7\n",
              "14    12\n",
              "15    15\n",
              "16    22\n",
              "17    29\n",
              "18    28\n",
              "19    39\n",
              "Name: ball, dtype: int64"
            ]
          },
          "metadata": {},
          "execution_count": 264
        }
      ]
    },
    {
      "cell_type": "markdown",
      "source": [
        "![image.png](data:image/png;base64,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)"
      ],
      "metadata": {
        "id": "RwzSMoV2uP2A"
      },
      "id": "RwzSMoV2uP2A"
    },
    {
      "cell_type": "markdown",
      "id": "98caf20c",
      "metadata": {
        "id": "98caf20c"
      },
      "source": [
        "# Trivial/ Fun Observations in given dataset"
      ]
    },
    {
      "cell_type": "markdown",
      "source": [
        "Lets have a quick look at our data before proceeding further"
      ],
      "metadata": {
        "id": "BLdMId9zJrzd"
      },
      "id": "BLdMId9zJrzd"
    },
    {
      "cell_type": "code",
      "source": [
        "df.head(3)"
      ],
      "metadata": {
        "colab": {
          "base_uri": "https://localhost:8080/",
          "height": 312
        },
        "id": "jWOnZ0xO_ZpC",
        "outputId": "59e9283c-8329-4ecd-854f-af2707bcd17e"
      },
      "id": "jWOnZ0xO_ZpC",
      "execution_count": 42,
      "outputs": [
        {
          "output_type": "execute_result",
          "data": {
            "text/plain": [
              "       id  inning  over  ball      batsman  non_striker     bowler  \\\n",
              "0  335982       1   6.0   5.0   RT Ponting  BB McCullum  AA Noffke   \n",
              "1  335982       1   6.0   6.0  BB McCullum   RT Ponting  AA Noffke   \n",
              "2  335982       1   7.0   1.0  BB McCullum   RT Ponting     Z Khan   \n",
              "\n",
              "   batsman_runs  extra_runs  total_runs  non_boundary  is_wicket  \\\n",
              "0           1.0         0.0         1.0           0.0        0.0   \n",
              "1           1.0         0.0         1.0           0.0        0.0   \n",
              "2           0.0         0.0         0.0           0.0        0.0   \n",
              "\n",
              "  dismissal_kind player_dismissed           batting_team  \\\n",
              "0        Not Out          Not Out  Kolkata Knight Riders   \n",
              "1        Not Out          Not Out  Kolkata Knight Riders   \n",
              "2        Not Out          Not Out  Kolkata Knight Riders   \n",
              "\n",
              "                  bowling_team  \n",
              "0  Royal Challengers Bangalore  \n",
              "1  Royal Challengers Bangalore  \n",
              "2  Royal Challengers Bangalore  "
            ],
            "text/html": [
              "\n",
              "  <div id=\"df-b6461cbf-e3d8-4bf8-8ce4-6bd24835890d\">\n",
              "    <div class=\"colab-df-container\">\n",
              "      <div>\n",
              "<style scoped>\n",
              "    .dataframe tbody tr th:only-of-type {\n",
              "        vertical-align: middle;\n",
              "    }\n",
              "\n",
              "    .dataframe tbody tr th {\n",
              "        vertical-align: top;\n",
              "    }\n",
              "\n",
              "    .dataframe thead th {\n",
              "        text-align: right;\n",
              "    }\n",
              "</style>\n",
              "<table border=\"1\" class=\"dataframe\">\n",
              "  <thead>\n",
              "    <tr style=\"text-align: right;\">\n",
              "      <th></th>\n",
              "      <th>id</th>\n",
              "      <th>inning</th>\n",
              "      <th>over</th>\n",
              "      <th>ball</th>\n",
              "      <th>batsman</th>\n",
              "      <th>non_striker</th>\n",
              "      <th>bowler</th>\n",
              "      <th>batsman_runs</th>\n",
              "      <th>extra_runs</th>\n",
              "      <th>total_runs</th>\n",
              "      <th>non_boundary</th>\n",
              "      <th>is_wicket</th>\n",
              "      <th>dismissal_kind</th>\n",
              "      <th>player_dismissed</th>\n",
              "      <th>batting_team</th>\n",
              "      <th>bowling_team</th>\n",
              "    </tr>\n",
              "  </thead>\n",
              "  <tbody>\n",
              "    <tr>\n",
              "      <th>0</th>\n",
              "      <td>335982</td>\n",
              "      <td>1</td>\n",
              "      <td>6.0</td>\n",
              "      <td>5.0</td>\n",
              "      <td>RT Ponting</td>\n",
              "      <td>BB McCullum</td>\n",
              "      <td>AA Noffke</td>\n",
              "      <td>1.0</td>\n",
              "      <td>0.0</td>\n",
              "      <td>1.0</td>\n",
              "      <td>0.0</td>\n",
              "      <td>0.0</td>\n",
              "      <td>Not Out</td>\n",
              "      <td>Not Out</td>\n",
              "      <td>Kolkata Knight Riders</td>\n",
              "      <td>Royal Challengers Bangalore</td>\n",
              "    </tr>\n",
              "    <tr>\n",
              "      <th>1</th>\n",
              "      <td>335982</td>\n",
              "      <td>1</td>\n",
              "      <td>6.0</td>\n",
              "      <td>6.0</td>\n",
              "      <td>BB McCullum</td>\n",
              "      <td>RT Ponting</td>\n",
              "      <td>AA Noffke</td>\n",
              "      <td>1.0</td>\n",
              "      <td>0.0</td>\n",
              "      <td>1.0</td>\n",
              "      <td>0.0</td>\n",
              "      <td>0.0</td>\n",
              "      <td>Not Out</td>\n",
              "      <td>Not Out</td>\n",
              "      <td>Kolkata Knight Riders</td>\n",
              "      <td>Royal Challengers Bangalore</td>\n",
              "    </tr>\n",
              "    <tr>\n",
              "      <th>2</th>\n",
              "      <td>335982</td>\n",
              "      <td>1</td>\n",
              "      <td>7.0</td>\n",
              "      <td>1.0</td>\n",
              "      <td>BB McCullum</td>\n",
              "      <td>RT Ponting</td>\n",
              "      <td>Z Khan</td>\n",
              "      <td>0.0</td>\n",
              "      <td>0.0</td>\n",
              "      <td>0.0</td>\n",
              "      <td>0.0</td>\n",
              "      <td>0.0</td>\n",
              "      <td>Not Out</td>\n",
              "      <td>Not Out</td>\n",
              "      <td>Kolkata Knight Riders</td>\n",
              "      <td>Royal Challengers Bangalore</td>\n",
              "    </tr>\n",
              "  </tbody>\n",
              "</table>\n",
              "</div>\n",
              "      <button class=\"colab-df-convert\" onclick=\"convertToInteractive('df-b6461cbf-e3d8-4bf8-8ce4-6bd24835890d')\"\n",
              "              title=\"Convert this dataframe to an interactive table.\"\n",
              "              style=\"display:none;\">\n",
              "        \n",
              "  <svg xmlns=\"http://www.w3.org/2000/svg\" height=\"24px\"viewBox=\"0 0 24 24\"\n",
              "       width=\"24px\">\n",
              "    <path d=\"M0 0h24v24H0V0z\" fill=\"none\"/>\n",
              "    <path d=\"M18.56 5.44l.94 2.06.94-2.06 2.06-.94-2.06-.94-.94-2.06-.94 2.06-2.06.94zm-11 1L8.5 8.5l.94-2.06 2.06-.94-2.06-.94L8.5 2.5l-.94 2.06-2.06.94zm10 10l.94 2.06.94-2.06 2.06-.94-2.06-.94-.94-2.06-.94 2.06-2.06.94z\"/><path d=\"M17.41 7.96l-1.37-1.37c-.4-.4-.92-.59-1.43-.59-.52 0-1.04.2-1.43.59L10.3 9.45l-7.72 7.72c-.78.78-.78 2.05 0 2.83L4 21.41c.39.39.9.59 1.41.59.51 0 1.02-.2 1.41-.59l7.78-7.78 2.81-2.81c.8-.78.8-2.07 0-2.86zM5.41 20L4 18.59l7.72-7.72 1.47 1.35L5.41 20z\"/>\n",
              "  </svg>\n",
              "      </button>\n",
              "      \n",
              "  <style>\n",
              "    .colab-df-container {\n",
              "      display:flex;\n",
              "      flex-wrap:wrap;\n",
              "      gap: 12px;\n",
              "    }\n",
              "\n",
              "    .colab-df-convert {\n",
              "      background-color: #E8F0FE;\n",
              "      border: none;\n",
              "      border-radius: 50%;\n",
              "      cursor: pointer;\n",
              "      display: none;\n",
              "      fill: #1967D2;\n",
              "      height: 32px;\n",
              "      padding: 0 0 0 0;\n",
              "      width: 32px;\n",
              "    }\n",
              "\n",
              "    .colab-df-convert:hover {\n",
              "      background-color: #E2EBFA;\n",
              "      box-shadow: 0px 1px 2px rgba(60, 64, 67, 0.3), 0px 1px 3px 1px rgba(60, 64, 67, 0.15);\n",
              "      fill: #174EA6;\n",
              "    }\n",
              "\n",
              "    [theme=dark] .colab-df-convert {\n",
              "      background-color: #3B4455;\n",
              "      fill: #D2E3FC;\n",
              "    }\n",
              "\n",
              "    [theme=dark] .colab-df-convert:hover {\n",
              "      background-color: #434B5C;\n",
              "      box-shadow: 0px 1px 3px 1px rgba(0, 0, 0, 0.15);\n",
              "      filter: drop-shadow(0px 1px 2px rgba(0, 0, 0, 0.3));\n",
              "      fill: #FFFFFF;\n",
              "    }\n",
              "  </style>\n",
              "\n",
              "      <script>\n",
              "        const buttonEl =\n",
              "          document.querySelector('#df-b6461cbf-e3d8-4bf8-8ce4-6bd24835890d button.colab-df-convert');\n",
              "        buttonEl.style.display =\n",
              "          google.colab.kernel.accessAllowed ? 'block' : 'none';\n",
              "\n",
              "        async function convertToInteractive(key) {\n",
              "          const element = document.querySelector('#df-b6461cbf-e3d8-4bf8-8ce4-6bd24835890d');\n",
              "          const dataTable =\n",
              "            await google.colab.kernel.invokeFunction('convertToInteractive',\n",
              "                                                     [key], {});\n",
              "          if (!dataTable) return;\n",
              "\n",
              "          const docLinkHtml = 'Like what you see? Visit the ' +\n",
              "            '<a target=\"_blank\" href=https://colab.research.google.com/notebooks/data_table.ipynb>data table notebook</a>'\n",
              "            + ' to learn more about interactive tables.';\n",
              "          element.innerHTML = '';\n",
              "          dataTable['output_type'] = 'display_data';\n",
              "          await google.colab.output.renderOutput(dataTable, element);\n",
              "          const docLink = document.createElement('div');\n",
              "          docLink.innerHTML = docLinkHtml;\n",
              "          element.appendChild(docLink);\n",
              "        }\n",
              "      </script>\n",
              "    </div>\n",
              "  </div>\n",
              "  "
            ]
          },
          "metadata": {},
          "execution_count": 42
        }
      ]
    },
    {
      "cell_type": "markdown",
      "source": [
        "### 1. Innings"
      ],
      "metadata": {
        "id": "-GEIT84IJ5FO"
      },
      "id": "-GEIT84IJ5FO"
    },
    {
      "cell_type": "code",
      "execution_count": 43,
      "id": "e613646a",
      "metadata": {
        "id": "e613646a",
        "outputId": "69f85f3b-6231-4183-c01e-e6024a5226a4",
        "colab": {
          "base_uri": "https://localhost:8080/",
          "height": 301
        }
      },
      "outputs": [
        {
          "output_type": "execute_result",
          "data": {
            "text/plain": [
              "<matplotlib.axes._subplots.AxesSubplot at 0x7f47aff76490>"
            ]
          },
          "metadata": {},
          "execution_count": 43
        },
        {
          "output_type": "display_data",
          "data": {
            "text/plain": [
              "<Figure size 432x288 with 1 Axes>"
            ],
            "image/png": "[encoded data removed]"
          },
          "metadata": {
            "needs_background": "light"
          }
        }
      ],
      "source": [
        "INNINGS = df.groupby('inning').count()['id']\n",
        "INNINGS = INNINGS.to_frame().reset_index()\n",
        "\n",
        "sns.barplot(x='inning', y='id', data=INNINGS)"
      ]
    },
    {
      "cell_type": "markdown",
      "source": [
        "From the above graph, we can deduct that there is some difference between total games played in inning 1 vs inning 2. Which could mean that, due to some unforseenable circumstances, such as bad weather, the match was not played between few teams."
      ],
      "metadata": {
        "id": "qONCC6EEJ_O-"
      },
      "id": "qONCC6EEJ_O-"
    },
    {
      "cell_type": "markdown",
      "source": [
        "### 2. Longest over in IPL"
      ],
      "metadata": {
        "id": "mg_ah5m6LApb"
      },
      "id": "mg_ah5m6LApb"
    },
    {
      "cell_type": "code",
      "execution_count": 44,
      "id": "3b2cd720",
      "metadata": {
        "id": "3b2cd720",
        "outputId": "29f08662-ec3a-4254-b0e2-54361d0e5db6",
        "colab": {
          "base_uri": "https://localhost:8080/"
        }
      },
      "outputs": [
        {
          "output_type": "stream",
          "name": "stdout",
          "text": [
            "The longest over in IPL had 9 balls\n"
          ]
        }
      ],
      "source": [
        "#highest ball thrown in an over\n",
        "HIGHEST_BALL_IN_AN_OVER = df.groupby('ball').nunique().reset_index()\n",
        "result = HIGHEST_BALL_IN_AN_OVER['ball'].count()\n",
        "print(f'The longest over in IPL had {result} balls')"
      ]
    },
    {
      "cell_type": "markdown",
      "source": [
        "### 3. Dismissal trend"
      ],
      "metadata": {
        "id": "03Mkg8m2Lu5d"
      },
      "id": "03Mkg8m2Lu5d"
    },
    {
      "cell_type": "code",
      "execution_count": 45,
      "id": "31902349",
      "metadata": {
        "id": "31902349",
        "outputId": "7e21219c-8867-465f-d802-8e1b801e289e",
        "colab": {
          "base_uri": "https://localhost:8080/",
          "height": 459
        }
      },
      "outputs": [
        {
          "output_type": "display_data",
          "data": {
            "text/plain": [
              "<Figure size 1080x504 with 1 Axes>"
            ],
            "image/png": "[encoded data removed]"
          },
          "metadata": {
            "needs_background": "light"
          }
        }
      ],
      "source": [
        "#dismissal type  \n",
        "dismissal = df.groupby('dismissal_kind').count().reset_index()\n",
        "# index 0 contains Not Out, which is not dismissal, so we will take all dismissal type except Not Out\n",
        "dismissal = dismissal.loc[1:10]\n",
        "\n",
        "fig, axes = plt.subplots(figsize=(15,7))\n",
        "axes.plot(dismissal['dismissal_kind'],dismissal['id'],'r--o')\n",
        "axes.set_xlabel('dismissal_kind')\n",
        "axes.set_ylabel('no. of batsman dismissed')\n",
        "axes.set_title('Dismissal Type');"
      ]
    },
    {
      "cell_type": "markdown",
      "source": [
        "From the trend above, we can determine that most players are dismissed by fielding catching the ball, followed by being bowled from the bowler."
      ],
      "metadata": {
        "id": "O04tH4hOR0IO"
      },
      "id": "O04tH4hOR0IO"
    },
    {
      "cell_type": "markdown",
      "source": [
        "### 5. Best bowler against Virat Kohli"
      ],
      "metadata": {
        "id": "R2xQBJnI37Tk"
      },
      "id": "R2xQBJnI37Tk"
    },
    {
      "cell_type": "code",
      "source": [
        "VKohli_matches = df[df[\"batsman\"] == \"V Kohli\"]\n",
        "best_bowler_against = VKohli_matches[VKohli_matches['is_wicket'] == 1]\n",
        "\n",
        "best_bowler_against\n",
        "\n",
        "count=0\n",
        "bowler=[]\n",
        "for i in range(len(best_bowler_against)):\n",
        "    bowler.append(best_bowler_against['bowler'].iloc[i])\n",
        "\n",
        "\n",
        "lst = [(i,bowler.count(i)) for i in set(bowler)]\n",
        "\n",
        "bowler_count = pd.DataFrame(lst, columns=['bowler', 'wickets'])\n",
        "bowler_count = bowler_count.sort_values(by='wickets', ascending=False).head(5)\n",
        "\n",
        "col=['darkblue', 'orange', 'green', 'red', 'purple']\n",
        "\n",
        "fig, axes = plt.subplots(1,1, figsize=(12, 8))\n",
        "axes.bar(bowler_count['bowler'], bowler_count['wickets'], color=col)\n",
        "axes.set(ylim=[1, 10])\n",
        "axes.set_xlabel('Bowlers')\n",
        "axes.set_ylabel('V. Kohli\\'s wickets taken')"
      ],
      "metadata": {
        "id": "er_5s_LF4DXn",
        "colab": {
          "base_uri": "https://localhost:8080/",
          "height": 519
        },
        "outputId": "e4d24c1c-3c42-45f4-b820-8e28cdb4c556"
      },
      "id": "er_5s_LF4DXn",
      "execution_count": 322,
      "outputs": [
        {
          "output_type": "execute_result",
          "data": {
            "text/plain": [
              "Text(0, 0.5, \"V. Kohli's wickets taken\")"
            ]
          },
          "metadata": {},
          "execution_count": 322
        },
        {
          "output_type": "display_data",
          "data": {
            "text/plain": [
              "<Figure size 864x576 with 1 Axes>"
            ],
            "image/png": "[encoded data removed]"
          },
          "metadata": {
            "needs_background": "light"
          }
        }
      ]
    },
    {
      "cell_type": "code",
      "source": [],
      "metadata": {
        "id": "a-C5JKuDutzE"
      },
      "id": "a-C5JKuDutzE",
      "execution_count": null,
      "outputs": []
    }
  ],
  "metadata": {
    "kernelspec": {
      "display_name": "Python 3 (ipykernel)",
      "language": "python",
      "name": "python3"
    },
    "language_info": {
      "codemirror_mode": {
        "name": "ipython",
        "version": 3
      },
      "file_extension": ".py",
      "mimetype": "text/x-python",
      "name": "python",
      "nbconvert_exporter": "python",
      "pygments_lexer": "ipython3",
      "version": "3.9.7"
    },
    "vscode": {
      "interpreter": {
        "hash": "646e574d0f0abd28d90d0acc2a8a5d150f3935c6a60a5ba1256abe0f794b5742"
      }
    },
    "colab": {
      "provenance": [],
      "include_colab_link": true
    }
  },
  "nbformat": 4,
  "nbformat_minor": 5
}