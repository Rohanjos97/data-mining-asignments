{
 "cells": [
  {
   "cell_type": "markdown",
   "id": "55f63dae",
   "metadata": {},
   "source": [
    "# Dataset Analysis (1+1+2 = 4 Marks)"
   ]
  },
  {
   "cell_type": "markdown",
   "id": "77337d45",
   "metadata": {},
   "source": [
    "1. (T0) Explore the dataset assigned to your team and provide:\n",
    "\n",
    "\n"
   ]
  },
  {
   "cell_type": "code",
   "execution_count": 3,
   "id": "814c8abc",
   "metadata": {},
   "outputs": [],
   "source": [
    "# importing libraries \n",
    "import pandas as pd\n",
    "import numpy as np\n",
    "import seaborn as sns\n",
    "import matplotlib.pyplot as plt\n",
    "\n",
    "%matplotlib inline"
   ]
  },
  {
   "cell_type": "code",
   "execution_count": 4,
   "id": "88532071",
   "metadata": {},
   "outputs": [],
   "source": [
    "# read the csv data\n",
    "df= pd.read_csv(\"IPL Ball-by-Ball 2008-2020 - IPL Ball-by-Ball 2008-2020.csv\")"
   ]
  },
  {
   "cell_type": "code",
   "execution_count": 3,
   "id": "82e54d53",
   "metadata": {},
   "outputs": [
    {
     "data": {
      "text/html": [
       "<div>\n",
       "<style scoped>\n",
       "    .dataframe tbody tr th:only-of-type {\n",
       "        vertical-align: middle;\n",
       "    }\n",
       "\n",
       "    .dataframe tbody tr th {\n",
       "        vertical-align: top;\n",
       "    }\n",
       "\n",
       "    .dataframe thead th {\n",
       "        text-align: right;\n",
       "    }\n",
       "</style>\n",
       "<table border=\"1\" class=\"dataframe\">\n",
       "  <thead>\n",
       "    <tr style=\"text-align: right;\">\n",
       "      <th></th>\n",
       "      <th>id</th>\n",
       "      <th>inning</th>\n",
       "      <th>over</th>\n",
       "      <th>ball</th>\n",
       "      <th>batsman</th>\n",
       "      <th>non_striker</th>\n",
       "      <th>bowler</th>\n",
       "      <th>batsman_runs</th>\n",
       "      <th>extra_runs</th>\n",
       "      <th>total_runs</th>\n",
       "      <th>non_boundary</th>\n",
       "      <th>is_wicket</th>\n",
       "      <th>dismissal_kind</th>\n",
       "      <th>player_dismissed</th>\n",
       "      <th>fielder</th>\n",
       "      <th>extras_type</th>\n",
       "      <th>batting_team</th>\n",
       "      <th>bowling_team</th>\n",
       "    </tr>\n",
       "  </thead>\n",
       "  <tbody>\n",
       "    <tr>\n",
       "      <th>0</th>\n",
       "      <td>335982</td>\n",
       "      <td>1</td>\n",
       "      <td>6</td>\n",
       "      <td>5</td>\n",
       "      <td>RT Ponting</td>\n",
       "      <td>BB McCullum</td>\n",
       "      <td>AA Noffke</td>\n",
       "      <td>1</td>\n",
       "      <td>0</td>\n",
       "      <td>1</td>\n",
       "      <td>0</td>\n",
       "      <td>0</td>\n",
       "      <td>NaN</td>\n",
       "      <td>NaN</td>\n",
       "      <td>NaN</td>\n",
       "      <td>NaN</td>\n",
       "      <td>Kolkata Knight Riders</td>\n",
       "      <td>Royal Challengers Bangalore</td>\n",
       "    </tr>\n",
       "    <tr>\n",
       "      <th>1</th>\n",
       "      <td>335982</td>\n",
       "      <td>1</td>\n",
       "      <td>6</td>\n",
       "      <td>6</td>\n",
       "      <td>BB McCullum</td>\n",
       "      <td>RT Ponting</td>\n",
       "      <td>AA Noffke</td>\n",
       "      <td>1</td>\n",
       "      <td>0</td>\n",
       "      <td>1</td>\n",
       "      <td>0</td>\n",
       "      <td>0</td>\n",
       "      <td>NaN</td>\n",
       "      <td>NaN</td>\n",
       "      <td>NaN</td>\n",
       "      <td>NaN</td>\n",
       "      <td>Kolkata Knight Riders</td>\n",
       "      <td>Royal Challengers Bangalore</td>\n",
       "    </tr>\n",
       "    <tr>\n",
       "      <th>2</th>\n",
       "      <td>335982</td>\n",
       "      <td>1</td>\n",
       "      <td>7</td>\n",
       "      <td>1</td>\n",
       "      <td>BB McCullum</td>\n",
       "      <td>RT Ponting</td>\n",
       "      <td>Z Khan</td>\n",
       "      <td>0</td>\n",
       "      <td>0</td>\n",
       "      <td>0</td>\n",
       "      <td>0</td>\n",
       "      <td>0</td>\n",
       "      <td>NaN</td>\n",
       "      <td>NaN</td>\n",
       "      <td>NaN</td>\n",
       "      <td>NaN</td>\n",
       "      <td>Kolkata Knight Riders</td>\n",
       "      <td>Royal Challengers Bangalore</td>\n",
       "    </tr>\n",
       "    <tr>\n",
       "      <th>3</th>\n",
       "      <td>335982</td>\n",
       "      <td>1</td>\n",
       "      <td>7</td>\n",
       "      <td>2</td>\n",
       "      <td>BB McCullum</td>\n",
       "      <td>RT Ponting</td>\n",
       "      <td>Z Khan</td>\n",
       "      <td>1</td>\n",
       "      <td>0</td>\n",
       "      <td>1</td>\n",
       "      <td>0</td>\n",
       "      <td>0</td>\n",
       "      <td>NaN</td>\n",
       "      <td>NaN</td>\n",
       "      <td>NaN</td>\n",
       "      <td>NaN</td>\n",
       "      <td>Kolkata Knight Riders</td>\n",
       "      <td>Royal Challengers Bangalore</td>\n",
       "    </tr>\n",
       "    <tr>\n",
       "      <th>4</th>\n",
       "      <td>335982</td>\n",
       "      <td>1</td>\n",
       "      <td>7</td>\n",
       "      <td>3</td>\n",
       "      <td>RT Ponting</td>\n",
       "      <td>BB McCullum</td>\n",
       "      <td>Z Khan</td>\n",
       "      <td>1</td>\n",
       "      <td>0</td>\n",
       "      <td>1</td>\n",
       "      <td>0</td>\n",
       "      <td>0</td>\n",
       "      <td>NaN</td>\n",
       "      <td>NaN</td>\n",
       "      <td>NaN</td>\n",
       "      <td>NaN</td>\n",
       "      <td>Kolkata Knight Riders</td>\n",
       "      <td>Royal Challengers Bangalore</td>\n",
       "    </tr>\n",
       "  </tbody>\n",
       "</table>\n",
       "</div>"
      ],
      "text/plain": [
       "       id  inning  over  ball      batsman  non_striker     bowler  \\\n",
       "0  335982       1     6     5   RT Ponting  BB McCullum  AA Noffke   \n",
       "1  335982       1     6     6  BB McCullum   RT Ponting  AA Noffke   \n",
       "2  335982       1     7     1  BB McCullum   RT Ponting     Z Khan   \n",
       "3  335982       1     7     2  BB McCullum   RT Ponting     Z Khan   \n",
       "4  335982       1     7     3   RT Ponting  BB McCullum     Z Khan   \n",
       "\n",
       "   batsman_runs  extra_runs  total_runs  non_boundary  is_wicket  \\\n",
       "0             1           0           1             0          0   \n",
       "1             1           0           1             0          0   \n",
       "2             0           0           0             0          0   \n",
       "3             1           0           1             0          0   \n",
       "4             1           0           1             0          0   \n",
       "\n",
       "  dismissal_kind player_dismissed fielder extras_type           batting_team  \\\n",
       "0            NaN              NaN     NaN         NaN  Kolkata Knight Riders   \n",
       "1            NaN              NaN     NaN         NaN  Kolkata Knight Riders   \n",
       "2            NaN              NaN     NaN         NaN  Kolkata Knight Riders   \n",
       "3            NaN              NaN     NaN         NaN  Kolkata Knight Riders   \n",
       "4            NaN              NaN     NaN         NaN  Kolkata Knight Riders   \n",
       "\n",
       "                  bowling_team  \n",
       "0  Royal Challengers Bangalore  \n",
       "1  Royal Challengers Bangalore  \n",
       "2  Royal Challengers Bangalore  \n",
       "3  Royal Challengers Bangalore  \n",
       "4  Royal Challengers Bangalore  "
      ]
     },
     "execution_count": 3,
     "metadata": {},
     "output_type": "execute_result"
    }
   ],
   "source": [
    "# getting outline of the dataset\n",
    "df.head()"
   ]
  },
  {
   "cell_type": "markdown",
   "id": "d5668c5e",
   "metadata": {},
   "source": [
    "# a) Summary of the Dataset \n",
    "Includes information about columns, attribute types, null values(if any), and summary of each attribute."
   ]
  },
  {
   "cell_type": "markdown",
   "id": "8096af46",
   "metadata": {},
   "source": [
    "By looking at the columns of the dataset given(IPL Ball-by-Ball 2008-2020),we can clearly understand the data above and summarize it as shown below"
   ]
  },
  {
   "cell_type": "markdown",
   "id": "58a3b5e9",
   "metadata": {},
   "source": [
    "### Understanding our Dataset.\n",
    "### The dataset consists of 18 columns:\n",
    "\t\t\t\t\t\t\t\t\t\t\n",
    "- id: The match ids to uniquely identify each match.\n",
    "\n",
    "- inning: one of the divisions of a match during which one team takes its turn to bat/ball \n",
    "\n",
    "- over: A bowler delivers the ball from his end of the pitch six times to the batsman at the opposite wicket\n",
    "\n",
    "- ball: each ball bowled by bowler to complete it over\n",
    "\n",
    "- batsman :Any player who is currently batting \n",
    "\n",
    "- non_striker:Any player who is on the opposing crease and currently not batting \n",
    "\n",
    "- bowler:Person performing action of propelling the ball toward the opposing  wicket\n",
    "\n",
    "- batsman_runs: Run taken by batsmen in a particular ball\n",
    "\n",
    "- extra_runs: a run scored by, or awarded to, a batting team which is not credited to any individual batsman \n",
    "\n",
    "- total_runs : Total Runs Scored in a ball\n",
    "\n",
    "- non_boundary: To predict if there is any boundary in an over\n",
    "\n",
    "- is_wicket: Bowler taking a wicket on the ball\n",
    "\n",
    "- dismissal_kind: Kind of dismissal that make the batmen out\n",
    "\n",
    "- player_dismissed: Name of the player which is out\n",
    "\n",
    "- fielder: catch/runout taken by a fielder\n",
    "\n",
    "- extras_type: category of extra runs that are given \n",
    "\n",
    "- batting_team: The team who is batting \n",
    "\n",
    "- bowling_team: The team who is bowling "
   ]
  },
  {
   "cell_type": "markdown",
   "id": "bec9ff91",
   "metadata": {},
   "source": [
    "### We will be further looking into the below attributes\n",
    "- index\n",
    "- columns\n",
    "- dtypes\n",
    "- size\n",
    "- shape\n",
    "- ndim \n",
    "- empty\n",
    "- isnull\n"
   ]
  },
  {
   "cell_type": "code",
   "execution_count": 4,
   "id": "05d849ed",
   "metadata": {
    "scrolled": false
   },
   "outputs": [
    {
     "name": "stdout",
     "output_type": "stream",
     "text": [
      "<class 'pandas.core.frame.DataFrame'>\n",
      "RangeIndex: 193468 entries, 0 to 193467\n",
      "Data columns (total 18 columns):\n",
      " #   Column            Non-Null Count   Dtype \n",
      "---  ------            --------------   ----- \n",
      " 0   id                193468 non-null  int64 \n",
      " 1   inning            193468 non-null  int64 \n",
      " 2   over              193468 non-null  int64 \n",
      " 3   ball              193468 non-null  int64 \n",
      " 4   batsman           193468 non-null  object\n",
      " 5   non_striker       193468 non-null  object\n",
      " 6   bowler            193468 non-null  object\n",
      " 7   batsman_runs      193468 non-null  int64 \n",
      " 8   extra_runs        193468 non-null  int64 \n",
      " 9   total_runs        193468 non-null  int64 \n",
      " 10  non_boundary      193468 non-null  int64 \n",
      " 11  is_wicket         193468 non-null  int64 \n",
      " 12  dismissal_kind    9495 non-null    object\n",
      " 13  player_dismissed  9495 non-null    object\n",
      " 14  fielder           6784 non-null    object\n",
      " 15  extras_type       10233 non-null   object\n",
      " 16  batting_team      193468 non-null  object\n",
      " 17  bowling_team      193277 non-null  object\n",
      "dtypes: int64(9), object(9)\n",
      "memory usage: 26.6+ MB\n"
     ]
    }
   ],
   "source": [
    "# overview of given dataset - a concise summary of the dataframe.\n",
    "df.info()"
   ]
  },
  {
   "cell_type": "code",
   "execution_count": 5,
   "id": "5e4d89f0",
   "metadata": {},
   "outputs": [
    {
     "data": {
      "text/plain": [
       "[RangeIndex(start=0, stop=193468, step=1),\n",
       " Index(['id', 'inning', 'over', 'ball', 'batsman', 'non_striker', 'bowler',\n",
       "        'batsman_runs', 'extra_runs', 'total_runs', 'non_boundary', 'is_wicket',\n",
       "        'dismissal_kind', 'player_dismissed', 'fielder', 'extras_type',\n",
       "        'batting_team', 'bowling_team'],\n",
       "       dtype='object')]"
      ]
     },
     "execution_count": 5,
     "metadata": {},
     "output_type": "execute_result"
    }
   ],
   "source": [
    "# Range Index: total number of rows  \n",
    "# Index: name of the every column\n",
    "df.axes"
   ]
  },
  {
   "cell_type": "code",
   "execution_count": 6,
   "id": "afeaf27e",
   "metadata": {},
   "outputs": [
    {
     "data": {
      "text/plain": [
       "id                   int64\n",
       "inning               int64\n",
       "over                 int64\n",
       "ball                 int64\n",
       "batsman             object\n",
       "non_striker         object\n",
       "bowler              object\n",
       "batsman_runs         int64\n",
       "extra_runs           int64\n",
       "total_runs           int64\n",
       "non_boundary         int64\n",
       "is_wicket            int64\n",
       "dismissal_kind      object\n",
       "player_dismissed    object\n",
       "fielder             object\n",
       "extras_type         object\n",
       "batting_team        object\n",
       "bowling_team        object\n",
       "dtype: object"
      ]
     },
     "execution_count": 6,
     "metadata": {},
     "output_type": "execute_result"
    }
   ],
   "source": [
    "# datatype of each column \n",
    "df.dtypes"
   ]
  },
  {
   "cell_type": "code",
   "execution_count": 7,
   "id": "e957c507",
   "metadata": {},
   "outputs": [
    {
     "data": {
      "text/plain": [
       "3482424"
      ]
     },
     "execution_count": 7,
     "metadata": {},
     "output_type": "execute_result"
    }
   ],
   "source": [
    "# display the number of tuples present in the dataset\n",
    "df.size"
   ]
  },
  {
   "cell_type": "code",
   "execution_count": 8,
   "id": "05c99eaf",
   "metadata": {},
   "outputs": [
    {
     "data": {
      "text/plain": [
       "(193468, 18)"
      ]
     },
     "execution_count": 8,
     "metadata": {},
     "output_type": "execute_result"
    }
   ],
   "source": [
    "# display the total number of rows and columns for a particular dataframe\n",
    "df.shape"
   ]
  },
  {
   "cell_type": "code",
   "execution_count": 10,
   "id": "99e1db5b",
   "metadata": {},
   "outputs": [
    {
     "data": {
      "text/plain": [
       "2"
      ]
     },
     "execution_count": 10,
     "metadata": {},
     "output_type": "execute_result"
    }
   ],
   "source": [
    "# display the number of dimensions\n",
    "df.ndim"
   ]
  },
  {
   "cell_type": "code",
   "execution_count": 11,
   "id": "b12c5b32",
   "metadata": {},
   "outputs": [
    {
     "data": {
      "text/plain": [
       "False"
      ]
     },
     "execution_count": 11,
     "metadata": {},
     "output_type": "execute_result"
    }
   ],
   "source": [
    "# to check whether the dataframe is empty or not\n",
    "df.empty"
   ]
  },
  {
   "cell_type": "code",
   "execution_count": 13,
   "id": "1c47bf87",
   "metadata": {},
   "outputs": [
    {
     "data": {
      "text/plain": [
       "id                       0\n",
       "inning                   0\n",
       "over                     0\n",
       "ball                     0\n",
       "batsman                  0\n",
       "non_striker              0\n",
       "bowler                   0\n",
       "batsman_runs             0\n",
       "extra_runs               0\n",
       "total_runs               0\n",
       "non_boundary             0\n",
       "is_wicket                0\n",
       "dismissal_kind      183973\n",
       "player_dismissed    183973\n",
       "fielder             186684\n",
       "extras_type         183235\n",
       "batting_team             0\n",
       "bowling_team           191\n",
       "dtype: int64"
      ]
     },
     "execution_count": 13,
     "metadata": {},
     "output_type": "execute_result"
    }
   ],
   "source": [
    "# get a total count of null values present in the dataframe\n",
    "df.isnull().sum()"
   ]
  },
  {
   "cell_type": "code",
   "execution_count": 15,
   "id": "7fd08f1f",
   "metadata": {},
   "outputs": [
    {
     "data": {
      "text/plain": [
       "array(['Kolkata Knight Riders', 'Royal Challengers Bangalore',\n",
       "       'Kings XI Punjab', 'Chennai Super Kings', 'Rajasthan Royals',\n",
       "       'Delhi Capitals', 'Mumbai Indians', 'Deccan Chargers',\n",
       "       'Kochi Tuskers Kerala', 'Pune Warriors', 'Sunrisers Hyderabad',\n",
       "       'Rising Pune Supergiants', 'Gujarat Lions',\n",
       "       'Rising Pune Supergiant'], dtype=object)"
      ]
     },
     "execution_count": 15,
     "metadata": {},
     "output_type": "execute_result"
    }
   ],
   "source": [
    "# Since batting_team have non-null values let us check the teams mentioned in batting_team.\n",
    "df.batting_team.unique()"
   ]
  },
  {
   "cell_type": "markdown",
   "id": "e3f1ff14",
   "metadata": {},
   "source": [
    "On further investigation, we found out that:\n",
    "\n",
    " 1. few teams have same name but slightly modified data, eg \"Rising Pune Supergiants\" and \"Rising Pune Supergiant\" (Notice the 's' in the end of former data    which is missing in the latter one).\n",
    "\n",
    " 2. the 'bowling_team' attribute have some null values that needs to be taken care of.\n",
    "\n",
    "These insights will be helpful in data pre-processing\n",
    ".\n"
   ]
  },
  {
   "cell_type": "markdown",
   "id": "e8443d2b",
   "metadata": {},
   "source": [
    "### Using pandas-profiling report"
   ]
  },
  {
   "cell_type": "code",
   "execution_count": 16,
   "id": "3ac7f900",
   "metadata": {},
   "outputs": [
    {
     "ename": "ModuleNotFoundError",
     "evalue": "No module named 'pandas_profiling'",
     "output_type": "error",
     "traceback": [
      "\u001b[1;31m---------------------------------------------------------------------------\u001b[0m",
      "\u001b[1;31mModuleNotFoundError\u001b[0m                       Traceback (most recent call last)",
      "\u001b[1;32mc:\\Users\\rohan\\OneDrive\\Documents\\Github\\data-mining-asignments\\IT496_Introduction_to Data_Mining _Lab Assignment_01.ipynb Cell 21\u001b[0m in \u001b[0;36m<cell line: 2>\u001b[1;34m()\u001b[0m\n\u001b[0;32m      <a href='vscode-notebook-cell:/c%3A/Users/rohan/OneDrive/Documents/Github/data-mining-asignments/IT496_Introduction_to%20Data_Mining%20_Lab%20Assignment_01.ipynb#X25sZmlsZQ%3D%3D?line=0'>1</a>\u001b[0m \u001b[39m# importing pandas-profiling library to use the in-built feature of pandas to genearete report\u001b[39;00m\n\u001b[1;32m----> <a href='vscode-notebook-cell:/c%3A/Users/rohan/OneDrive/Documents/Github/data-mining-asignments/IT496_Introduction_to%20Data_Mining%20_Lab%20Assignment_01.ipynb#X25sZmlsZQ%3D%3D?line=1'>2</a>\u001b[0m \u001b[39mfrom\u001b[39;00m \u001b[39mpandas_profiling\u001b[39;00m \u001b[39mimport\u001b[39;00m ProfileReport\n\u001b[0;32m      <a href='vscode-notebook-cell:/c%3A/Users/rohan/OneDrive/Documents/Github/data-mining-asignments/IT496_Introduction_to%20Data_Mining%20_Lab%20Assignment_01.ipynb#X25sZmlsZQ%3D%3D?line=2'>3</a>\u001b[0m profile \u001b[39m=\u001b[39m ProfileReport(df)\n\u001b[0;32m      <a href='vscode-notebook-cell:/c%3A/Users/rohan/OneDrive/Documents/Github/data-mining-asignments/IT496_Introduction_to%20Data_Mining%20_Lab%20Assignment_01.ipynb#X25sZmlsZQ%3D%3D?line=3'>4</a>\u001b[0m profile\n",
      "\u001b[1;31mModuleNotFoundError\u001b[0m: No module named 'pandas_profiling'"
     ]
    }
   ],
   "source": [
    "# importing pandas-profiling library to use the in-built feature of pandas to genearete report\n",
    "from pandas_profiling import ProfileReport\n",
    "profile = ProfileReport(df)\n",
    "profile"
   ]
  },
  {
   "cell_type": "markdown",
   "id": "9b38ac06",
   "metadata": {},
   "source": [
    "### Data Pre-Processing and Cleaning"
   ]
  },
  {
   "cell_type": "markdown",
   "id": "323832c6",
   "metadata": {},
   "source": [
    "Before moving any further, lets have a look at our data to be pre-processed. As discussed in Data Summary section,  we will use pre-processing technique(s) to find the actual unique teams.\n"
   ]
  },
  {
   "cell_type": "code",
   "execution_count": 7,
   "id": "ac1bf6b2",
   "metadata": {},
   "outputs": [
    {
     "data": {
      "text/plain": [
       "array(['Kolkata Knight Riders', 'Royal Challengers Bangalore',\n",
       "       'Kings XI Punjab', 'Chennai Super Kings', 'Rajasthan Royals',\n",
       "       'Delhi Daredevils', 'Mumbai Indians', 'Deccan Chargers',\n",
       "       'Kochi Tuskers Kerala', 'Pune Warriors', 'Sunrisers Hyderabad',\n",
       "       'Rising Pune Supergiants', 'Gujarat Lions',\n",
       "       'Rising Pune Supergiant', 'Delhi Capitals'], dtype=object)"
      ]
     },
     "execution_count": 7,
     "metadata": {},
     "output_type": "execute_result"
    }
   ],
   "source": [
    "df.batting_team.unique()"
   ]
  },
  {
   "cell_type": "markdown",
   "id": "84e3eeae",
   "metadata": {},
   "source": [
    "\n",
    "**Step 1.1**: 'Delhi Capitals' and 'Delhi Daredevils' is the same team since both of them represent Delhi."
   ]
  },
  {
   "cell_type": "code",
   "execution_count": 13,
   "id": "5ecfe789",
   "metadata": {},
   "outputs": [
    {
     "data": {
      "text/plain": [
       "array(['Kolkata Knight Riders', 'Royal Challengers Bangalore',\n",
       "       'Kings XI Punjab', 'Chennai Super Kings', 'Rajasthan Royals',\n",
       "       'Delhi Capitals', 'Mumbai Indians', 'Deccan Chargers',\n",
       "       'Kochi Tuskers Kerala', 'Pune Warriors', 'Sunrisers Hyderabad',\n",
       "       'Rising Pune Supergiants', 'Gujarat Lions',\n",
       "       'Rising Pune Supergiant'], dtype=object)"
      ]
     },
     "execution_count": 13,
     "metadata": {},
     "output_type": "execute_result"
    }
   ],
   "source": [
    "df =df.replace(['Delhi Daredevils'],'Delhi Capitals')\n",
    "df.batting_team.unique()"
   ]
  },
  {
   "cell_type": "markdown",
   "id": "0f2f0ad4",
   "metadata": {},
   "source": [
    "**Step 1.2**: Removing the old teams like 'Deccan Chargers', 'Kochi Tuskers Kerala', 'Pune Warriors' , 'Rising Pune Supergiants'\n",
    "\n",
    "###### **WE KNOW 'RISING PUNE SUPERGIANTS' PLAYED FOR ONLY 1 SEASON; OTHER TEAMS DON'T PLAY ANYMORE. SO DUE TO DATA INSUFFUCIENCY WE DON'T NEED THESE TEAMS FOR OUR ANALYSIS**"
   ]
  },
  {
   "cell_type": "code",
   "execution_count": 12,
   "id": "0dde4e66",
   "metadata": {},
   "outputs": [],
   "source": [
    "required_team=['Kolkata Knight Riders', 'Royal Challengers Bangalore',\n",
    "       'Kings XI Punjab', 'Chennai Super Kings', 'Rajasthan Royals',\n",
    "       'Delhi Capitals', 'Mumbai Indians', 'Sunrisers Hyderabad',\n",
    "        'Gujarat Lions']"
   ]
  },
  {
   "cell_type": "code",
   "execution_count": 17,
   "id": "cfb64d5e",
   "metadata": {},
   "outputs": [],
   "source": [
    "# extracting only the required teams according to pre-processed data\n",
    "df = df[(df['batting_team'].isin(required_team)) & (df['bowling_team'].isin(required_team))]"
   ]
  },
  {
   "cell_type": "markdown",
   "id": "e90b4d52",
   "metadata": {},
   "source": [
    "**Step 2**: After removing the old teams & teams that do not play anymore, it also solved our problem of null value present in bowling team"
   ]
  },
  {
   "cell_type": "code",
   "execution_count": 18,
   "id": "1dcf890c",
   "metadata": {},
   "outputs": [
    {
     "data": {
      "text/plain": [
       "id                   0.000000\n",
       "inning               0.000000\n",
       "over                 0.000000\n",
       "ball                 0.000000\n",
       "batsman              0.000000\n",
       "non_striker          0.000000\n",
       "bowler               0.000000\n",
       "batsman_runs         0.000000\n",
       "extra_runs           0.000000\n",
       "total_runs           0.000000\n",
       "non_boundary         0.000000\n",
       "is_wicket            0.000000\n",
       "dismissal_kind      95.121246\n",
       "player_dismissed    95.121246\n",
       "fielder             96.522980\n",
       "extras_type         94.702847\n",
       "batting_team         0.000000\n",
       "bowling_team         0.000000\n",
       "dtype: float64"
      ]
     },
     "execution_count": 18,
     "metadata": {},
     "output_type": "execute_result"
    }
   ],
   "source": [
    "# lets analyse the percentage of the values that are empty\n",
    "df.isnull().mean()*100"
   ]
  },
  {
   "cell_type": "markdown",
   "id": "9dcd8ea0",
   "metadata": {},
   "source": [
    "**Step 3**: We might require 'player_dismissed' and 'dismissal_kind' to predict the strategy to bowl against the batsman. We will be filling the \"NA\" values as \"Not Out\" in our case. We could have considered replacing it with 0, but the data is already being stored in string format. So, to make the data more readable, we are not using 0 to indicate 'Not Out\" so as to increate the readability of users."
   ]
  },
  {
   "cell_type": "code",
   "execution_count": 19,
   "id": "0dafe0a8",
   "metadata": {},
   "outputs": [],
   "source": [
    "df['dismissal_kind'].fillna(value =\"Not Out\",inplace=True)\n",
    "df['player_dismissed'].fillna(value =\"Not Out\",inplace=True)"
   ]
  },
  {
   "cell_type": "markdown",
   "id": "5349fadc",
   "metadata": {},
   "source": [
    "**Step 4**: We are droping column \"extras_type\" and \"fielder\" as it will not affect our analysis "
   ]
  },
  {
   "cell_type": "code",
   "execution_count": 20,
   "id": "0f3d1fa4",
   "metadata": {},
   "outputs": [],
   "source": [
    "df.drop(['extras_type','fielder'],axis=1,inplace=True)"
   ]
  },
  {
   "cell_type": "markdown",
   "id": "c967c0f3",
   "metadata": {},
   "source": [
    "After completing the Data Pre-Processing tasks, our data looks like this"
   ]
  },
  {
   "cell_type": "code",
   "execution_count": 21,
   "id": "65c6287c",
   "metadata": {},
   "outputs": [
    {
     "data": {
      "text/plain": [
       "id                  0\n",
       "inning              0\n",
       "over                0\n",
       "ball                0\n",
       "batsman             0\n",
       "non_striker         0\n",
       "bowler              0\n",
       "batsman_runs        0\n",
       "extra_runs          0\n",
       "total_runs          0\n",
       "non_boundary        0\n",
       "is_wicket           0\n",
       "dismissal_kind      0\n",
       "player_dismissed    0\n",
       "batting_team        0\n",
       "bowling_team        0\n",
       "dtype: int64"
      ]
     },
     "execution_count": 21,
     "metadata": {},
     "output_type": "execute_result"
    }
   ],
   "source": [
    "df.isnull().sum()"
   ]
  },
  {
   "cell_type": "markdown",
   "id": "f663e6f7",
   "metadata": {},
   "source": [
    "We successfully removed all the non-null values and now we are ready to process this data"
   ]
  },
  {
   "cell_type": "markdown",
   "id": "72e54e9d",
   "metadata": {},
   "source": [
    "### Summary statistics"
   ]
  },
  {
   "cell_type": "code",
   "execution_count": 284,
   "id": "73b929e2",
   "metadata": {},
   "outputs": [
    {
     "name": "stderr",
     "output_type": "stream",
     "text": [
      "C:\\Users\\yahoo\\AppData\\Local\\Temp/ipykernel_34964/2164466085.py:1: FutureWarning: Indexing with multiple keys (implicitly converted to a tuple of keys) will be deprecated, use a list instead.\n",
      "  runs = df.groupby(['batsman'])['batsman_runs','inning'].sum().reset_index()\n"
     ]
    },
    {
     "data": {
      "text/html": [
       "<div>\n",
       "<style scoped>\n",
       "    .dataframe tbody tr th:only-of-type {\n",
       "        vertical-align: middle;\n",
       "    }\n",
       "\n",
       "    .dataframe tbody tr th {\n",
       "        vertical-align: top;\n",
       "    }\n",
       "\n",
       "    .dataframe thead th {\n",
       "        text-align: right;\n",
       "    }\n",
       "</style>\n",
       "<table border=\"1\" class=\"dataframe\">\n",
       "  <thead>\n",
       "    <tr style=\"text-align: right;\">\n",
       "      <th></th>\n",
       "      <th>batsman</th>\n",
       "      <th>batsman_runs</th>\n",
       "      <th>inning</th>\n",
       "      <th>strike_rate</th>\n",
       "    </tr>\n",
       "  </thead>\n",
       "  <tbody>\n",
       "    <tr>\n",
       "      <th>0</th>\n",
       "      <td>V Kohli</td>\n",
       "      <td>5878</td>\n",
       "      <td>6738</td>\n",
       "      <td>101.083032</td>\n",
       "    </tr>\n",
       "    <tr>\n",
       "      <th>1</th>\n",
       "      <td>SK Raina</td>\n",
       "      <td>5368</td>\n",
       "      <td>5746</td>\n",
       "      <td>57.142857</td>\n",
       "    </tr>\n",
       "    <tr>\n",
       "      <th>2</th>\n",
       "      <td>DA Warner</td>\n",
       "      <td>5254</td>\n",
       "      <td>5569</td>\n",
       "      <td>67.948718</td>\n",
       "    </tr>\n",
       "    <tr>\n",
       "      <th>3</th>\n",
       "      <td>RG Sharma</td>\n",
       "      <td>5230</td>\n",
       "      <td>5906</td>\n",
       "      <td>89.285714</td>\n",
       "    </tr>\n",
       "    <tr>\n",
       "      <th>4</th>\n",
       "      <td>S Dhawan</td>\n",
       "      <td>5197</td>\n",
       "      <td>5926</td>\n",
       "      <td>80.000000</td>\n",
       "    </tr>\n",
       "    <tr>\n",
       "      <th>5</th>\n",
       "      <td>AB de Villiers</td>\n",
       "      <td>4849</td>\n",
       "      <td>4661</td>\n",
       "      <td>62.000000</td>\n",
       "    </tr>\n",
       "    <tr>\n",
       "      <th>6</th>\n",
       "      <td>CH Gayle</td>\n",
       "      <td>4772</td>\n",
       "      <td>4847</td>\n",
       "      <td>42.682927</td>\n",
       "    </tr>\n",
       "    <tr>\n",
       "      <th>7</th>\n",
       "      <td>MS Dhoni</td>\n",
       "      <td>4632</td>\n",
       "      <td>5029</td>\n",
       "      <td>56.211180</td>\n",
       "    </tr>\n",
       "    <tr>\n",
       "      <th>8</th>\n",
       "      <td>RV Uthappa</td>\n",
       "      <td>4607</td>\n",
       "      <td>5741</td>\n",
       "      <td>72.340426</td>\n",
       "    </tr>\n",
       "    <tr>\n",
       "      <th>9</th>\n",
       "      <td>G Gambhir</td>\n",
       "      <td>4217</td>\n",
       "      <td>5640</td>\n",
       "      <td>79.166667</td>\n",
       "    </tr>\n",
       "  </tbody>\n",
       "</table>\n",
       "</div>"
      ],
      "text/plain": [
       "          batsman  batsman_runs  inning  strike_rate\n",
       "0         V Kohli          5878    6738   101.083032\n",
       "1        SK Raina          5368    5746    57.142857\n",
       "2       DA Warner          5254    5569    67.948718\n",
       "3       RG Sharma          5230    5906    89.285714\n",
       "4        S Dhawan          5197    5926    80.000000\n",
       "5  AB de Villiers          4849    4661    62.000000\n",
       "6        CH Gayle          4772    4847    42.682927\n",
       "7        MS Dhoni          4632    5029    56.211180\n",
       "8      RV Uthappa          4607    5741    72.340426\n",
       "9       G Gambhir          4217    5640    79.166667"
      ]
     },
     "execution_count": 284,
     "metadata": {},
     "output_type": "execute_result"
    }
   ],
   "source": [
    "runs = df.groupby(['batsman'])['batsman_runs','inning'].sum().reset_index()\n",
    "sorted_players=runs.sort_values(by ='batsman_runs',ascending =False).head(10).reset_index().drop('index',axis=1)\n",
    "sorted_players['strike_rate'] = runs['batsman_runs']/runs['inning']*100\n",
    "sorted_players[['batsman','batsman_runs','inning','strike_rate']]"
   ]
  },
  {
   "cell_type": "code",
   "execution_count": 256,
   "id": "b37608a3",
   "metadata": {},
   "outputs": [
    {
     "data": {
      "text/html": [
       "<div>\n",
       "<style scoped>\n",
       "    .dataframe tbody tr th:only-of-type {\n",
       "        vertical-align: middle;\n",
       "    }\n",
       "\n",
       "    .dataframe tbody tr th {\n",
       "        vertical-align: top;\n",
       "    }\n",
       "\n",
       "    .dataframe thead th {\n",
       "        text-align: right;\n",
       "    }\n",
       "</style>\n",
       "<table border=\"1\" class=\"dataframe\">\n",
       "  <thead>\n",
       "    <tr style=\"text-align: right;\">\n",
       "      <th></th>\n",
       "      <th>batsman</th>\n",
       "      <th>batsman_runs</th>\n",
       "    </tr>\n",
       "  </thead>\n",
       "  <tbody>\n",
       "    <tr>\n",
       "      <th>0</th>\n",
       "      <td>CH Gayle</td>\n",
       "      <td>349</td>\n",
       "    </tr>\n",
       "    <tr>\n",
       "      <th>1</th>\n",
       "      <td>AB de Villiers</td>\n",
       "      <td>235</td>\n",
       "    </tr>\n",
       "    <tr>\n",
       "      <th>2</th>\n",
       "      <td>MS Dhoni</td>\n",
       "      <td>216</td>\n",
       "    </tr>\n",
       "    <tr>\n",
       "      <th>3</th>\n",
       "      <td>RG Sharma</td>\n",
       "      <td>214</td>\n",
       "    </tr>\n",
       "    <tr>\n",
       "      <th>4</th>\n",
       "      <td>V Kohli</td>\n",
       "      <td>202</td>\n",
       "    </tr>\n",
       "    <tr>\n",
       "      <th>5</th>\n",
       "      <td>KA Pollard</td>\n",
       "      <td>198</td>\n",
       "    </tr>\n",
       "    <tr>\n",
       "      <th>6</th>\n",
       "      <td>DA Warner</td>\n",
       "      <td>195</td>\n",
       "    </tr>\n",
       "    <tr>\n",
       "      <th>7</th>\n",
       "      <td>SK Raina</td>\n",
       "      <td>194</td>\n",
       "    </tr>\n",
       "    <tr>\n",
       "      <th>8</th>\n",
       "      <td>SR Watson</td>\n",
       "      <td>190</td>\n",
       "    </tr>\n",
       "    <tr>\n",
       "      <th>9</th>\n",
       "      <td>RV Uthappa</td>\n",
       "      <td>163</td>\n",
       "    </tr>\n",
       "  </tbody>\n",
       "</table>\n",
       "</div>"
      ],
      "text/plain": [
       "          batsman  batsman_runs\n",
       "0        CH Gayle           349\n",
       "1  AB de Villiers           235\n",
       "2        MS Dhoni           216\n",
       "3       RG Sharma           214\n",
       "4         V Kohli           202\n",
       "5      KA Pollard           198\n",
       "6       DA Warner           195\n",
       "7        SK Raina           194\n",
       "8       SR Watson           190\n",
       "9      RV Uthappa           163"
      ]
     },
     "execution_count": 256,
     "metadata": {},
     "output_type": "execute_result"
    }
   ],
   "source": [
    "six=df.groupby('batsman')['batsman_runs'].agg(lambda x: (x==6).sum()).reset_index()\n",
    "six.sort_values(by='batsman_runs',ascending =False).head(10).reset_index().drop('index',axis=1)"
   ]
  },
  {
   "cell_type": "code",
   "execution_count": 257,
   "id": "8a8c13b3",
   "metadata": {},
   "outputs": [
    {
     "data": {
      "text/html": [
       "<div>\n",
       "<style scoped>\n",
       "    .dataframe tbody tr th:only-of-type {\n",
       "        vertical-align: middle;\n",
       "    }\n",
       "\n",
       "    .dataframe tbody tr th {\n",
       "        vertical-align: top;\n",
       "    }\n",
       "\n",
       "    .dataframe thead th {\n",
       "        text-align: right;\n",
       "    }\n",
       "</style>\n",
       "<table border=\"1\" class=\"dataframe\">\n",
       "  <thead>\n",
       "    <tr style=\"text-align: right;\">\n",
       "      <th></th>\n",
       "      <th>batsman</th>\n",
       "      <th>batsman_runs</th>\n",
       "    </tr>\n",
       "  </thead>\n",
       "  <tbody>\n",
       "    <tr>\n",
       "      <th>0</th>\n",
       "      <td>S Dhawan</td>\n",
       "      <td>591</td>\n",
       "    </tr>\n",
       "    <tr>\n",
       "      <th>1</th>\n",
       "      <td>DA Warner</td>\n",
       "      <td>510</td>\n",
       "    </tr>\n",
       "    <tr>\n",
       "      <th>2</th>\n",
       "      <td>V Kohli</td>\n",
       "      <td>504</td>\n",
       "    </tr>\n",
       "    <tr>\n",
       "      <th>3</th>\n",
       "      <td>SK Raina</td>\n",
       "      <td>493</td>\n",
       "    </tr>\n",
       "    <tr>\n",
       "      <th>4</th>\n",
       "      <td>G Gambhir</td>\n",
       "      <td>492</td>\n",
       "    </tr>\n",
       "    <tr>\n",
       "      <th>5</th>\n",
       "      <td>RG Sharma</td>\n",
       "      <td>458</td>\n",
       "    </tr>\n",
       "    <tr>\n",
       "      <th>6</th>\n",
       "      <td>RV Uthappa</td>\n",
       "      <td>454</td>\n",
       "    </tr>\n",
       "    <tr>\n",
       "      <th>7</th>\n",
       "      <td>AM Rahane</td>\n",
       "      <td>416</td>\n",
       "    </tr>\n",
       "    <tr>\n",
       "      <th>8</th>\n",
       "      <td>AB de Villiers</td>\n",
       "      <td>390</td>\n",
       "    </tr>\n",
       "    <tr>\n",
       "      <th>9</th>\n",
       "      <td>CH Gayle</td>\n",
       "      <td>384</td>\n",
       "    </tr>\n",
       "  </tbody>\n",
       "</table>\n",
       "</div>"
      ],
      "text/plain": [
       "          batsman  batsman_runs\n",
       "0        S Dhawan           591\n",
       "1       DA Warner           510\n",
       "2         V Kohli           504\n",
       "3        SK Raina           493\n",
       "4       G Gambhir           492\n",
       "5       RG Sharma           458\n",
       "6      RV Uthappa           454\n",
       "7       AM Rahane           416\n",
       "8  AB de Villiers           390\n",
       "9        CH Gayle           384"
      ]
     },
     "execution_count": 257,
     "metadata": {},
     "output_type": "execute_result"
    }
   ],
   "source": [
    "four=df.groupby('batsman')['batsman_runs'].agg(lambda x: (x==4).sum()).reset_index()\n",
    "four.sort_values(by='batsman_runs',ascending =False).head(10).reset_index().drop('index',axis=1)"
   ]
  },
  {
   "cell_type": "code",
   "execution_count": 272,
   "id": "c965538d",
   "metadata": {},
   "outputs": [
    {
     "name": "stderr",
     "output_type": "stream",
     "text": [
      "C:\\Users\\yahoo\\AppData\\Local\\Temp/ipykernel_34964/1953351429.py:1: FutureWarning: Indexing with multiple keys (implicitly converted to a tuple of keys) will be deprecated, use a list instead.\n",
      "  wicket = df.groupby(['bowler'])['is_wicket','inning','over','batsman_runs'].sum().reset_index()\n"
     ]
    },
    {
     "data": {
      "text/html": [
       "<div>\n",
       "<style scoped>\n",
       "    .dataframe tbody tr th:only-of-type {\n",
       "        vertical-align: middle;\n",
       "    }\n",
       "\n",
       "    .dataframe tbody tr th {\n",
       "        vertical-align: top;\n",
       "    }\n",
       "\n",
       "    .dataframe thead th {\n",
       "        text-align: right;\n",
       "    }\n",
       "</style>\n",
       "<table border=\"1\" class=\"dataframe\">\n",
       "  <thead>\n",
       "    <tr style=\"text-align: right;\">\n",
       "      <th></th>\n",
       "      <th>bowler</th>\n",
       "      <th>is_wicket</th>\n",
       "      <th>inning</th>\n",
       "      <th>over</th>\n",
       "      <th>batsman_runs</th>\n",
       "    </tr>\n",
       "  </thead>\n",
       "  <tbody>\n",
       "    <tr>\n",
       "      <th>0</th>\n",
       "      <td>Z Khan</td>\n",
       "      <td>119</td>\n",
       "      <td>3312</td>\n",
       "      <td>16690</td>\n",
       "      <td>2691</td>\n",
       "    </tr>\n",
       "    <tr>\n",
       "      <th>1</th>\n",
       "      <td>Yuvraj Singh</td>\n",
       "      <td>39</td>\n",
       "      <td>1316</td>\n",
       "      <td>9637</td>\n",
       "      <td>1064</td>\n",
       "    </tr>\n",
       "    <tr>\n",
       "      <th>2</th>\n",
       "      <td>YS Chahal</td>\n",
       "      <td>124</td>\n",
       "      <td>3353</td>\n",
       "      <td>20999</td>\n",
       "      <td>2649</td>\n",
       "    </tr>\n",
       "    <tr>\n",
       "      <th>3</th>\n",
       "      <td>YK Pathan</td>\n",
       "      <td>46</td>\n",
       "      <td>1681</td>\n",
       "      <td>9483</td>\n",
       "      <td>1372</td>\n",
       "    </tr>\n",
       "    <tr>\n",
       "      <th>4</th>\n",
       "      <td>YA Abdulla</td>\n",
       "      <td>15</td>\n",
       "      <td>337</td>\n",
       "      <td>2085</td>\n",
       "      <td>294</td>\n",
       "    </tr>\n",
       "    <tr>\n",
       "      <th>5</th>\n",
       "      <td>Y Venugopal Rao</td>\n",
       "      <td>7</td>\n",
       "      <td>314</td>\n",
       "      <td>2109</td>\n",
       "      <td>329</td>\n",
       "    </tr>\n",
       "    <tr>\n",
       "      <th>6</th>\n",
       "      <td>Y Prithvi Raj</td>\n",
       "      <td>1</td>\n",
       "      <td>66</td>\n",
       "      <td>238</td>\n",
       "      <td>54</td>\n",
       "    </tr>\n",
       "    <tr>\n",
       "      <th>7</th>\n",
       "      <td>Y Nagar</td>\n",
       "      <td>4</td>\n",
       "      <td>104</td>\n",
       "      <td>768</td>\n",
       "      <td>117</td>\n",
       "    </tr>\n",
       "    <tr>\n",
       "      <th>8</th>\n",
       "      <td>Y Gnaneswara Rao</td>\n",
       "      <td>0</td>\n",
       "      <td>6</td>\n",
       "      <td>60</td>\n",
       "      <td>7</td>\n",
       "    </tr>\n",
       "    <tr>\n",
       "      <th>9</th>\n",
       "      <td>Washington Sundar</td>\n",
       "      <td>26</td>\n",
       "      <td>1005</td>\n",
       "      <td>4555</td>\n",
       "      <td>739</td>\n",
       "    </tr>\n",
       "  </tbody>\n",
       "</table>\n",
       "</div>"
      ],
      "text/plain": [
       "              bowler  is_wicket  inning   over  batsman_runs\n",
       "0             Z Khan        119    3312  16690          2691\n",
       "1       Yuvraj Singh         39    1316   9637          1064\n",
       "2          YS Chahal        124    3353  20999          2649\n",
       "3          YK Pathan         46    1681   9483          1372\n",
       "4         YA Abdulla         15     337   2085           294\n",
       "5    Y Venugopal Rao          7     314   2109           329\n",
       "6      Y Prithvi Raj          1      66    238            54\n",
       "7            Y Nagar          4     104    768           117\n",
       "8   Y Gnaneswara Rao          0       6     60             7\n",
       "9  Washington Sundar         26    1005   4555           739"
      ]
     },
     "execution_count": 272,
     "metadata": {},
     "output_type": "execute_result"
    }
   ],
   "source": [
    "wicket = df.groupby(['bowler'])['is_wicket','inning','over','batsman_runs'].sum().reset_index()\n",
    "sortedbowl_players=wicket.sort_values(by ='bowler',ascending =False).head(10).reset_index().drop('index',axis=1)\n",
    "sortedbowl_players"
   ]
  },
  {
   "cell_type": "code",
   "execution_count": 285,
   "id": "621587fc",
   "metadata": {},
   "outputs": [
    {
     "data": {
      "text/html": [
       "<div>\n",
       "<style scoped>\n",
       "    .dataframe tbody tr th:only-of-type {\n",
       "        vertical-align: middle;\n",
       "    }\n",
       "\n",
       "    .dataframe tbody tr th {\n",
       "        vertical-align: top;\n",
       "    }\n",
       "\n",
       "    .dataframe thead th {\n",
       "        text-align: right;\n",
       "    }\n",
       "</style>\n",
       "<table border=\"1\" class=\"dataframe\">\n",
       "  <thead>\n",
       "    <tr style=\"text-align: right;\">\n",
       "      <th></th>\n",
       "      <th>bowler</th>\n",
       "      <th>is_wicket</th>\n",
       "      <th>inning</th>\n",
       "      <th>over</th>\n",
       "      <th>batsman_runs</th>\n",
       "      <th>economy</th>\n",
       "    </tr>\n",
       "  </thead>\n",
       "  <tbody>\n",
       "    <tr>\n",
       "      <th>0</th>\n",
       "      <td>Z Khan</td>\n",
       "      <td>119</td>\n",
       "      <td>3312</td>\n",
       "      <td>16690</td>\n",
       "      <td>2691</td>\n",
       "      <td>0.109194</td>\n",
       "    </tr>\n",
       "    <tr>\n",
       "      <th>1</th>\n",
       "      <td>Yuvraj Singh</td>\n",
       "      <td>39</td>\n",
       "      <td>1316</td>\n",
       "      <td>9637</td>\n",
       "      <td>1064</td>\n",
       "      <td>0.224074</td>\n",
       "    </tr>\n",
       "    <tr>\n",
       "      <th>2</th>\n",
       "      <td>YS Chahal</td>\n",
       "      <td>124</td>\n",
       "      <td>3353</td>\n",
       "      <td>20999</td>\n",
       "      <td>2649</td>\n",
       "      <td>0.153244</td>\n",
       "    </tr>\n",
       "    <tr>\n",
       "      <th>3</th>\n",
       "      <td>YK Pathan</td>\n",
       "      <td>46</td>\n",
       "      <td>1681</td>\n",
       "      <td>9483</td>\n",
       "      <td>1372</td>\n",
       "      <td>0.230000</td>\n",
       "    </tr>\n",
       "    <tr>\n",
       "      <th>4</th>\n",
       "      <td>YA Abdulla</td>\n",
       "      <td>15</td>\n",
       "      <td>337</td>\n",
       "      <td>2085</td>\n",
       "      <td>294</td>\n",
       "      <td>0.134615</td>\n",
       "    </tr>\n",
       "    <tr>\n",
       "      <th>5</th>\n",
       "      <td>Y Venugopal Rao</td>\n",
       "      <td>7</td>\n",
       "      <td>314</td>\n",
       "      <td>2109</td>\n",
       "      <td>329</td>\n",
       "      <td>0.106029</td>\n",
       "    </tr>\n",
       "    <tr>\n",
       "      <th>6</th>\n",
       "      <td>Y Prithvi Raj</td>\n",
       "      <td>1</td>\n",
       "      <td>66</td>\n",
       "      <td>238</td>\n",
       "      <td>54</td>\n",
       "      <td>0.112324</td>\n",
       "    </tr>\n",
       "    <tr>\n",
       "      <th>7</th>\n",
       "      <td>Y Nagar</td>\n",
       "      <td>4</td>\n",
       "      <td>104</td>\n",
       "      <td>768</td>\n",
       "      <td>117</td>\n",
       "      <td>0.136794</td>\n",
       "    </tr>\n",
       "    <tr>\n",
       "      <th>8</th>\n",
       "      <td>Y Gnaneswara Rao</td>\n",
       "      <td>0</td>\n",
       "      <td>6</td>\n",
       "      <td>60</td>\n",
       "      <td>7</td>\n",
       "      <td>0.159175</td>\n",
       "    </tr>\n",
       "    <tr>\n",
       "      <th>9</th>\n",
       "      <td>Washington Sundar</td>\n",
       "      <td>26</td>\n",
       "      <td>1005</td>\n",
       "      <td>4555</td>\n",
       "      <td>739</td>\n",
       "      <td>0.184524</td>\n",
       "    </tr>\n",
       "  </tbody>\n",
       "</table>\n",
       "</div>"
      ],
      "text/plain": [
       "              bowler  is_wicket  inning   over  batsman_runs   economy\n",
       "0             Z Khan        119    3312  16690          2691  0.109194\n",
       "1       Yuvraj Singh         39    1316   9637          1064  0.224074\n",
       "2          YS Chahal        124    3353  20999          2649  0.153244\n",
       "3          YK Pathan         46    1681   9483          1372  0.230000\n",
       "4         YA Abdulla         15     337   2085           294  0.134615\n",
       "5    Y Venugopal Rao          7     314   2109           329  0.106029\n",
       "6      Y Prithvi Raj          1      66    238            54  0.112324\n",
       "7            Y Nagar          4     104    768           117  0.136794\n",
       "8   Y Gnaneswara Rao          0       6     60             7  0.159175\n",
       "9  Washington Sundar         26    1005   4555           739  0.184524"
      ]
     },
     "execution_count": 285,
     "metadata": {},
     "output_type": "execute_result"
    }
   ],
   "source": [
    "sortedbowl_players['economy'] = wicket['batsman_runs']/wicket['over']\n",
    "sortedbowl_players"
   ]
  },
  {
   "cell_type": "code",
   "execution_count": null,
   "id": "b147f5af",
   "metadata": {},
   "outputs": [],
   "source": []
  },
  {
   "cell_type": "code",
   "execution_count": null,
   "id": "ed98aa72",
   "metadata": {},
   "outputs": [],
   "source": []
  },
  {
   "cell_type": "code",
   "execution_count": null,
   "id": "1252ea09",
   "metadata": {},
   "outputs": [],
   "source": []
  }
 ],
 "metadata": {
  "kernelspec": {
   "display_name": "Python 3.10.6 64-bit (windows store)",
   "language": "python",
   "name": "python3"
  },
  "language_info": {
   "codemirror_mode": {
    "name": "ipython",
    "version": 3
   },
   "file_extension": ".py",
   "mimetype": "text/x-python",
   "name": "python",
   "nbconvert_exporter": "python",
   "pygments_lexer": "ipython3",
   "version": "3.10.6"
  },
  "vscode": {
   "interpreter": {
    "hash": "646e574d0f0abd28d90d0acc2a8a5d150f3935c6a60a5ba1256abe0f794b5742"
   }
  }
 },
 "nbformat": 4,
 "nbformat_minor": 5
}
