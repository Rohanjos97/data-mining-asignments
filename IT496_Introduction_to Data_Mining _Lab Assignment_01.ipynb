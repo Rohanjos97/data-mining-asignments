{
 "cells": [
  {
   "cell_type": "markdown",
   "id": "55f63dae",
   "metadata": {},
   "source": [
    "# Dataset Analysis (1+1+2 = 4 Marks)"
   ]
  },
  {
   "cell_type": "markdown",
   "id": "77337d45",
   "metadata": {},
   "source": [
    "1. (T0) Explore the dataset assigned to your team and provide:\n",
    "\n",
    "\n"
   ]
  },
  {
   "cell_type": "code",
   "execution_count": 1,
   "id": "814c8abc",
   "metadata": {},
   "outputs": [],
   "source": [
    "# importing libraries \n",
    "import pandas as pd\n",
    "import numpy as np\n",
    "import seaborn as sns\n",
    "import matplotlib.pyplot as plt\n",
    "\n",
    "%matplotlib inline"
   ]
  },
  {
   "cell_type": "code",
   "execution_count": 2,
   "id": "88532071",
   "metadata": {},
   "outputs": [],
   "source": [
    "# read the csv data\n",
    "df= pd.read_csv(\"IPL Ball-by-Ball 2008-2020 - IPL Ball-by-Ball 2008-2020.csv\")"
   ]
  },
  {
   "cell_type": "code",
   "execution_count": 3,
   "id": "82e54d53",
   "metadata": {},
   "outputs": [
    {
     "data": {
      "text/html": [
       "<div>\n",
       "<style scoped>\n",
       "    .dataframe tbody tr th:only-of-type {\n",
       "        vertical-align: middle;\n",
       "    }\n",
       "\n",
       "    .dataframe tbody tr th {\n",
       "        vertical-align: top;\n",
       "    }\n",
       "\n",
       "    .dataframe thead th {\n",
       "        text-align: right;\n",
       "    }\n",
       "</style>\n",
       "<table border=\"1\" class=\"dataframe\">\n",
       "  <thead>\n",
       "    <tr style=\"text-align: right;\">\n",
       "      <th></th>\n",
       "      <th>id</th>\n",
       "      <th>inning</th>\n",
       "      <th>over</th>\n",
       "      <th>ball</th>\n",
       "      <th>batsman</th>\n",
       "      <th>non_striker</th>\n",
       "      <th>bowler</th>\n",
       "      <th>batsman_runs</th>\n",
       "      <th>extra_runs</th>\n",
       "      <th>total_runs</th>\n",
       "      <th>non_boundary</th>\n",
       "      <th>is_wicket</th>\n",
       "      <th>dismissal_kind</th>\n",
       "      <th>player_dismissed</th>\n",
       "      <th>fielder</th>\n",
       "      <th>extras_type</th>\n",
       "      <th>batting_team</th>\n",
       "      <th>bowling_team</th>\n",
       "    </tr>\n",
       "  </thead>\n",
       "  <tbody>\n",
       "    <tr>\n",
       "      <th>0</th>\n",
       "      <td>335982</td>\n",
       "      <td>1</td>\n",
       "      <td>6</td>\n",
       "      <td>5</td>\n",
       "      <td>RT Ponting</td>\n",
       "      <td>BB McCullum</td>\n",
       "      <td>AA Noffke</td>\n",
       "      <td>1</td>\n",
       "      <td>0</td>\n",
       "      <td>1</td>\n",
       "      <td>0</td>\n",
       "      <td>0</td>\n",
       "      <td>NaN</td>\n",
       "      <td>NaN</td>\n",
       "      <td>NaN</td>\n",
       "      <td>NaN</td>\n",
       "      <td>Kolkata Knight Riders</td>\n",
       "      <td>Royal Challengers Bangalore</td>\n",
       "    </tr>\n",
       "    <tr>\n",
       "      <th>1</th>\n",
       "      <td>335982</td>\n",
       "      <td>1</td>\n",
       "      <td>6</td>\n",
       "      <td>6</td>\n",
       "      <td>BB McCullum</td>\n",
       "      <td>RT Ponting</td>\n",
       "      <td>AA Noffke</td>\n",
       "      <td>1</td>\n",
       "      <td>0</td>\n",
       "      <td>1</td>\n",
       "      <td>0</td>\n",
       "      <td>0</td>\n",
       "      <td>NaN</td>\n",
       "      <td>NaN</td>\n",
       "      <td>NaN</td>\n",
       "      <td>NaN</td>\n",
       "      <td>Kolkata Knight Riders</td>\n",
       "      <td>Royal Challengers Bangalore</td>\n",
       "    </tr>\n",
       "    <tr>\n",
       "      <th>2</th>\n",
       "      <td>335982</td>\n",
       "      <td>1</td>\n",
       "      <td>7</td>\n",
       "      <td>1</td>\n",
       "      <td>BB McCullum</td>\n",
       "      <td>RT Ponting</td>\n",
       "      <td>Z Khan</td>\n",
       "      <td>0</td>\n",
       "      <td>0</td>\n",
       "      <td>0</td>\n",
       "      <td>0</td>\n",
       "      <td>0</td>\n",
       "      <td>NaN</td>\n",
       "      <td>NaN</td>\n",
       "      <td>NaN</td>\n",
       "      <td>NaN</td>\n",
       "      <td>Kolkata Knight Riders</td>\n",
       "      <td>Royal Challengers Bangalore</td>\n",
       "    </tr>\n",
       "    <tr>\n",
       "      <th>3</th>\n",
       "      <td>335982</td>\n",
       "      <td>1</td>\n",
       "      <td>7</td>\n",
       "      <td>2</td>\n",
       "      <td>BB McCullum</td>\n",
       "      <td>RT Ponting</td>\n",
       "      <td>Z Khan</td>\n",
       "      <td>1</td>\n",
       "      <td>0</td>\n",
       "      <td>1</td>\n",
       "      <td>0</td>\n",
       "      <td>0</td>\n",
       "      <td>NaN</td>\n",
       "      <td>NaN</td>\n",
       "      <td>NaN</td>\n",
       "      <td>NaN</td>\n",
       "      <td>Kolkata Knight Riders</td>\n",
       "      <td>Royal Challengers Bangalore</td>\n",
       "    </tr>\n",
       "    <tr>\n",
       "      <th>4</th>\n",
       "      <td>335982</td>\n",
       "      <td>1</td>\n",
       "      <td>7</td>\n",
       "      <td>3</td>\n",
       "      <td>RT Ponting</td>\n",
       "      <td>BB McCullum</td>\n",
       "      <td>Z Khan</td>\n",
       "      <td>1</td>\n",
       "      <td>0</td>\n",
       "      <td>1</td>\n",
       "      <td>0</td>\n",
       "      <td>0</td>\n",
       "      <td>NaN</td>\n",
       "      <td>NaN</td>\n",
       "      <td>NaN</td>\n",
       "      <td>NaN</td>\n",
       "      <td>Kolkata Knight Riders</td>\n",
       "      <td>Royal Challengers Bangalore</td>\n",
       "    </tr>\n",
       "  </tbody>\n",
       "</table>\n",
       "</div>"
      ],
      "text/plain": [
       "       id  inning  over  ball      batsman  non_striker     bowler  \\\n",
       "0  335982       1     6     5   RT Ponting  BB McCullum  AA Noffke   \n",
       "1  335982       1     6     6  BB McCullum   RT Ponting  AA Noffke   \n",
       "2  335982       1     7     1  BB McCullum   RT Ponting     Z Khan   \n",
       "3  335982       1     7     2  BB McCullum   RT Ponting     Z Khan   \n",
       "4  335982       1     7     3   RT Ponting  BB McCullum     Z Khan   \n",
       "\n",
       "   batsman_runs  extra_runs  total_runs  non_boundary  is_wicket  \\\n",
       "0             1           0           1             0          0   \n",
       "1             1           0           1             0          0   \n",
       "2             0           0           0             0          0   \n",
       "3             1           0           1             0          0   \n",
       "4             1           0           1             0          0   \n",
       "\n",
       "  dismissal_kind player_dismissed fielder extras_type           batting_team  \\\n",
       "0            NaN              NaN     NaN         NaN  Kolkata Knight Riders   \n",
       "1            NaN              NaN     NaN         NaN  Kolkata Knight Riders   \n",
       "2            NaN              NaN     NaN         NaN  Kolkata Knight Riders   \n",
       "3            NaN              NaN     NaN         NaN  Kolkata Knight Riders   \n",
       "4            NaN              NaN     NaN         NaN  Kolkata Knight Riders   \n",
       "\n",
       "                  bowling_team  \n",
       "0  Royal Challengers Bangalore  \n",
       "1  Royal Challengers Bangalore  \n",
       "2  Royal Challengers Bangalore  \n",
       "3  Royal Challengers Bangalore  \n",
       "4  Royal Challengers Bangalore  "
      ]
     },
     "execution_count": 3,
     "metadata": {},
     "output_type": "execute_result"
    }
   ],
   "source": [
    "# getting outline of the dataset\n",
    "df.head()"
   ]
  },
  {
   "cell_type": "markdown",
   "id": "d5668c5e",
   "metadata": {},
   "source": [
    "# a) Summary of the Dataset \n",
    "Includes information about columns, attribute types, null values(if any), and summary of each attribute."
   ]
  },
  {
   "cell_type": "markdown",
   "id": "8096af46",
   "metadata": {},
   "source": [
    "By looking at the columns of the dataset given(IPL Ball-by-Ball 2008-2020),we can clearly understand the data above and summarize it as shown below"
   ]
  },
  {
   "cell_type": "markdown",
   "id": "58a3b5e9",
   "metadata": {},
   "source": [
    "### Understanding our Dataset.\n",
    "### The dataset consists of 18 columns:\n",
    "\t\t\t\t\t\t\t\t\t\t\n",
    "- id: The match ids to uniquely identify each match.\n",
    "\n",
    "- inning: one of the divisions of a match during which one team takes its turn to bat/ball \n",
    "\n",
    "- over: A bowler delivers the ball from his end of the pitch six times to the batsman at the opposite wicket\n",
    "\n",
    "- ball: each ball bowled by bowler to complete it over\n",
    "\n",
    "- batsman :Any player who is currently batting \n",
    "\n",
    "- non_striker:Any player who is on the opposing crease and currently not batting \n",
    "\n",
    "- bowler:Person performing action of propelling the ball toward the opposing  wicket\n",
    "\n",
    "- batsman_runs: Run taken by batsmen in a particular ball\n",
    "\n",
    "- extra_runs: a run scored by, or awarded to, a batting team which is not credited to any individual batsman \n",
    "\n",
    "- total_runs : Total Runs Scored in a ball\n",
    "\n",
    "- non_boundary: To predict if there is any boundary in an over\n",
    "\n",
    "- is_wicket: Bowler taking a wicket on the ball\n",
    "\n",
    "- dismissal_kind: Kind of dismissal that make the batmen out\n",
    "\n",
    "- player_dismissed: Name of the player which is out\n",
    "\n",
    "- fielder: catch/runout taken by a fielder\n",
    "\n",
    "- extras_type: category of extra runs that are given \n",
    "\n",
    "- batting_team: The team who is batting \n",
    "\n",
    "- bowling_team: The team who is bowling "
   ]
  },
  {
   "cell_type": "markdown",
   "id": "bec9ff91",
   "metadata": {},
   "source": [
    "### We will be further looking into the below attributes\n",
    "- index\n",
    "- columns\n",
    "- dtypes\n",
    "- size\n",
    "- shape\n",
    "- ndim \n",
    "- empty\n",
    "- isnull\n"
   ]
  },
  {
   "cell_type": "code",
   "execution_count": 4,
   "id": "05d849ed",
   "metadata": {
    "scrolled": false
   },
   "outputs": [
    {
     "name": "stdout",
     "output_type": "stream",
     "text": [
      "<class 'pandas.core.frame.DataFrame'>\n",
      "RangeIndex: 193468 entries, 0 to 193467\n",
      "Data columns (total 18 columns):\n",
      " #   Column            Non-Null Count   Dtype \n",
      "---  ------            --------------   ----- \n",
      " 0   id                193468 non-null  int64 \n",
      " 1   inning            193468 non-null  int64 \n",
      " 2   over              193468 non-null  int64 \n",
      " 3   ball              193468 non-null  int64 \n",
      " 4   batsman           193468 non-null  object\n",
      " 5   non_striker       193468 non-null  object\n",
      " 6   bowler            193468 non-null  object\n",
      " 7   batsman_runs      193468 non-null  int64 \n",
      " 8   extra_runs        193468 non-null  int64 \n",
      " 9   total_runs        193468 non-null  int64 \n",
      " 10  non_boundary      193468 non-null  int64 \n",
      " 11  is_wicket         193468 non-null  int64 \n",
      " 12  dismissal_kind    9495 non-null    object\n",
      " 13  player_dismissed  9495 non-null    object\n",
      " 14  fielder           6784 non-null    object\n",
      " 15  extras_type       10233 non-null   object\n",
      " 16  batting_team      193468 non-null  object\n",
      " 17  bowling_team      193277 non-null  object\n",
      "dtypes: int64(9), object(9)\n",
      "memory usage: 26.6+ MB\n"
     ]
    }
   ],
   "source": [
    "# overview of given dataset - a concise summary of the dataframe.\n",
    "df.info()"
   ]
  },
  {
   "cell_type": "code",
   "execution_count": 5,
   "id": "5e4d89f0",
   "metadata": {},
   "outputs": [
    {
     "data": {
      "text/plain": [
       "[RangeIndex(start=0, stop=193468, step=1),\n",
       " Index(['id', 'inning', 'over', 'ball', 'batsman', 'non_striker', 'bowler',\n",
       "        'batsman_runs', 'extra_runs', 'total_runs', 'non_boundary', 'is_wicket',\n",
       "        'dismissal_kind', 'player_dismissed', 'fielder', 'extras_type',\n",
       "        'batting_team', 'bowling_team'],\n",
       "       dtype='object')]"
      ]
     },
     "execution_count": 5,
     "metadata": {},
     "output_type": "execute_result"
    }
   ],
   "source": [
    "# Range Index: total number of rows  \n",
    "# Index: name of the every column\n",
    "df.axes"
   ]
  },
  {
   "cell_type": "code",
   "execution_count": 6,
   "id": "afeaf27e",
   "metadata": {},
   "outputs": [
    {
     "data": {
      "text/plain": [
       "id                   int64\n",
       "inning               int64\n",
       "over                 int64\n",
       "ball                 int64\n",
       "batsman             object\n",
       "non_striker         object\n",
       "bowler              object\n",
       "batsman_runs         int64\n",
       "extra_runs           int64\n",
       "total_runs           int64\n",
       "non_boundary         int64\n",
       "is_wicket            int64\n",
       "dismissal_kind      object\n",
       "player_dismissed    object\n",
       "fielder             object\n",
       "extras_type         object\n",
       "batting_team        object\n",
       "bowling_team        object\n",
       "dtype: object"
      ]
     },
     "execution_count": 6,
     "metadata": {},
     "output_type": "execute_result"
    }
   ],
   "source": [
    "# datatype of each column \n",
    "df.dtypes"
   ]
  },
  {
   "cell_type": "code",
   "execution_count": 7,
   "id": "e957c507",
   "metadata": {},
   "outputs": [
    {
     "data": {
      "text/plain": [
       "3482424"
      ]
     },
     "execution_count": 7,
     "metadata": {},
     "output_type": "execute_result"
    }
   ],
   "source": [
    "# display the number of tuples present in the dataset\n",
    "df.size"
   ]
  },
  {
   "cell_type": "code",
   "execution_count": 8,
   "id": "05c99eaf",
   "metadata": {},
   "outputs": [
    {
     "data": {
      "text/plain": [
       "(193468, 18)"
      ]
     },
     "execution_count": 8,
     "metadata": {},
     "output_type": "execute_result"
    }
   ],
   "source": [
    "# display the total number of rows and columns for a particular dataframe\n",
    "df.shape"
   ]
  },
  {
   "cell_type": "code",
   "execution_count": 10,
   "id": "99e1db5b",
   "metadata": {},
   "outputs": [
    {
     "data": {
      "text/plain": [
       "2"
      ]
     },
     "execution_count": 10,
     "metadata": {},
     "output_type": "execute_result"
    }
   ],
   "source": [
    "# display the number of dimensions\n",
    "df.ndim"
   ]
  },
  {
   "cell_type": "code",
   "execution_count": 11,
   "id": "b12c5b32",
   "metadata": {},
   "outputs": [
    {
     "data": {
      "text/plain": [
       "False"
      ]
     },
     "execution_count": 11,
     "metadata": {},
     "output_type": "execute_result"
    }
   ],
   "source": [
    "# to check whether the dataframe is empty or not\n",
    "df.empty"
   ]
  },
  {
   "cell_type": "code",
   "execution_count": 13,
   "id": "1c47bf87",
   "metadata": {},
   "outputs": [
    {
     "data": {
      "text/plain": [
       "id                       0\n",
       "inning                   0\n",
       "over                     0\n",
       "ball                     0\n",
       "batsman                  0\n",
       "non_striker              0\n",
       "bowler                   0\n",
       "batsman_runs             0\n",
       "extra_runs               0\n",
       "total_runs               0\n",
       "non_boundary             0\n",
       "is_wicket                0\n",
       "dismissal_kind      183973\n",
       "player_dismissed    183973\n",
       "fielder             186684\n",
       "extras_type         183235\n",
       "batting_team             0\n",
       "bowling_team           191\n",
       "dtype: int64"
      ]
     },
     "execution_count": 13,
     "metadata": {},
     "output_type": "execute_result"
    }
   ],
   "source": [
    "# get a total count of null values present in the dataframe\n",
    "df.isnull().sum()"
   ]
  },
  {
   "cell_type": "code",
   "execution_count": 15,
   "id": "7fd08f1f",
   "metadata": {},
   "outputs": [
    {
     "data": {
      "text/plain": [
       "array(['Kolkata Knight Riders', 'Royal Challengers Bangalore',\n",
       "       'Kings XI Punjab', 'Chennai Super Kings', 'Rajasthan Royals',\n",
       "       'Delhi Capitals', 'Mumbai Indians', 'Deccan Chargers',\n",
       "       'Kochi Tuskers Kerala', 'Pune Warriors', 'Sunrisers Hyderabad',\n",
       "       'Rising Pune Supergiants', 'Gujarat Lions',\n",
       "       'Rising Pune Supergiant'], dtype=object)"
      ]
     },
     "execution_count": 15,
     "metadata": {},
     "output_type": "execute_result"
    }
   ],
   "source": [
    "# Since batting_team have non-null values let us check the teams mentioned in batting_team.\n",
    "df.batting_team.unique()"
   ]
  },
  {
   "cell_type": "markdown",
   "id": "e3f1ff14",
   "metadata": {},
   "source": [
    "On further investigation, we found out that:\n",
    "\n",
    " 1. few teams have same name but slightly modified data, eg \"Rising Pune Supergiants\" and \"Rising Pune Supergiant\" (Notice the 's' in the end of former data    which is missing in the latter one).\n",
    "\n",
    " 2. the 'bowling_team' attribute have some null values that needs to be taken care of.\n",
    "\n",
    "These insights will be helpful in data pre-processing\n",
    ".\n"
   ]
  },
  {
   "cell_type": "markdown",
   "id": "e8443d2b",
   "metadata": {},
   "source": [
    "### Using pandas-profiling report"
   ]
  },
  {
   "cell_type": "code",
   "execution_count": 39,
   "id": "fed91072",
   "metadata": {},
   "outputs": [
    {
     "ename": "SyntaxError",
     "evalue": "invalid syntax (3337046777.py, line 2)",
     "output_type": "error",
     "traceback": [
      "\u001b[1;36m  Input \u001b[1;32mIn [39]\u001b[1;36m\u001b[0m\n\u001b[1;33m    pip install pandas-profiling\u001b[0m\n\u001b[1;37m        ^\u001b[0m\n\u001b[1;31mSyntaxError\u001b[0m\u001b[1;31m:\u001b[0m invalid syntax\n"
     ]
    }
   ],
   "source": [
    " # used to supress the large output log\n",
    "pip install pandas-profiling"
   ]
  },
  {
   "cell_type": "code",
   "execution_count": 38,
   "id": "3ac7f900",
   "metadata": {},
   "outputs": [
    {
     "ename": "ModuleNotFoundError",
     "evalue": "No module named 'ipywidgets'",
     "output_type": "error",
     "traceback": [
      "\u001b[1;31m---------------------------------------------------------------------------\u001b[0m",
      "\u001b[1;31mModuleNotFoundError\u001b[0m                       Traceback (most recent call last)",
      "File \u001b[1;32m~\\AppData\\Local\\Packages\\PythonSoftwareFoundation.Python.3.10_qbz5n2kfra8p0\\LocalCache\\local-packages\\Python310\\site-packages\\IPython\\core\\formatters.py:343\u001b[0m, in \u001b[0;36mBaseFormatter.__call__\u001b[1;34m(self, obj)\u001b[0m\n\u001b[0;32m    341\u001b[0m     method \u001b[39m=\u001b[39m get_real_method(obj, \u001b[39mself\u001b[39m\u001b[39m.\u001b[39mprint_method)\n\u001b[0;32m    342\u001b[0m     \u001b[39mif\u001b[39;00m method \u001b[39mis\u001b[39;00m \u001b[39mnot\u001b[39;00m \u001b[39mNone\u001b[39;00m:\n\u001b[1;32m--> 343\u001b[0m         \u001b[39mreturn\u001b[39;00m method()\n\u001b[0;32m    344\u001b[0m     \u001b[39mreturn\u001b[39;00m \u001b[39mNone\u001b[39;00m\n\u001b[0;32m    345\u001b[0m \u001b[39melse\u001b[39;00m:\n",
      "File \u001b[1;32m~\\AppData\\Local\\Packages\\PythonSoftwareFoundation.Python.3.10_qbz5n2kfra8p0\\LocalCache\\local-packages\\Python310\\site-packages\\pandas_profiling\\profile_report.py:418\u001b[0m, in \u001b[0;36mProfileReport._repr_html_\u001b[1;34m(self)\u001b[0m\n\u001b[0;32m    416\u001b[0m \u001b[39mdef\u001b[39;00m \u001b[39m_repr_html_\u001b[39m(\u001b[39mself\u001b[39m) \u001b[39m-\u001b[39m\u001b[39m>\u001b[39m \u001b[39mNone\u001b[39;00m:\n\u001b[0;32m    417\u001b[0m     \u001b[39m\"\"\"The ipython notebook widgets user interface gets called by the jupyter notebook.\"\"\"\u001b[39;00m\n\u001b[1;32m--> 418\u001b[0m     \u001b[39mself\u001b[39;49m\u001b[39m.\u001b[39;49mto_notebook_iframe()\n",
      "File \u001b[1;32m~\\AppData\\Local\\Packages\\PythonSoftwareFoundation.Python.3.10_qbz5n2kfra8p0\\LocalCache\\local-packages\\Python310\\site-packages\\pandas_profiling\\profile_report.py:391\u001b[0m, in \u001b[0;36mProfileReport.to_notebook_iframe\u001b[1;34m(self)\u001b[0m\n\u001b[0;32m    380\u001b[0m \u001b[39m\"\"\"Used to output the HTML representation to a Jupyter notebook.\u001b[39;00m\n\u001b[0;32m    381\u001b[0m \u001b[39mWhen config.notebook.iframe.attribute is \"src\", this function creates a temporary HTML file\u001b[39;00m\n\u001b[0;32m    382\u001b[0m \u001b[39min `./tmp/profile_[hash].html` and returns an Iframe pointing to that contents.\u001b[39;00m\n\u001b[1;32m   (...)\u001b[0m\n\u001b[0;32m    387\u001b[0m \u001b[39m    This constructions solves problems with conflicting stylesheets and navigation links.\u001b[39;00m\n\u001b[0;32m    388\u001b[0m \u001b[39m\"\"\"\u001b[39;00m\n\u001b[0;32m    389\u001b[0m \u001b[39mfrom\u001b[39;00m \u001b[39mIPython\u001b[39;00m\u001b[39m.\u001b[39;00m\u001b[39mcore\u001b[39;00m\u001b[39m.\u001b[39;00m\u001b[39mdisplay\u001b[39;00m \u001b[39mimport\u001b[39;00m display\n\u001b[1;32m--> 391\u001b[0m \u001b[39mfrom\u001b[39;00m \u001b[39mpandas_profiling\u001b[39;00m\u001b[39m.\u001b[39;00m\u001b[39mreport\u001b[39;00m\u001b[39m.\u001b[39;00m\u001b[39mpresentation\u001b[39;00m\u001b[39m.\u001b[39;00m\u001b[39mflavours\u001b[39;00m\u001b[39m.\u001b[39;00m\u001b[39mwidget\u001b[39;00m\u001b[39m.\u001b[39;00m\u001b[39mnotebook\u001b[39;00m \u001b[39mimport\u001b[39;00m (\n\u001b[0;32m    392\u001b[0m     get_notebook_iframe,\n\u001b[0;32m    393\u001b[0m )\n\u001b[0;32m    395\u001b[0m \u001b[39m# Ignore warning: https://github.com/ipython/ipython/pull/11350/files\u001b[39;00m\n\u001b[0;32m    396\u001b[0m \u001b[39mwith\u001b[39;00m warnings\u001b[39m.\u001b[39mcatch_warnings():\n",
      "File \u001b[1;32m~\\AppData\\Local\\Packages\\PythonSoftwareFoundation.Python.3.10_qbz5n2kfra8p0\\LocalCache\\local-packages\\Python310\\site-packages\\pandas_profiling\\report\\presentation\\flavours\\widget\\__init__.py:1\u001b[0m, in \u001b[0;36m<module>\u001b[1;34m\u001b[0m\n\u001b[1;32m----> 1\u001b[0m \u001b[39mfrom\u001b[39;00m \u001b[39mpandas_profiling\u001b[39;00m\u001b[39m.\u001b[39;00m\u001b[39mreport\u001b[39;00m\u001b[39m.\u001b[39;00m\u001b[39mpresentation\u001b[39;00m\u001b[39m.\u001b[39;00m\u001b[39mflavours\u001b[39;00m\u001b[39m.\u001b[39;00m\u001b[39mwidget\u001b[39;00m\u001b[39m.\u001b[39;00m\u001b[39malerts\u001b[39;00m \u001b[39mimport\u001b[39;00m WidgetAlerts\n\u001b[0;32m      2\u001b[0m \u001b[39mfrom\u001b[39;00m \u001b[39mpandas_profiling\u001b[39;00m\u001b[39m.\u001b[39;00m\u001b[39mreport\u001b[39;00m\u001b[39m.\u001b[39;00m\u001b[39mpresentation\u001b[39;00m\u001b[39m.\u001b[39;00m\u001b[39mflavours\u001b[39;00m\u001b[39m.\u001b[39;00m\u001b[39mwidget\u001b[39;00m\u001b[39m.\u001b[39;00m\u001b[39mcollapse\u001b[39;00m \u001b[39mimport\u001b[39;00m WidgetCollapse\n\u001b[0;32m      3\u001b[0m \u001b[39mfrom\u001b[39;00m \u001b[39mpandas_profiling\u001b[39;00m\u001b[39m.\u001b[39;00m\u001b[39mreport\u001b[39;00m\u001b[39m.\u001b[39;00m\u001b[39mpresentation\u001b[39;00m\u001b[39m.\u001b[39;00m\u001b[39mflavours\u001b[39;00m\u001b[39m.\u001b[39;00m\u001b[39mwidget\u001b[39;00m\u001b[39m.\u001b[39;00m\u001b[39mcontainer\u001b[39;00m \u001b[39mimport\u001b[39;00m (\n\u001b[0;32m      4\u001b[0m     WidgetContainer,\n\u001b[0;32m      5\u001b[0m )\n",
      "File \u001b[1;32m~\\AppData\\Local\\Packages\\PythonSoftwareFoundation.Python.3.10_qbz5n2kfra8p0\\LocalCache\\local-packages\\Python310\\site-packages\\pandas_profiling\\report\\presentation\\flavours\\widget\\alerts.py:3\u001b[0m, in \u001b[0;36m<module>\u001b[1;34m\u001b[0m\n\u001b[0;32m      1\u001b[0m \u001b[39mfrom\u001b[39;00m \u001b[39mtyping\u001b[39;00m \u001b[39mimport\u001b[39;00m List\n\u001b[1;32m----> 3\u001b[0m \u001b[39mfrom\u001b[39;00m \u001b[39mipywidgets\u001b[39;00m \u001b[39mimport\u001b[39;00m HTML, Button, widgets\n\u001b[0;32m      5\u001b[0m \u001b[39mfrom\u001b[39;00m \u001b[39mpandas_profiling\u001b[39;00m\u001b[39m.\u001b[39;00m\u001b[39mreport\u001b[39;00m\u001b[39m.\u001b[39;00m\u001b[39mpresentation\u001b[39;00m\u001b[39m.\u001b[39;00m\u001b[39mcore\u001b[39;00m \u001b[39mimport\u001b[39;00m Alerts\n\u001b[0;32m      6\u001b[0m \u001b[39mfrom\u001b[39;00m \u001b[39mpandas_profiling\u001b[39;00m\u001b[39m.\u001b[39;00m\u001b[39mreport\u001b[39;00m\u001b[39m.\u001b[39;00m\u001b[39mpresentation\u001b[39;00m\u001b[39m.\u001b[39;00m\u001b[39mflavours\u001b[39;00m\u001b[39m.\u001b[39;00m\u001b[39mhtml\u001b[39;00m \u001b[39mimport\u001b[39;00m templates\n",
      "\u001b[1;31mModuleNotFoundError\u001b[0m: No module named 'ipywidgets'"
     ]
    },
    {
     "data": {
      "text/plain": []
     },
     "execution_count": 38,
     "metadata": {},
     "output_type": "execute_result"
    }
   ],
   "source": [
    "# importing pandas-profiling library to use the in-built feature of pandas to genearete report\n",
    "from pandas_profiling import ProfileReport\n",
    "profile = ProfileReport(df)\n",
    "profile"
   ]
  },
  {
   "cell_type": "markdown",
   "id": "9b38ac06",
   "metadata": {},
   "source": [
    "### Data Pre-Processing and Cleaning"
   ]
  },
  {
   "cell_type": "markdown",
   "id": "323832c6",
   "metadata": {},
   "source": [
    "Before moving any further, lets have a look at our data to be pre-processed. As discussed in Data Summary section,  we will use pre-processing technique(s) to find the actual unique teams.\n"
   ]
  },
  {
   "cell_type": "code",
   "execution_count": 7,
   "id": "ac1bf6b2",
   "metadata": {},
   "outputs": [
    {
     "data": {
      "text/plain": [
       "array(['Kolkata Knight Riders', 'Royal Challengers Bangalore',\n",
       "       'Kings XI Punjab', 'Chennai Super Kings', 'Rajasthan Royals',\n",
       "       'Delhi Daredevils', 'Mumbai Indians', 'Deccan Chargers',\n",
       "       'Kochi Tuskers Kerala', 'Pune Warriors', 'Sunrisers Hyderabad',\n",
       "       'Rising Pune Supergiants', 'Gujarat Lions',\n",
       "       'Rising Pune Supergiant', 'Delhi Capitals'], dtype=object)"
      ]
     },
     "execution_count": 7,
     "metadata": {},
     "output_type": "execute_result"
    }
   ],
   "source": [
    "df.batting_team.unique()"
   ]
  },
  {
   "cell_type": "markdown",
   "id": "84e3eeae",
   "metadata": {},
   "source": [
    "\n",
    "**Step 1.1**: 'Delhi Capitals' and 'Delhi Daredevils' is the same team since both of them represent Delhi."
   ]
  },
  {
   "cell_type": "code",
   "execution_count": 13,
   "id": "5ecfe789",
   "metadata": {},
   "outputs": [
    {
     "data": {
      "text/plain": [
       "array(['Kolkata Knight Riders', 'Royal Challengers Bangalore',\n",
       "       'Kings XI Punjab', 'Chennai Super Kings', 'Rajasthan Royals',\n",
       "       'Delhi Capitals', 'Mumbai Indians', 'Deccan Chargers',\n",
       "       'Kochi Tuskers Kerala', 'Pune Warriors', 'Sunrisers Hyderabad',\n",
       "       'Rising Pune Supergiants', 'Gujarat Lions',\n",
       "       'Rising Pune Supergiant'], dtype=object)"
      ]
     },
     "execution_count": 13,
     "metadata": {},
     "output_type": "execute_result"
    }
   ],
   "source": [
    "df =df.replace(['Delhi Daredevils'],'Delhi Capitals')\n",
    "df.batting_team.unique()"
   ]
  },
  {
   "cell_type": "markdown",
   "id": "0f2f0ad4",
   "metadata": {},
   "source": [
    "**Step 1.2**: Removing the old teams like 'Deccan Chargers', 'Kochi Tuskers Kerala', 'Pune Warriors' , 'Rising Pune Supergiants'\n",
    "\n",
    "###### **WE KNOW 'RISING PUNE SUPERGIANTS' PLAYED FOR ONLY 1 SEASON; OTHER TEAMS DON'T PLAY ANYMORE. SO DUE TO DATA INSUFFUCIENCY WE DON'T NEED THESE TEAMS FOR OUR ANALYSIS**"
   ]
  },
  {
   "cell_type": "code",
   "execution_count": 12,
   "id": "0dde4e66",
   "metadata": {},
   "outputs": [],
   "source": [
    "required_team=['Kolkata Knight Riders', 'Royal Challengers Bangalore',\n",
    "       'Kings XI Punjab', 'Chennai Super Kings', 'Rajasthan Royals',\n",
    "       'Delhi Capitals', 'Mumbai Indians', 'Sunrisers Hyderabad',\n",
    "        'Gujarat Lions']"
   ]
  },
  {
   "cell_type": "code",
   "execution_count": 17,
   "id": "cfb64d5e",
   "metadata": {},
   "outputs": [],
   "source": [
    "# extracting only the required teams according to pre-processed data\n",
    "df = df[(df['batting_team'].isin(required_team)) & (df['bowling_team'].isin(required_team))]"
   ]
  },
  {
   "cell_type": "markdown",
   "id": "e90b4d52",
   "metadata": {},
   "source": [
    "**Step 2**: After removing the old teams & teams that do not play anymore, it also solved our problem of null value present in bowling team"
   ]
  },
  {
   "cell_type": "code",
   "execution_count": 18,
   "id": "1dcf890c",
   "metadata": {},
   "outputs": [
    {
     "data": {
      "text/plain": [
       "id                   0.000000\n",
       "inning               0.000000\n",
       "over                 0.000000\n",
       "ball                 0.000000\n",
       "batsman              0.000000\n",
       "non_striker          0.000000\n",
       "bowler               0.000000\n",
       "batsman_runs         0.000000\n",
       "extra_runs           0.000000\n",
       "total_runs           0.000000\n",
       "non_boundary         0.000000\n",
       "is_wicket            0.000000\n",
       "dismissal_kind      95.121246\n",
       "player_dismissed    95.121246\n",
       "fielder             96.522980\n",
       "extras_type         94.702847\n",
       "batting_team         0.000000\n",
       "bowling_team         0.000000\n",
       "dtype: float64"
      ]
     },
     "execution_count": 18,
     "metadata": {},
     "output_type": "execute_result"
    }
   ],
   "source": [
    "# lets analyse the percentage of the values that are empty\n",
    "df.isnull().mean()*100"
   ]
  },
  {
   "cell_type": "markdown",
   "id": "9dcd8ea0",
   "metadata": {},
   "source": [
    "**Step 3**: We might require 'player_dismissed' and 'dismissal_kind' to predict the strategy to bowl against the batsman. We will be filling the \"NA\" values as \"Not Out\" in our case. We could have considered replacing it with 0, but the data is already being stored in string format. So, to make the data more readable, we are not using 0 to indicate 'Not Out\" so as to increase the readability for users."
   ]
  },
  {
   "cell_type": "code",
   "execution_count": 12,
   "id": "0dafe0a8",
   "metadata": {},
   "outputs": [],
   "source": [
    "df['dismissal_kind'].fillna(value =\"Not Out\",inplace=True)\n",
    "df['player_dismissed'].fillna(value =\"Not Out\",inplace=True)"
   ]
  },
  {
   "cell_type": "markdown",
   "id": "5349fadc",
   "metadata": {},
   "source": [
    "**Step 4**: We are droping column \"extras_type\" and \"fielder\" as it will not affect our analysis "
   ]
  },
  {
   "cell_type": "code",
   "execution_count": 13,
   "id": "0f3d1fa4",
   "metadata": {},
   "outputs": [],
   "source": [
    "df.drop(['extras_type','fielder'],axis=1,inplace=True)"
   ]
  },
  {
   "cell_type": "markdown",
   "id": "c967c0f3",
   "metadata": {},
   "source": [
    "After completing the Data Pre-Processing tasks, our data looks like this"
   ]
  },
  {
   "cell_type": "code",
   "execution_count": 14,
   "id": "65c6287c",
   "metadata": {},
   "outputs": [
    {
     "data": {
      "text/plain": [
       "id                    0\n",
       "inning                0\n",
       "over                  0\n",
       "ball                  0\n",
       "batsman               0\n",
       "non_striker           0\n",
       "bowler                0\n",
       "batsman_runs          0\n",
       "extra_runs            0\n",
       "total_runs            0\n",
       "non_boundary          0\n",
       "is_wicket             0\n",
       "dismissal_kind        0\n",
       "player_dismissed      0\n",
       "batting_team          0\n",
       "bowling_team        191\n",
       "dtype: int64"
      ]
     },
     "execution_count": 14,
     "metadata": {},
     "output_type": "execute_result"
    }
   ],
   "source": [
    "df.isnull().sum()"
   ]
  },
  {
   "cell_type": "markdown",
   "id": "f663e6f7",
   "metadata": {},
   "source": [
    "We successfully removed all the non-null values and now we are ready to process this data"
   ]
  },
  {
   "cell_type": "markdown",
   "id": "72e54e9d",
   "metadata": {},
   "source": [
    "### Summary statistics"
   ]
  },
  {
   "cell_type": "markdown",
   "id": "79cb971e",
   "metadata": {},
   "source": [
    "#### Top 10 batsmen based on the total runs scored"
   ]
  },
  {
   "cell_type": "code",
   "execution_count": 24,
   "id": "73b929e2",
   "metadata": {},
   "outputs": [
    {
     "name": "stderr",
     "output_type": "stream",
     "text": [
      "C:\\Users\\rohan\\AppData\\Local\\Temp\\ipykernel_9328\\2515532337.py:2: FutureWarning: Indexing with multiple keys (implicitly converted to a tuple of keys) will be deprecated, use a list instead.\n",
      "  runs = df.groupby(['batsman'])['batsman_runs','inning'].sum().reset_index()\n"
     ]
    },
    {
     "data": {
      "text/html": [
       "<div>\n",
       "<style scoped>\n",
       "    .dataframe tbody tr th:only-of-type {\n",
       "        vertical-align: middle;\n",
       "    }\n",
       "\n",
       "    .dataframe tbody tr th {\n",
       "        vertical-align: top;\n",
       "    }\n",
       "\n",
       "    .dataframe thead th {\n",
       "        text-align: right;\n",
       "    }\n",
       "</style>\n",
       "<table border=\"1\" class=\"dataframe\">\n",
       "  <thead>\n",
       "    <tr style=\"text-align: right;\">\n",
       "      <th></th>\n",
       "      <th>batsman</th>\n",
       "      <th>batsman_runs</th>\n",
       "      <th>inning</th>\n",
       "      <th>strike_rate</th>\n",
       "    </tr>\n",
       "  </thead>\n",
       "  <tbody>\n",
       "    <tr>\n",
       "      <th>0</th>\n",
       "      <td>V Kohli</td>\n",
       "      <td>5878</td>\n",
       "      <td>6738</td>\n",
       "      <td>101.083032</td>\n",
       "    </tr>\n",
       "    <tr>\n",
       "      <th>1</th>\n",
       "      <td>SK Raina</td>\n",
       "      <td>5368</td>\n",
       "      <td>5746</td>\n",
       "      <td>57.142857</td>\n",
       "    </tr>\n",
       "    <tr>\n",
       "      <th>2</th>\n",
       "      <td>DA Warner</td>\n",
       "      <td>5254</td>\n",
       "      <td>5569</td>\n",
       "      <td>67.948718</td>\n",
       "    </tr>\n",
       "    <tr>\n",
       "      <th>3</th>\n",
       "      <td>RG Sharma</td>\n",
       "      <td>5230</td>\n",
       "      <td>5906</td>\n",
       "      <td>89.285714</td>\n",
       "    </tr>\n",
       "    <tr>\n",
       "      <th>4</th>\n",
       "      <td>S Dhawan</td>\n",
       "      <td>5197</td>\n",
       "      <td>5926</td>\n",
       "      <td>80.000000</td>\n",
       "    </tr>\n",
       "  </tbody>\n",
       "</table>\n",
       "</div>"
      ],
      "text/plain": [
       "     batsman  batsman_runs  inning  strike_rate\n",
       "0    V Kohli          5878    6738   101.083032\n",
       "1   SK Raina          5368    5746    57.142857\n",
       "2  DA Warner          5254    5569    67.948718\n",
       "3  RG Sharma          5230    5906    89.285714\n",
       "4   S Dhawan          5197    5926    80.000000"
      ]
     },
     "execution_count": 24,
     "metadata": {},
     "output_type": "execute_result"
    }
   ],
   "source": [
    "runs = df.groupby(['batsman'])['batsman_runs', 'inning'].sum().reset_index()\n",
    "sorted_players = runs.sort_values(by ='batsman_runs', ascending =False).head(5).reset_index().drop('index', axis=1)\n",
    "\n",
    "# adding a new column, strike_rate, to our new dataframe\n",
    "sorted_players['strike_rate'] = runs['batsman_runs']/runs['inning']*100\n",
    "sorted_players"
   ]
  },
  {
   "cell_type": "markdown",
   "id": "a6ffe1c4",
   "metadata": {},
   "source": [
    "#### Top 10 batsmen based on the total no. of 6's scored"
   ]
  },
  {
   "cell_type": "code",
   "execution_count": 27,
   "id": "b37608a3",
   "metadata": {},
   "outputs": [
    {
     "data": {
      "text/html": [
       "<div>\n",
       "<style scoped>\n",
       "    .dataframe tbody tr th:only-of-type {\n",
       "        vertical-align: middle;\n",
       "    }\n",
       "\n",
       "    .dataframe tbody tr th {\n",
       "        vertical-align: top;\n",
       "    }\n",
       "\n",
       "    .dataframe thead th {\n",
       "        text-align: right;\n",
       "    }\n",
       "</style>\n",
       "<table border=\"1\" class=\"dataframe\">\n",
       "  <thead>\n",
       "    <tr style=\"text-align: right;\">\n",
       "      <th></th>\n",
       "      <th>batsman</th>\n",
       "      <th>batsman_runs</th>\n",
       "    </tr>\n",
       "  </thead>\n",
       "  <tbody>\n",
       "    <tr>\n",
       "      <th>0</th>\n",
       "      <td>CH Gayle</td>\n",
       "      <td>349</td>\n",
       "    </tr>\n",
       "    <tr>\n",
       "      <th>1</th>\n",
       "      <td>AB de Villiers</td>\n",
       "      <td>235</td>\n",
       "    </tr>\n",
       "    <tr>\n",
       "      <th>2</th>\n",
       "      <td>MS Dhoni</td>\n",
       "      <td>216</td>\n",
       "    </tr>\n",
       "    <tr>\n",
       "      <th>3</th>\n",
       "      <td>RG Sharma</td>\n",
       "      <td>214</td>\n",
       "    </tr>\n",
       "    <tr>\n",
       "      <th>4</th>\n",
       "      <td>V Kohli</td>\n",
       "      <td>202</td>\n",
       "    </tr>\n",
       "    <tr>\n",
       "      <th>5</th>\n",
       "      <td>KA Pollard</td>\n",
       "      <td>198</td>\n",
       "    </tr>\n",
       "    <tr>\n",
       "      <th>6</th>\n",
       "      <td>DA Warner</td>\n",
       "      <td>195</td>\n",
       "    </tr>\n",
       "    <tr>\n",
       "      <th>7</th>\n",
       "      <td>SK Raina</td>\n",
       "      <td>194</td>\n",
       "    </tr>\n",
       "    <tr>\n",
       "      <th>8</th>\n",
       "      <td>SR Watson</td>\n",
       "      <td>190</td>\n",
       "    </tr>\n",
       "    <tr>\n",
       "      <th>9</th>\n",
       "      <td>RV Uthappa</td>\n",
       "      <td>163</td>\n",
       "    </tr>\n",
       "  </tbody>\n",
       "</table>\n",
       "</div>"
      ],
      "text/plain": [
       "          batsman  batsman_runs\n",
       "0        CH Gayle           349\n",
       "1  AB de Villiers           235\n",
       "2        MS Dhoni           216\n",
       "3       RG Sharma           214\n",
       "4         V Kohli           202\n",
       "5      KA Pollard           198\n",
       "6       DA Warner           195\n",
       "7        SK Raina           194\n",
       "8       SR Watson           190\n",
       "9      RV Uthappa           163"
      ]
     },
     "execution_count": 27,
     "metadata": {},
     "output_type": "execute_result"
    }
   ],
   "source": [
    "six = df.groupby('batsman')['batsman_runs'].agg(lambda x: (x==6).sum()).reset_index()\n",
    "six.sort_values(by='batsman_runs',ascending =False).head(10).reset_index().drop('index',axis=1)"
   ]
  },
  {
   "cell_type": "markdown",
   "id": "48e903e6",
   "metadata": {},
   "source": [
    "#### Top 10 batsmen based on the total no. of 4's scored"
   ]
  },
  {
   "cell_type": "code",
   "execution_count": 30,
   "id": "8a8c13b3",
   "metadata": {},
   "outputs": [
    {
     "data": {
      "text/html": [
       "<div>\n",
       "<style scoped>\n",
       "    .dataframe tbody tr th:only-of-type {\n",
       "        vertical-align: middle;\n",
       "    }\n",
       "\n",
       "    .dataframe tbody tr th {\n",
       "        vertical-align: top;\n",
       "    }\n",
       "\n",
       "    .dataframe thead th {\n",
       "        text-align: right;\n",
       "    }\n",
       "</style>\n",
       "<table border=\"1\" class=\"dataframe\">\n",
       "  <thead>\n",
       "    <tr style=\"text-align: right;\">\n",
       "      <th></th>\n",
       "      <th>batsman</th>\n",
       "      <th>batsman_runs</th>\n",
       "    </tr>\n",
       "  </thead>\n",
       "  <tbody>\n",
       "    <tr>\n",
       "      <th>0</th>\n",
       "      <td>S Dhawan</td>\n",
       "      <td>591</td>\n",
       "    </tr>\n",
       "    <tr>\n",
       "      <th>1</th>\n",
       "      <td>DA Warner</td>\n",
       "      <td>510</td>\n",
       "    </tr>\n",
       "    <tr>\n",
       "      <th>2</th>\n",
       "      <td>V Kohli</td>\n",
       "      <td>504</td>\n",
       "    </tr>\n",
       "    <tr>\n",
       "      <th>3</th>\n",
       "      <td>SK Raina</td>\n",
       "      <td>493</td>\n",
       "    </tr>\n",
       "    <tr>\n",
       "      <th>4</th>\n",
       "      <td>G Gambhir</td>\n",
       "      <td>492</td>\n",
       "    </tr>\n",
       "    <tr>\n",
       "      <th>5</th>\n",
       "      <td>RG Sharma</td>\n",
       "      <td>458</td>\n",
       "    </tr>\n",
       "    <tr>\n",
       "      <th>6</th>\n",
       "      <td>RV Uthappa</td>\n",
       "      <td>454</td>\n",
       "    </tr>\n",
       "    <tr>\n",
       "      <th>7</th>\n",
       "      <td>AM Rahane</td>\n",
       "      <td>416</td>\n",
       "    </tr>\n",
       "    <tr>\n",
       "      <th>8</th>\n",
       "      <td>AB de Villiers</td>\n",
       "      <td>390</td>\n",
       "    </tr>\n",
       "    <tr>\n",
       "      <th>9</th>\n",
       "      <td>CH Gayle</td>\n",
       "      <td>384</td>\n",
       "    </tr>\n",
       "  </tbody>\n",
       "</table>\n",
       "</div>"
      ],
      "text/plain": [
       "          batsman  batsman_runs\n",
       "0        S Dhawan           591\n",
       "1       DA Warner           510\n",
       "2         V Kohli           504\n",
       "3        SK Raina           493\n",
       "4       G Gambhir           492\n",
       "5       RG Sharma           458\n",
       "6      RV Uthappa           454\n",
       "7       AM Rahane           416\n",
       "8  AB de Villiers           390\n",
       "9        CH Gayle           384"
      ]
     },
     "execution_count": 30,
     "metadata": {},
     "output_type": "execute_result"
    }
   ],
   "source": [
    "four=df.groupby('batsman')['batsman_runs'].agg(lambda x: (x==4).sum()).reset_index()\n",
    "four.sort_values(by='batsman_runs',ascending =False).head(10).reset_index().drop('index',axis=1)"
   ]
  },
  {
   "cell_type": "markdown",
   "id": "2b16d6b0",
   "metadata": {},
   "source": [
    "Top 10 bowlers based on wickets taken"
   ]
  },
  {
   "cell_type": "code",
   "execution_count": 34,
   "id": "c965538d",
   "metadata": {},
   "outputs": [
    {
     "name": "stderr",
     "output_type": "stream",
     "text": [
      "C:\\Users\\rohan\\AppData\\Local\\Temp\\ipykernel_9328\\3886982654.py:2: FutureWarning: Indexing with multiple keys (implicitly converted to a tuple of keys) will be deprecated, use a list instead.\n",
      "  wicket = df.groupby(['bowler'])['is_wicket','inning','over','batsman_runs'].sum().reset_index()\n"
     ]
    },
    {
     "data": {
      "text/html": [
       "<div>\n",
       "<style scoped>\n",
       "    .dataframe tbody tr th:only-of-type {\n",
       "        vertical-align: middle;\n",
       "    }\n",
       "\n",
       "    .dataframe tbody tr th {\n",
       "        vertical-align: top;\n",
       "    }\n",
       "\n",
       "    .dataframe thead th {\n",
       "        text-align: right;\n",
       "    }\n",
       "</style>\n",
       "<table border=\"1\" class=\"dataframe\">\n",
       "  <thead>\n",
       "    <tr style=\"text-align: right;\">\n",
       "      <th></th>\n",
       "      <th>bowler</th>\n",
       "      <th>is_wicket</th>\n",
       "      <th>inning</th>\n",
       "      <th>over</th>\n",
       "      <th>batsman_runs</th>\n",
       "    </tr>\n",
       "  </thead>\n",
       "  <tbody>\n",
       "    <tr>\n",
       "      <th>0</th>\n",
       "      <td>SL Malinga</td>\n",
       "      <td>188</td>\n",
       "      <td>4520</td>\n",
       "      <td>29863</td>\n",
       "      <td>3193</td>\n",
       "    </tr>\n",
       "    <tr>\n",
       "      <th>1</th>\n",
       "      <td>DJ Bravo</td>\n",
       "      <td>175</td>\n",
       "      <td>4135</td>\n",
       "      <td>36112</td>\n",
       "      <td>3659</td>\n",
       "    </tr>\n",
       "    <tr>\n",
       "      <th>2</th>\n",
       "      <td>A Mishra</td>\n",
       "      <td>169</td>\n",
       "      <td>5006</td>\n",
       "      <td>33724</td>\n",
       "      <td>3788</td>\n",
       "    </tr>\n",
       "    <tr>\n",
       "      <th>3</th>\n",
       "      <td>PP Chawla</td>\n",
       "      <td>164</td>\n",
       "      <td>4713</td>\n",
       "      <td>33110</td>\n",
       "      <td>4196</td>\n",
       "    </tr>\n",
       "    <tr>\n",
       "      <th>4</th>\n",
       "      <td>Harbhajan Singh</td>\n",
       "      <td>161</td>\n",
       "      <td>5212</td>\n",
       "      <td>29367</td>\n",
       "      <td>3868</td>\n",
       "    </tr>\n",
       "    <tr>\n",
       "      <th>5</th>\n",
       "      <td>R Ashwin</td>\n",
       "      <td>153</td>\n",
       "      <td>5180</td>\n",
       "      <td>29173</td>\n",
       "      <td>3581</td>\n",
       "    </tr>\n",
       "    <tr>\n",
       "      <th>6</th>\n",
       "      <td>B Kumar</td>\n",
       "      <td>146</td>\n",
       "      <td>4268</td>\n",
       "      <td>22926</td>\n",
       "      <td>3132</td>\n",
       "    </tr>\n",
       "    <tr>\n",
       "      <th>7</th>\n",
       "      <td>SP Narine</td>\n",
       "      <td>143</td>\n",
       "      <td>3979</td>\n",
       "      <td>30116</td>\n",
       "      <td>3086</td>\n",
       "    </tr>\n",
       "    <tr>\n",
       "      <th>8</th>\n",
       "      <td>UT Yadav</td>\n",
       "      <td>137</td>\n",
       "      <td>3592</td>\n",
       "      <td>22928</td>\n",
       "      <td>3446</td>\n",
       "    </tr>\n",
       "    <tr>\n",
       "      <th>9</th>\n",
       "      <td>R Vinay Kumar</td>\n",
       "      <td>127</td>\n",
       "      <td>3286</td>\n",
       "      <td>20985</td>\n",
       "      <td>2906</td>\n",
       "    </tr>\n",
       "  </tbody>\n",
       "</table>\n",
       "</div>"
      ],
      "text/plain": [
       "            bowler  is_wicket  inning   over  batsman_runs\n",
       "0       SL Malinga        188    4520  29863          3193\n",
       "1         DJ Bravo        175    4135  36112          3659\n",
       "2         A Mishra        169    5006  33724          3788\n",
       "3        PP Chawla        164    4713  33110          4196\n",
       "4  Harbhajan Singh        161    5212  29367          3868\n",
       "5         R Ashwin        153    5180  29173          3581\n",
       "6          B Kumar        146    4268  22926          3132\n",
       "7        SP Narine        143    3979  30116          3086\n",
       "8         UT Yadav        137    3592  22928          3446\n",
       "9    R Vinay Kumar        127    3286  20985          2906"
      ]
     },
     "execution_count": 34,
     "metadata": {},
     "output_type": "execute_result"
    }
   ],
   "source": [
    "wicket = df.groupby(['bowler'])['is_wicket','inning','over','batsman_runs'].sum().reset_index()\n",
    "sortedbowl_players=wicket.sort_values(by ='is_wicket',ascending =False).head(10).reset_index().drop('index',axis=1)\n",
    "sortedbowl_players"
   ]
  },
  {
   "cell_type": "markdown",
   "id": "9857a855",
   "metadata": {},
   "source": [
    "#### Top 10 bowlers based on most innings played"
   ]
  },
  {
   "cell_type": "code",
   "execution_count": 35,
   "id": "c10fee1b",
   "metadata": {},
   "outputs": [
    {
     "name": "stderr",
     "output_type": "stream",
     "text": [
      "C:\\Users\\rohan\\AppData\\Local\\Temp\\ipykernel_9328\\3334628995.py:2: FutureWarning: Indexing with multiple keys (implicitly converted to a tuple of keys) will be deprecated, use a list instead.\n",
      "  wicket = df.groupby(['bowler'])['is_wicket','inning','over','batsman_runs'].sum().reset_index()\n"
     ]
    },
    {
     "data": {
      "text/html": [
       "<div>\n",
       "<style scoped>\n",
       "    .dataframe tbody tr th:only-of-type {\n",
       "        vertical-align: middle;\n",
       "    }\n",
       "\n",
       "    .dataframe tbody tr th {\n",
       "        vertical-align: top;\n",
       "    }\n",
       "\n",
       "    .dataframe thead th {\n",
       "        text-align: right;\n",
       "    }\n",
       "</style>\n",
       "<table border=\"1\" class=\"dataframe\">\n",
       "  <thead>\n",
       "    <tr style=\"text-align: right;\">\n",
       "      <th></th>\n",
       "      <th>bowler</th>\n",
       "      <th>is_wicket</th>\n",
       "      <th>inning</th>\n",
       "      <th>over</th>\n",
       "      <th>batsman_runs</th>\n",
       "    </tr>\n",
       "  </thead>\n",
       "  <tbody>\n",
       "    <tr>\n",
       "      <th>0</th>\n",
       "      <td>Harbhajan Singh</td>\n",
       "      <td>161</td>\n",
       "      <td>5212</td>\n",
       "      <td>29367</td>\n",
       "      <td>3868</td>\n",
       "    </tr>\n",
       "    <tr>\n",
       "      <th>1</th>\n",
       "      <td>R Ashwin</td>\n",
       "      <td>153</td>\n",
       "      <td>5180</td>\n",
       "      <td>29173</td>\n",
       "      <td>3581</td>\n",
       "    </tr>\n",
       "    <tr>\n",
       "      <th>2</th>\n",
       "      <td>A Mishra</td>\n",
       "      <td>169</td>\n",
       "      <td>5006</td>\n",
       "      <td>33724</td>\n",
       "      <td>3788</td>\n",
       "    </tr>\n",
       "    <tr>\n",
       "      <th>3</th>\n",
       "      <td>PP Chawla</td>\n",
       "      <td>164</td>\n",
       "      <td>4713</td>\n",
       "      <td>33110</td>\n",
       "      <td>4196</td>\n",
       "    </tr>\n",
       "    <tr>\n",
       "      <th>4</th>\n",
       "      <td>SL Malinga</td>\n",
       "      <td>188</td>\n",
       "      <td>4520</td>\n",
       "      <td>29863</td>\n",
       "      <td>3193</td>\n",
       "    </tr>\n",
       "    <tr>\n",
       "      <th>5</th>\n",
       "      <td>B Kumar</td>\n",
       "      <td>146</td>\n",
       "      <td>4268</td>\n",
       "      <td>22926</td>\n",
       "      <td>3132</td>\n",
       "    </tr>\n",
       "    <tr>\n",
       "      <th>6</th>\n",
       "      <td>DJ Bravo</td>\n",
       "      <td>175</td>\n",
       "      <td>4135</td>\n",
       "      <td>36112</td>\n",
       "      <td>3659</td>\n",
       "    </tr>\n",
       "    <tr>\n",
       "      <th>7</th>\n",
       "      <td>SP Narine</td>\n",
       "      <td>143</td>\n",
       "      <td>3979</td>\n",
       "      <td>30116</td>\n",
       "      <td>3086</td>\n",
       "    </tr>\n",
       "    <tr>\n",
       "      <th>8</th>\n",
       "      <td>RA Jadeja</td>\n",
       "      <td>122</td>\n",
       "      <td>3958</td>\n",
       "      <td>29728</td>\n",
       "      <td>3408</td>\n",
       "    </tr>\n",
       "    <tr>\n",
       "      <th>9</th>\n",
       "      <td>P Kumar</td>\n",
       "      <td>102</td>\n",
       "      <td>3888</td>\n",
       "      <td>17522</td>\n",
       "      <td>3106</td>\n",
       "    </tr>\n",
       "  </tbody>\n",
       "</table>\n",
       "</div>"
      ],
      "text/plain": [
       "            bowler  is_wicket  inning   over  batsman_runs\n",
       "0  Harbhajan Singh        161    5212  29367          3868\n",
       "1         R Ashwin        153    5180  29173          3581\n",
       "2         A Mishra        169    5006  33724          3788\n",
       "3        PP Chawla        164    4713  33110          4196\n",
       "4       SL Malinga        188    4520  29863          3193\n",
       "5          B Kumar        146    4268  22926          3132\n",
       "6         DJ Bravo        175    4135  36112          3659\n",
       "7        SP Narine        143    3979  30116          3086\n",
       "8        RA Jadeja        122    3958  29728          3408\n",
       "9          P Kumar        102    3888  17522          3106"
      ]
     },
     "execution_count": 35,
     "metadata": {},
     "output_type": "execute_result"
    }
   ],
   "source": [
    "wicket = df.groupby(['bowler'])['is_wicket','inning','over','batsman_runs'].sum().reset_index()\n",
    "sortedbowl_players=wicket.sort_values(by ='inning',ascending =False).head(10).reset_index().drop('index',axis=1)\n",
    "sortedbowl_players"
   ]
  },
  {
   "cell_type": "markdown",
   "id": "8774c46f",
   "metadata": {},
   "source": [
    "#### Top 10 bowlers based on economy"
   ]
  },
  {
   "cell_type": "code",
   "execution_count": 36,
   "id": "621587fc",
   "metadata": {},
   "outputs": [
    {
     "data": {
      "text/html": [
       "<div>\n",
       "<style scoped>\n",
       "    .dataframe tbody tr th:only-of-type {\n",
       "        vertical-align: middle;\n",
       "    }\n",
       "\n",
       "    .dataframe tbody tr th {\n",
       "        vertical-align: top;\n",
       "    }\n",
       "\n",
       "    .dataframe thead th {\n",
       "        text-align: right;\n",
       "    }\n",
       "</style>\n",
       "<table border=\"1\" class=\"dataframe\">\n",
       "  <thead>\n",
       "    <tr style=\"text-align: right;\">\n",
       "      <th></th>\n",
       "      <th>bowler</th>\n",
       "      <th>is_wicket</th>\n",
       "      <th>inning</th>\n",
       "      <th>over</th>\n",
       "      <th>batsman_runs</th>\n",
       "      <th>economy</th>\n",
       "    </tr>\n",
       "  </thead>\n",
       "  <tbody>\n",
       "    <tr>\n",
       "      <th>0</th>\n",
       "      <td>Harbhajan Singh</td>\n",
       "      <td>161</td>\n",
       "      <td>5212</td>\n",
       "      <td>29367</td>\n",
       "      <td>3868</td>\n",
       "      <td>0.109194</td>\n",
       "    </tr>\n",
       "    <tr>\n",
       "      <th>1</th>\n",
       "      <td>R Ashwin</td>\n",
       "      <td>153</td>\n",
       "      <td>5180</td>\n",
       "      <td>29173</td>\n",
       "      <td>3581</td>\n",
       "      <td>0.224074</td>\n",
       "    </tr>\n",
       "    <tr>\n",
       "      <th>2</th>\n",
       "      <td>A Mishra</td>\n",
       "      <td>169</td>\n",
       "      <td>5006</td>\n",
       "      <td>33724</td>\n",
       "      <td>3788</td>\n",
       "      <td>0.153244</td>\n",
       "    </tr>\n",
       "    <tr>\n",
       "      <th>3</th>\n",
       "      <td>PP Chawla</td>\n",
       "      <td>164</td>\n",
       "      <td>4713</td>\n",
       "      <td>33110</td>\n",
       "      <td>4196</td>\n",
       "      <td>0.230000</td>\n",
       "    </tr>\n",
       "    <tr>\n",
       "      <th>4</th>\n",
       "      <td>SL Malinga</td>\n",
       "      <td>188</td>\n",
       "      <td>4520</td>\n",
       "      <td>29863</td>\n",
       "      <td>3193</td>\n",
       "      <td>0.134615</td>\n",
       "    </tr>\n",
       "    <tr>\n",
       "      <th>5</th>\n",
       "      <td>B Kumar</td>\n",
       "      <td>146</td>\n",
       "      <td>4268</td>\n",
       "      <td>22926</td>\n",
       "      <td>3132</td>\n",
       "      <td>0.106029</td>\n",
       "    </tr>\n",
       "    <tr>\n",
       "      <th>6</th>\n",
       "      <td>DJ Bravo</td>\n",
       "      <td>175</td>\n",
       "      <td>4135</td>\n",
       "      <td>36112</td>\n",
       "      <td>3659</td>\n",
       "      <td>0.112324</td>\n",
       "    </tr>\n",
       "    <tr>\n",
       "      <th>7</th>\n",
       "      <td>SP Narine</td>\n",
       "      <td>143</td>\n",
       "      <td>3979</td>\n",
       "      <td>30116</td>\n",
       "      <td>3086</td>\n",
       "      <td>0.136794</td>\n",
       "    </tr>\n",
       "    <tr>\n",
       "      <th>8</th>\n",
       "      <td>RA Jadeja</td>\n",
       "      <td>122</td>\n",
       "      <td>3958</td>\n",
       "      <td>29728</td>\n",
       "      <td>3408</td>\n",
       "      <td>0.159175</td>\n",
       "    </tr>\n",
       "    <tr>\n",
       "      <th>9</th>\n",
       "      <td>P Kumar</td>\n",
       "      <td>102</td>\n",
       "      <td>3888</td>\n",
       "      <td>17522</td>\n",
       "      <td>3106</td>\n",
       "      <td>0.184524</td>\n",
       "    </tr>\n",
       "  </tbody>\n",
       "</table>\n",
       "</div>"
      ],
      "text/plain": [
       "            bowler  is_wicket  inning   over  batsman_runs   economy\n",
       "0  Harbhajan Singh        161    5212  29367          3868  0.109194\n",
       "1         R Ashwin        153    5180  29173          3581  0.224074\n",
       "2         A Mishra        169    5006  33724          3788  0.153244\n",
       "3        PP Chawla        164    4713  33110          4196  0.230000\n",
       "4       SL Malinga        188    4520  29863          3193  0.134615\n",
       "5          B Kumar        146    4268  22926          3132  0.106029\n",
       "6         DJ Bravo        175    4135  36112          3659  0.112324\n",
       "7        SP Narine        143    3979  30116          3086  0.136794\n",
       "8        RA Jadeja        122    3958  29728          3408  0.159175\n",
       "9          P Kumar        102    3888  17522          3106  0.184524"
      ]
     },
     "execution_count": 36,
     "metadata": {},
     "output_type": "execute_result"
    }
   ],
   "source": [
    "sortedbowl_players['economy'] = wicket['batsman_runs']/wicket['over']\n",
    "sortedbowl_players"
   ]
  },
  {
   "cell_type": "markdown",
   "id": "a414e01a",
   "metadata": {},
   "source": [
    "#### Winning team"
   ]
  },
  {
   "cell_type": "markdown",
   "id": "b16547e0",
   "metadata": {},
   "source": [
    "First, we will calclulate the total runs scored by the teams in each matches played against each other. But, if we look closely, the data in first 2 rows is having same ids but the position of 'batting_team' and 'bowling_team' is interchanged."
   ]
  },
  {
   "cell_type": "code",
   "execution_count": 78,
   "id": "5c068821",
   "metadata": {},
   "outputs": [
    {
     "data": {
      "text/html": [
       "<div>\n",
       "<style scoped>\n",
       "    .dataframe tbody tr th:only-of-type {\n",
       "        vertical-align: middle;\n",
       "    }\n",
       "\n",
       "    .dataframe tbody tr th {\n",
       "        vertical-align: top;\n",
       "    }\n",
       "\n",
       "    .dataframe thead th {\n",
       "        text-align: right;\n",
       "    }\n",
       "</style>\n",
       "<table border=\"1\" class=\"dataframe\">\n",
       "  <thead>\n",
       "    <tr style=\"text-align: right;\">\n",
       "      <th></th>\n",
       "      <th>id</th>\n",
       "      <th>batting_team</th>\n",
       "      <th>bowling_team</th>\n",
       "      <th>ball</th>\n",
       "      <th>batsman_runs</th>\n",
       "      <th>extra_runs</th>\n",
       "      <th>total_runs</th>\n",
       "      <th>non_boundary</th>\n",
       "      <th>is_wicket</th>\n",
       "    </tr>\n",
       "  </thead>\n",
       "  <tbody>\n",
       "    <tr>\n",
       "      <th>0</th>\n",
       "      <td>335982</td>\n",
       "      <td>Kolkata Knight Riders</td>\n",
       "      <td>Royal Challengers Bangalore</td>\n",
       "      <td>448</td>\n",
       "      <td>205</td>\n",
       "      <td>17</td>\n",
       "      <td>222</td>\n",
       "      <td>0</td>\n",
       "      <td>3</td>\n",
       "    </tr>\n",
       "    <tr>\n",
       "      <th>1</th>\n",
       "      <td>335982</td>\n",
       "      <td>Royal Challengers Bangalore</td>\n",
       "      <td>Kolkata Knight Riders</td>\n",
       "      <td>383</td>\n",
       "      <td>63</td>\n",
       "      <td>19</td>\n",
       "      <td>82</td>\n",
       "      <td>0</td>\n",
       "      <td>10</td>\n",
       "    </tr>\n",
       "    <tr>\n",
       "      <th>2</th>\n",
       "      <td>335983</td>\n",
       "      <td>Chennai Super Kings</td>\n",
       "      <td>Kings XI Punjab</td>\n",
       "      <td>449</td>\n",
       "      <td>234</td>\n",
       "      <td>6</td>\n",
       "      <td>240</td>\n",
       "      <td>0</td>\n",
       "      <td>5</td>\n",
       "    </tr>\n",
       "    <tr>\n",
       "      <th>3</th>\n",
       "      <td>335983</td>\n",
       "      <td>Kings XI Punjab</td>\n",
       "      <td>Chennai Super Kings</td>\n",
       "      <td>449</td>\n",
       "      <td>196</td>\n",
       "      <td>11</td>\n",
       "      <td>207</td>\n",
       "      <td>0</td>\n",
       "      <td>4</td>\n",
       "    </tr>\n",
       "    <tr>\n",
       "      <th>4</th>\n",
       "      <td>335984</td>\n",
       "      <td>Delhi Daredevils</td>\n",
       "      <td>Rajasthan Royals</td>\n",
       "      <td>358</td>\n",
       "      <td>122</td>\n",
       "      <td>10</td>\n",
       "      <td>132</td>\n",
       "      <td>0</td>\n",
       "      <td>1</td>\n",
       "    </tr>\n",
       "    <tr>\n",
       "      <th>...</th>\n",
       "      <td>...</td>\n",
       "      <td>...</td>\n",
       "      <td>...</td>\n",
       "      <td>...</td>\n",
       "      <td>...</td>\n",
       "      <td>...</td>\n",
       "      <td>...</td>\n",
       "      <td>...</td>\n",
       "      <td>...</td>\n",
       "    </tr>\n",
       "    <tr>\n",
       "      <th>1623</th>\n",
       "      <td>1237178</td>\n",
       "      <td>Sunrisers Hyderabad</td>\n",
       "      <td>Royal Challengers Bangalore</td>\n",
       "      <td>445</td>\n",
       "      <td>122</td>\n",
       "      <td>10</td>\n",
       "      <td>132</td>\n",
       "      <td>0</td>\n",
       "      <td>4</td>\n",
       "    </tr>\n",
       "    <tr>\n",
       "      <th>1624</th>\n",
       "      <td>1237180</td>\n",
       "      <td>Delhi Capitals</td>\n",
       "      <td>Sunrisers Hyderabad</td>\n",
       "      <td>455</td>\n",
       "      <td>181</td>\n",
       "      <td>8</td>\n",
       "      <td>189</td>\n",
       "      <td>1</td>\n",
       "      <td>3</td>\n",
       "    </tr>\n",
       "    <tr>\n",
       "      <th>1625</th>\n",
       "      <td>1237180</td>\n",
       "      <td>Sunrisers Hyderabad</td>\n",
       "      <td>Delhi Capitals</td>\n",
       "      <td>456</td>\n",
       "      <td>166</td>\n",
       "      <td>6</td>\n",
       "      <td>172</td>\n",
       "      <td>0</td>\n",
       "      <td>8</td>\n",
       "    </tr>\n",
       "    <tr>\n",
       "      <th>1626</th>\n",
       "      <td>1237181</td>\n",
       "      <td>Delhi Capitals</td>\n",
       "      <td>Mumbai Indians</td>\n",
       "      <td>441</td>\n",
       "      <td>152</td>\n",
       "      <td>4</td>\n",
       "      <td>156</td>\n",
       "      <td>0</td>\n",
       "      <td>7</td>\n",
       "    </tr>\n",
       "    <tr>\n",
       "      <th>1627</th>\n",
       "      <td>1237181</td>\n",
       "      <td>Mumbai Indians</td>\n",
       "      <td>Delhi Capitals</td>\n",
       "      <td>388</td>\n",
       "      <td>153</td>\n",
       "      <td>4</td>\n",
       "      <td>157</td>\n",
       "      <td>0</td>\n",
       "      <td>5</td>\n",
       "    </tr>\n",
       "  </tbody>\n",
       "</table>\n",
       "<p>1628 rows × 9 columns</p>\n",
       "</div>"
      ],
      "text/plain": [
       "           id                 batting_team                 bowling_team  ball  \\\n",
       "0      335982        Kolkata Knight Riders  Royal Challengers Bangalore   448   \n",
       "1      335982  Royal Challengers Bangalore        Kolkata Knight Riders   383   \n",
       "2      335983          Chennai Super Kings              Kings XI Punjab   449   \n",
       "3      335983              Kings XI Punjab          Chennai Super Kings   449   \n",
       "4      335984             Delhi Daredevils             Rajasthan Royals   358   \n",
       "...       ...                          ...                          ...   ...   \n",
       "1623  1237178          Sunrisers Hyderabad  Royal Challengers Bangalore   445   \n",
       "1624  1237180               Delhi Capitals          Sunrisers Hyderabad   455   \n",
       "1625  1237180          Sunrisers Hyderabad               Delhi Capitals   456   \n",
       "1626  1237181               Delhi Capitals               Mumbai Indians   441   \n",
       "1627  1237181               Mumbai Indians               Delhi Capitals   388   \n",
       "\n",
       "      batsman_runs  extra_runs  total_runs  non_boundary  is_wicket  \n",
       "0              205          17         222             0          3  \n",
       "1               63          19          82             0         10  \n",
       "2              234           6         240             0          5  \n",
       "3              196          11         207             0          4  \n",
       "4              122          10         132             0          1  \n",
       "...            ...         ...         ...           ...        ...  \n",
       "1623           122          10         132             0          4  \n",
       "1624           181           8         189             1          3  \n",
       "1625           166           6         172             0          8  \n",
       "1626           152           4         156             0          7  \n",
       "1627           153           4         157             0          5  \n",
       "\n",
       "[1628 rows x 9 columns]"
      ]
     },
     "execution_count": 78,
     "metadata": {},
     "output_type": "execute_result"
    }
   ],
   "source": [
    "total_runs_in_match = df.groupby(['id','batting_team','bowling_team']).sum()\n",
    "total_runs_in_match = total_runs_in_match.drop(labels=['inning','over'],axis=1).reset_index()\n",
    "total_runs_in_match"
   ]
  },
  {
   "cell_type": "markdown",
   "id": "09a05145",
   "metadata": {},
   "source": [
    "Now, to make the winner team's calculation easy, let's split the data of same ids into two different dataframes so that we can directly compare the 'total_runs' scored by each team. Here we are spliting the tables by steps of 2 because the data is arranged in the increasing order of id."
   ]
  },
  {
   "cell_type": "code",
   "execution_count": null,
   "id": "4b884f8f",
   "metadata": {},
   "outputs": [],
   "source": [
    "df1=pd.DataFrame(total_runs_in_match[::2]).reset_index()\n",
    "df2=pd.DataFrame(total_runs_in_match[1::2]).reset_index()"
   ]
  },
  {
   "cell_type": "markdown",
   "id": "18dd0697",
   "metadata": {},
   "source": [
    "Now we can directly comare the two tables 'total_runs' and decide which team won the match. After storing the data, we can again merge the tables again."
   ]
  },
  {
   "cell_type": "code",
   "execution_count": 79,
   "id": "c35a4286",
   "metadata": {},
   "outputs": [
    {
     "data": {
      "text/html": [
       "<div>\n",
       "<style scoped>\n",
       "    .dataframe tbody tr th:only-of-type {\n",
       "        vertical-align: middle;\n",
       "    }\n",
       "\n",
       "    .dataframe tbody tr th {\n",
       "        vertical-align: top;\n",
       "    }\n",
       "\n",
       "    .dataframe thead th {\n",
       "        text-align: right;\n",
       "    }\n",
       "</style>\n",
       "<table border=\"1\" class=\"dataframe\">\n",
       "  <thead>\n",
       "    <tr style=\"text-align: right;\">\n",
       "      <th></th>\n",
       "      <th>index</th>\n",
       "      <th>id</th>\n",
       "      <th>batting_team</th>\n",
       "      <th>bowling_team</th>\n",
       "      <th>ball</th>\n",
       "      <th>batsman_runs</th>\n",
       "      <th>extra_runs</th>\n",
       "      <th>total_runs</th>\n",
       "      <th>non_boundary</th>\n",
       "      <th>is_wicket</th>\n",
       "      <th>winner</th>\n",
       "    </tr>\n",
       "  </thead>\n",
       "  <tbody>\n",
       "    <tr>\n",
       "      <th>0</th>\n",
       "      <td>0</td>\n",
       "      <td>335982</td>\n",
       "      <td>Kolkata Knight Riders</td>\n",
       "      <td>Royal Challengers Bangalore</td>\n",
       "      <td>448</td>\n",
       "      <td>205</td>\n",
       "      <td>17</td>\n",
       "      <td>222</td>\n",
       "      <td>0</td>\n",
       "      <td>3</td>\n",
       "      <td>Kolkata Knight Riders</td>\n",
       "    </tr>\n",
       "    <tr>\n",
       "      <th>1</th>\n",
       "      <td>2</td>\n",
       "      <td>335983</td>\n",
       "      <td>Chennai Super Kings</td>\n",
       "      <td>Kings XI Punjab</td>\n",
       "      <td>449</td>\n",
       "      <td>234</td>\n",
       "      <td>6</td>\n",
       "      <td>240</td>\n",
       "      <td>0</td>\n",
       "      <td>5</td>\n",
       "      <td>Chennai Super Kings</td>\n",
       "    </tr>\n",
       "    <tr>\n",
       "      <th>2</th>\n",
       "      <td>4</td>\n",
       "      <td>335984</td>\n",
       "      <td>Delhi Daredevils</td>\n",
       "      <td>Rajasthan Royals</td>\n",
       "      <td>358</td>\n",
       "      <td>122</td>\n",
       "      <td>10</td>\n",
       "      <td>132</td>\n",
       "      <td>0</td>\n",
       "      <td>1</td>\n",
       "      <td>Delhi Daredevils</td>\n",
       "    </tr>\n",
       "    <tr>\n",
       "      <th>3</th>\n",
       "      <td>6</td>\n",
       "      <td>335985</td>\n",
       "      <td>Mumbai Indians</td>\n",
       "      <td>Royal Challengers Bangalore</td>\n",
       "      <td>441</td>\n",
       "      <td>154</td>\n",
       "      <td>11</td>\n",
       "      <td>165</td>\n",
       "      <td>0</td>\n",
       "      <td>7</td>\n",
       "      <td>Royal Challengers Bangalore</td>\n",
       "    </tr>\n",
       "    <tr>\n",
       "      <th>4</th>\n",
       "      <td>8</td>\n",
       "      <td>335986</td>\n",
       "      <td>Deccan Chargers</td>\n",
       "      <td>Kolkata Knight Riders</td>\n",
       "      <td>431</td>\n",
       "      <td>100</td>\n",
       "      <td>10</td>\n",
       "      <td>110</td>\n",
       "      <td>0</td>\n",
       "      <td>10</td>\n",
       "      <td>Kolkata Knight Riders</td>\n",
       "    </tr>\n",
       "    <tr>\n",
       "      <th>...</th>\n",
       "      <td>...</td>\n",
       "      <td>...</td>\n",
       "      <td>...</td>\n",
       "      <td>...</td>\n",
       "      <td>...</td>\n",
       "      <td>...</td>\n",
       "      <td>...</td>\n",
       "      <td>...</td>\n",
       "      <td>...</td>\n",
       "      <td>...</td>\n",
       "      <td>...</td>\n",
       "    </tr>\n",
       "    <tr>\n",
       "      <th>1623</th>\n",
       "      <td>1619</td>\n",
       "      <td>1216547</td>\n",
       "      <td>Royal Challengers Bangalore</td>\n",
       "      <td>Mumbai Indians</td>\n",
       "      <td>441</td>\n",
       "      <td>191</td>\n",
       "      <td>10</td>\n",
       "      <td>201</td>\n",
       "      <td>0</td>\n",
       "      <td>3</td>\n",
       "      <td>draw</td>\n",
       "    </tr>\n",
       "    <tr>\n",
       "      <th>1624</th>\n",
       "      <td>1621</td>\n",
       "      <td>1237177</td>\n",
       "      <td>Mumbai Indians</td>\n",
       "      <td>Delhi Capitals</td>\n",
       "      <td>427</td>\n",
       "      <td>196</td>\n",
       "      <td>4</td>\n",
       "      <td>200</td>\n",
       "      <td>0</td>\n",
       "      <td>5</td>\n",
       "      <td>Mumbai Indians</td>\n",
       "    </tr>\n",
       "    <tr>\n",
       "      <th>1625</th>\n",
       "      <td>1623</td>\n",
       "      <td>1237178</td>\n",
       "      <td>Sunrisers Hyderabad</td>\n",
       "      <td>Royal Challengers Bangalore</td>\n",
       "      <td>445</td>\n",
       "      <td>122</td>\n",
       "      <td>10</td>\n",
       "      <td>132</td>\n",
       "      <td>0</td>\n",
       "      <td>4</td>\n",
       "      <td>Sunrisers Hyderabad</td>\n",
       "    </tr>\n",
       "    <tr>\n",
       "      <th>1626</th>\n",
       "      <td>1625</td>\n",
       "      <td>1237180</td>\n",
       "      <td>Sunrisers Hyderabad</td>\n",
       "      <td>Delhi Capitals</td>\n",
       "      <td>456</td>\n",
       "      <td>166</td>\n",
       "      <td>6</td>\n",
       "      <td>172</td>\n",
       "      <td>0</td>\n",
       "      <td>8</td>\n",
       "      <td>Delhi Capitals</td>\n",
       "    </tr>\n",
       "    <tr>\n",
       "      <th>1627</th>\n",
       "      <td>1627</td>\n",
       "      <td>1237181</td>\n",
       "      <td>Mumbai Indians</td>\n",
       "      <td>Delhi Capitals</td>\n",
       "      <td>388</td>\n",
       "      <td>153</td>\n",
       "      <td>4</td>\n",
       "      <td>157</td>\n",
       "      <td>0</td>\n",
       "      <td>5</td>\n",
       "      <td>Mumbai Indians</td>\n",
       "    </tr>\n",
       "  </tbody>\n",
       "</table>\n",
       "<p>1628 rows × 11 columns</p>\n",
       "</div>"
      ],
      "text/plain": [
       "      index       id                 batting_team  \\\n",
       "0         0   335982        Kolkata Knight Riders   \n",
       "1         2   335983          Chennai Super Kings   \n",
       "2         4   335984             Delhi Daredevils   \n",
       "3         6   335985               Mumbai Indians   \n",
       "4         8   335986              Deccan Chargers   \n",
       "...     ...      ...                          ...   \n",
       "1623   1619  1216547  Royal Challengers Bangalore   \n",
       "1624   1621  1237177               Mumbai Indians   \n",
       "1625   1623  1237178          Sunrisers Hyderabad   \n",
       "1626   1625  1237180          Sunrisers Hyderabad   \n",
       "1627   1627  1237181               Mumbai Indians   \n",
       "\n",
       "                     bowling_team  ball  batsman_runs  extra_runs  total_runs  \\\n",
       "0     Royal Challengers Bangalore   448           205          17         222   \n",
       "1                 Kings XI Punjab   449           234           6         240   \n",
       "2                Rajasthan Royals   358           122          10         132   \n",
       "3     Royal Challengers Bangalore   441           154          11         165   \n",
       "4           Kolkata Knight Riders   431           100          10         110   \n",
       "...                           ...   ...           ...         ...         ...   \n",
       "1623               Mumbai Indians   441           191          10         201   \n",
       "1624               Delhi Capitals   427           196           4         200   \n",
       "1625  Royal Challengers Bangalore   445           122          10         132   \n",
       "1626               Delhi Capitals   456           166           6         172   \n",
       "1627               Delhi Capitals   388           153           4         157   \n",
       "\n",
       "      non_boundary  is_wicket                       winner  \n",
       "0                0          3        Kolkata Knight Riders  \n",
       "1                0          5          Chennai Super Kings  \n",
       "2                0          1             Delhi Daredevils  \n",
       "3                0          7  Royal Challengers Bangalore  \n",
       "4                0         10        Kolkata Knight Riders  \n",
       "...            ...        ...                          ...  \n",
       "1623             0          3                         draw  \n",
       "1624             0          5               Mumbai Indians  \n",
       "1625             0          4          Sunrisers Hyderabad  \n",
       "1626             0          8               Delhi Capitals  \n",
       "1627             0          5               Mumbai Indians  \n",
       "\n",
       "[1628 rows x 11 columns]"
      ]
     },
     "execution_count": 79,
     "metadata": {},
     "output_type": "execute_result"
    }
   ],
   "source": [
    "\n",
    "length = len(df1)\n",
    "\n",
    "for itr in range (0, length):\n",
    "    if(df1.loc[itr, 'id'] == df2.loc[itr, 'id']):\n",
    "        if(df1.loc[itr, 'total_runs'] > df2.loc[itr, 'total_runs']):\n",
    "            winner = df1.loc[itr, 'batting_team']\n",
    "            df1.at[itr, 'winner'] = winner\n",
    "            df2.at[itr, 'winner'] = winner\n",
    "\n",
    "        elif(df1.loc[itr, 'total_runs'] < df2.loc[itr, 'total_runs']):\n",
    "            winner = df2.loc[itr, 'batting_team']\n",
    "            df2.at[itr, 'winner'] = winner\n",
    "            df1.at[itr, 'winner'] = winner\n",
    "\n",
    "        else:\n",
    "            df1.at[itr, 'winner'] = 'Draw'\n",
    "            df2.at[itr, 'winner'] = 'Draw'\n",
    "\n",
    "# merging the two tables again\n",
    "winner_team_data = pd.merge(df1, df2, how= 'outer')\n",
    "winner_team_data"
   ]
  },
  {
   "cell_type": "code",
   "execution_count": 71,
   "id": "d0e02b79",
   "metadata": {},
   "outputs": [],
   "source": []
  }
 ],
 "metadata": {
  "kernelspec": {
   "display_name": "Python 3.10.6 64-bit (windows store)",
   "language": "python",
   "name": "python3"
  },
  "language_info": {
   "codemirror_mode": {
    "name": "ipython",
    "version": 3
   },
   "file_extension": ".py",
   "mimetype": "text/x-python",
   "name": "python",
   "nbconvert_exporter": "python",
   "pygments_lexer": "ipython3",
   "version": "3.10.6"
  },
  "vscode": {
   "interpreter": {
    "hash": "646e574d0f0abd28d90d0acc2a8a5d150f3935c6a60a5ba1256abe0f794b5742"
   }
  }
 },
 "nbformat": 4,
 "nbformat_minor": 5
}
